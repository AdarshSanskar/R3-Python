{
 "cells": [
  {
   "cell_type": "code",
   "execution_count": 17,
   "id": "14f9d4d0-5c69-4d58-b371-89d72b6e8ad1",
   "metadata": {},
   "outputs": [],
   "source": [
    "# Day 14: For Loops \n",
    "# Even and Odd Number from 1 to 20 ---> Done\n",
    "\n",
    "# Multiplication table ---> Done\n",
    "\n",
    "# Number is prime or not\n",
    "\n",
    "# print A right angeled triangle\n",
    "\n",
    "# print fibanacci series\n",
    "\n",
    "# find factorial of a number\n",
    "\n",
    "# print natural number, its square anf total sum ---> Done"
   ]
  },
  {
   "cell_type": "code",
   "execution_count": 10,
   "id": "0448b9c3-2266-4ca0-bac6-2e9bb012b4ba",
   "metadata": {},
   "outputs": [
    {
     "name": "stdout",
     "output_type": "stream",
     "text": [
      "10\n",
      "9\n",
      "8\n",
      "7\n",
      "6\n",
      "5\n",
      "4\n",
      "3\n",
      "2\n",
      "1\n"
     ]
    }
   ],
   "source": [
    "#reverse from 1 to 10 using for loop\n",
    "for i in range(10, 0, -1):\n",
    "    print(i)"
   ]
  },
  {
   "cell_type": "code",
   "execution_count": 12,
   "id": "7caa6ba8-1b1a-4e68-b0b5-c34d1a1c03b8",
   "metadata": {},
   "outputs": [
    {
     "name": "stdout",
     "output_type": "stream",
     "text": [
      "Even Numbers : \n",
      "0 2 4 6 8 10 12 14 16 18 20 \n",
      "Odd Numbers : \n",
      "1 3 5 7 9 11 13 15 17 19 "
     ]
    }
   ],
   "source": [
    "# Even odd Numbers from 1 to 20\n",
    "print(\"Even Numbers : \")\n",
    "for i in range(21):\n",
    "    if i % 2 == 0:\n",
    "        print(i, end = \" \")\n",
    "print(\"\\nOdd Numbers : \")\n",
    "for i in range(21):\n",
    "    if i % 2 != 0:\n",
    "        print(i, end = \" \")\n",
    "\n"
   ]
  },
  {
   "cell_type": "code",
   "execution_count": 5,
   "id": "b25fefaf-aa85-44db-9958-35d1f5c75f77",
   "metadata": {},
   "outputs": [
    {
     "name": "stdin",
     "output_type": "stream",
     "text": [
      "Enter the limit :  10\n"
     ]
    },
    {
     "name": "stdout",
     "output_type": "stream",
     "text": [
      "Natural Number: Square: Cube:\n",
      "1\t\t1\t1\n",
      "2\t\t4\t8\n",
      "3\t\t9\t27\n",
      "4\t\t16\t64\n",
      "5\t\t25\t125\n",
      "6\t\t36\t216\n",
      "7\t\t49\t343\n",
      "8\t\t64\t512\n",
      "9\t\t81\t729\n",
      "10\t\t100\t1000\n",
      "Sum :  55\n"
     ]
    }
   ],
   "source": [
    "# print natural number, its square, cube and total sum\n",
    "limit = int(input(\"Enter the limit : \"))\n",
    "add = 0\n",
    "print(\"Natural Number: Square: Cube:\")\n",
    "for i in range(1, limit+1):\n",
    "    print(f\"{i}\\t\\t{i ** 2}\\t{i ** 3}\")\n",
    "    add += i\n",
    "\n",
    "print(\"Sum : \",add)"
   ]
  },
  {
   "cell_type": "code",
   "execution_count": 22,
   "id": "6ed65286-7188-423a-a78d-32c5a846aae4",
   "metadata": {},
   "outputs": [
    {
     "name": "stdin",
     "output_type": "stream",
     "text": [
      "Enter any Number :  12\n"
     ]
    },
    {
     "name": "stdout",
     "output_type": "stream",
     "text": [
      "12 * 1 = 12\n",
      "12 * 2 = 24\n",
      "12 * 3 = 36\n",
      "12 * 4 = 48\n",
      "12 * 5 = 60\n",
      "12 * 6 = 72\n",
      "12 * 7 = 84\n",
      "12 * 8 = 96\n",
      "12 * 9 = 108\n",
      "12 * 10 = 120\n"
     ]
    }
   ],
   "source": [
    "# Multiplication Tables\n",
    "a = int(input(\"Enter any Number : \"))\n",
    "for i in range(1, 11):\n",
    "    print(f\"{a} * {i} = {a * i}\")"
   ]
  },
  {
   "cell_type": "code",
   "execution_count": 25,
   "id": "da1da2ef-7f14-4524-8c25-f4496555e587",
   "metadata": {},
   "outputs": [
    {
     "name": "stdin",
     "output_type": "stream",
     "text": [
      "Enter the Limit :  50\n"
     ]
    },
    {
     "name": "stdout",
     "output_type": "stream",
     "text": [
      "2 3 5 7 11 13 17 19 23 29 31 37 41 43 47 "
     ]
    }
   ],
   "source": [
    "#Prime Number Series\n",
    "limit = int(input(\"Enter the Limit : \"))\n",
    "is_Prime = True\n",
    "for i in range(2, limit+1):\n",
    "    is_Prime = True\n",
    "    for j in range(2, i):\n",
    "        if i % j == 0:\n",
    "            is_Prime = False\n",
    "        \n",
    "\n",
    "    if (is_Prime == True):\n",
    "        print(i, end = \" \")"
   ]
  },
  {
   "cell_type": "code",
   "execution_count": 33,
   "id": "8de34cd0-1d72-4404-b536-40e0b7085666",
   "metadata": {},
   "outputs": [
    {
     "name": "stdin",
     "output_type": "stream",
     "text": [
      "Enter the Limit :  1\n"
     ]
    },
    {
     "name": "stdout",
     "output_type": "stream",
     "text": [
      "0\n"
     ]
    }
   ],
   "source": [
    "#Fibanacci Series\n",
    "limit = int(input(\"Enter the Limit : \"))\n",
    "a = 0\n",
    "b = 1\n",
    "c = a + b\n",
    "if limit == 1:\n",
    "    print(a)\n",
    "elif limit == 2:\n",
    "    print(f\"{a} {b}\")\n",
    "elif limit == 3:\n",
    "    print(f\"{a} {b} {c}\")\n",
    "else:\n",
    "    print(f\"{a} {b} {c}\", end = \" \")\n",
    "    for i in range(limit-3):\n",
    "        a = b\n",
    "        b = c\n",
    "        c = a + b\n",
    "        print(c, end = \" \")"
   ]
  },
  {
   "cell_type": "code",
   "execution_count": 39,
   "id": "f9fcf74e-4012-4622-8f03-7b94f58a1dcf",
   "metadata": {},
   "outputs": [
    {
     "name": "stdin",
     "output_type": "stream",
     "text": [
      "Enter Number of Rows :  5\n"
     ]
    },
    {
     "name": "stdout",
     "output_type": "stream",
     "text": [
      "1 \n",
      "1 2 \n",
      "1 2 3 \n",
      "1 2 3 4 \n",
      "1 2 3 4 5 \n"
     ]
    }
   ],
   "source": [
    "# Right angle triangle\n",
    "row = int(input(\"Enter Number of Rows : \"))\n",
    "for i in range(1, row+1):\n",
    "    for j in range(1, i+1):\n",
    "        print(j, end = \" \")\n",
    "    print()"
   ]
  },
  {
   "cell_type": "code",
   "execution_count": 15,
   "id": "5416ee88-3e4e-48dd-9394-aa6a4ed66046",
   "metadata": {},
   "outputs": [
    {
     "name": "stdin",
     "output_type": "stream",
     "text": [
      "Enter the Limit :  5\n"
     ]
    },
    {
     "name": "stdout",
     "output_type": "stream",
     "text": [
      "    *\n",
      "   ***\n",
      "  *****\n",
      " *******\n"
     ]
    }
   ],
   "source": [
    "# Pyramid\n",
    "#\n",
    "#   *\n",
    "#  ***\n",
    "# *****\n",
    "#********\n",
    "n = int(input(\"Enter the Limit : \"))\n",
    "for i in range(1,n):\n",
    "    print(\" \"* (n-i),end = \"\")\n",
    "    print(\"*\"* (2*i-1), end = \"\")\n",
    "    print()"
   ]
  },
  {
   "cell_type": "code",
   "execution_count": 16,
   "id": "2ee09fe4-06db-4c05-bad2-465a48cb3a1b",
   "metadata": {},
   "outputs": [
    {
     "name": "stdin",
     "output_type": "stream",
     "text": [
      "Enter the Limmit :  10\n"
     ]
    },
    {
     "name": "stdout",
     "output_type": "stream",
     "text": [
      "Factorial of 1 : 1\n",
      "Factorial of 2 : 2\n",
      "Factorial of 3 : 6\n",
      "Factorial of 4 : 24\n",
      "Factorial of 5 : 120\n",
      "Factorial of 6 : 720\n",
      "Factorial of 7 : 5040\n",
      "Factorial of 8 : 40320\n",
      "Factorial of 9 : 362880\n",
      "Factorial of 10 : 3628800\n"
     ]
    }
   ],
   "source": [
    "# Factorial Series\n",
    "limit = int(input(\"Enter the Limmit : \"))\n",
    "for i in range(1, limit+1):\n",
    "    fact = 1\n",
    "    for j in range(1, i+1):\n",
    "        fact *= j\n",
    "    print(f\"Factorial of {i} : {fact}\")"
   ]
  },
  {
   "cell_type": "code",
   "execution_count": 14,
   "id": "7cb00f7f-a517-4153-aac6-49ac196efff3",
   "metadata": {},
   "outputs": [
    {
     "name": "stdin",
     "output_type": "stream",
     "text": [
      "Enter any Number :  5\n"
     ]
    },
    {
     "name": "stdout",
     "output_type": "stream",
     "text": [
      "Factorial :  120\n"
     ]
    }
   ],
   "source": [
    "#Factorial\n",
    "num = int(input(\"Enter any Number : \"))\n",
    "fact = 1\n",
    "for i in range(1, num+1):\n",
    "    fact *= i\n",
    "print(\"Factorial : \", fact)"
   ]
  },
  {
   "cell_type": "code",
   "execution_count": null,
   "id": "2b1a2003-2cbe-47f7-b923-b30a38cc5cb5",
   "metadata": {},
   "outputs": [],
   "source": [
    " "
   ]
  }
 ],
 "metadata": {
  "kernelspec": {
   "display_name": "Python [conda env:base] *",
   "language": "python",
   "name": "conda-base-py"
  },
  "language_info": {
   "codemirror_mode": {
    "name": "ipython",
    "version": 3
   },
   "file_extension": ".py",
   "mimetype": "text/x-python",
   "name": "python",
   "nbconvert_exporter": "python",
   "pygments_lexer": "ipython3",
   "version": "3.12.7"
  }
 },
 "nbformat": 4,
 "nbformat_minor": 5
}
