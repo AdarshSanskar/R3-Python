{
 "cells": [
  {
   "cell_type": "code",
   "execution_count": 1,
   "id": "956d3ad5-0c67-4629-a884-1eae4cfd29bd",
   "metadata": {},
   "outputs": [],
   "source": [
    "# Methods of list"
   ]
  },
  {
   "cell_type": "code",
   "execution_count": 4,
   "id": "5c0d3a2f-b9ef-4579-b44c-0e8fc74f973f",
   "metadata": {},
   "outputs": [
    {
     "name": "stdout",
     "output_type": "stream",
     "text": [
      "[1, 2, 'Adarsh', 3, 4, 'Tanay', 'Yadnesh']\n"
     ]
    }
   ],
   "source": [
    "l = [1, 2, 'Adarsh', 3, 4, 'Tanay', 'Yadnesh']\n",
    "print(l)"
   ]
  },
  {
   "cell_type": "code",
   "execution_count": 7,
   "id": "43e7f6bd-8f04-47ea-99d9-4ace7f1f64da",
   "metadata": {},
   "outputs": [
    {
     "name": "stdout",
     "output_type": "stream",
     "text": [
      "[1, 2, 'Adarsh', 3, 4, 'Tanay', 'Yadnesh', 45, 45, 45]\n"
     ]
    }
   ],
   "source": [
    "l.append(45)\n",
    "print(l)"
   ]
  },
  {
   "cell_type": "code",
   "execution_count": 10,
   "id": "ef9d9705-ecc8-4958-9ae9-a8db0dc88e9e",
   "metadata": {},
   "outputs": [
    {
     "name": "stdout",
     "output_type": "stream",
     "text": [
      "L  :  [1, 2, 'Adarsh', 3, 4, 'Tanay', 'Yadnesh', 45, 45, 45]\n",
      "L1 :  [1, 2, 'Adarsh', 3, 4, 'Tanay', 'Yadnesh', 45, 45, 45]\n"
     ]
    }
   ],
   "source": [
    "l1 = l.copy()\n",
    "print(\"L  : \", l)\n",
    "print(\"L1 : \", l1)"
   ]
  },
  {
   "cell_type": "code",
   "execution_count": 11,
   "id": "58877846-7e70-4f4d-a50f-e504a68e7f13",
   "metadata": {},
   "outputs": [
    {
     "name": "stdout",
     "output_type": "stream",
     "text": [
      "[]\n"
     ]
    }
   ],
   "source": [
    "l1.clear()\n",
    "print(l1)"
   ]
  },
  {
   "cell_type": "code",
   "execution_count": 12,
   "id": "c8a8717e-f186-4ed0-932d-62c44fc9c77c",
   "metadata": {},
   "outputs": [
    {
     "data": {
      "text/plain": [
       "3"
      ]
     },
     "execution_count": 12,
     "metadata": {},
     "output_type": "execute_result"
    }
   ],
   "source": [
    "l.count(45)"
   ]
  },
  {
   "cell_type": "code",
   "execution_count": 14,
   "id": "a302e849-0122-4388-83cb-274f1467b0ae",
   "metadata": {},
   "outputs": [
    {
     "name": "stdout",
     "output_type": "stream",
     "text": [
      "[1, 2, 'Adarsh', 3, 4, 'Tanay', 'Yadnesh', 45, 45, 45, 1, 4, 7, 8, 1, 4, 7, 8]\n"
     ]
    }
   ],
   "source": [
    "l.extend([1, 4, 7, 8])\n",
    "print(l)"
   ]
  },
  {
   "cell_type": "code",
   "execution_count": 15,
   "id": "8a32b787-66de-4e62-8748-a456c4862a93",
   "metadata": {},
   "outputs": [
    {
     "data": {
      "text/plain": [
       "7"
      ]
     },
     "execution_count": 15,
     "metadata": {},
     "output_type": "execute_result"
    }
   ],
   "source": [
    "l.index(45)"
   ]
  },
  {
   "cell_type": "code",
   "execution_count": 16,
   "id": "c6fe5fd9-dbe7-4e02-9b9e-dbeb49d6c88a",
   "metadata": {},
   "outputs": [],
   "source": [
    "l.insert(0, 112)"
   ]
  },
  {
   "cell_type": "code",
   "execution_count": 17,
   "id": "d530f678-0b0a-424e-8b00-fd9e9cdd2f97",
   "metadata": {},
   "outputs": [
    {
     "name": "stdout",
     "output_type": "stream",
     "text": [
      "[112, 1, 2, 'Adarsh', 3, 4, 'Tanay', 'Yadnesh', 45, 45, 45, 1, 4, 7, 8, 1, 4, 7, 8]\n"
     ]
    }
   ],
   "source": [
    "print(l)"
   ]
  },
  {
   "cell_type": "code",
   "execution_count": 19,
   "id": "15ea790b-7d7b-4014-a98e-aedcebad1d17",
   "metadata": {},
   "outputs": [
    {
     "name": "stdout",
     "output_type": "stream",
     "text": [
      "[112, 1, 2, 'Adarsh', 3, 4, 'Tanay', 'Yadnesh', 45, 45, 45, 1, 4, 7, 8, 1, 4]\n"
     ]
    }
   ],
   "source": [
    "l.pop()\n",
    "print(l)"
   ]
  },
  {
   "cell_type": "code",
   "execution_count": 26,
   "id": "4aa0b117-ee97-49e9-a405-6000630167be",
   "metadata": {},
   "outputs": [
    {
     "name": "stdout",
     "output_type": "stream",
     "text": [
      "[4, 1, 8, 7, 4, 1, 45, 4, 3, 2, 1, 112]\n"
     ]
    }
   ],
   "source": [
    "l.remove(45)\n",
    "print(l)"
   ]
  },
  {
   "cell_type": "code",
   "execution_count": 21,
   "id": "4242129a-c620-4b87-8b91-957e83e7f628",
   "metadata": {},
   "outputs": [
    {
     "name": "stdout",
     "output_type": "stream",
     "text": [
      "[4, 1, 8, 7, 4, 1, 45, 45, 'Yadnesh', 'Tanay', 4, 3, 'Adarsh', 2, 1, 112]\n"
     ]
    }
   ],
   "source": [
    "l.reverse()\n",
    "print(l)"
   ]
  },
  {
   "cell_type": "code",
   "execution_count": 27,
   "id": "916d34c1-36a7-4b08-95e1-01500880a09f",
   "metadata": {},
   "outputs": [
    {
     "name": "stdout",
     "output_type": "stream",
     "text": [
      "[1, 1, 1, 2, 3, 4, 4, 4, 7, 8, 45, 112]\n"
     ]
    }
   ],
   "source": [
    "l.sort()\n",
    "print(l)"
   ]
  },
  {
   "cell_type": "code",
   "execution_count": 28,
   "id": "4c656a6d-7b66-4910-9321-2a44f72b246e",
   "metadata": {},
   "outputs": [
    {
     "name": "stdout",
     "output_type": "stream",
     "text": [
      "[112, 45, 8, 7, 4, 4, 4, 3, 2, 1, 1, 1]\n"
     ]
    }
   ],
   "source": [
    "l.sort(reverse=True)\n",
    "print(l)"
   ]
  },
  {
   "cell_type": "code",
   "execution_count": null,
   "id": "61a54056-01ad-4e49-a5b7-184f2ae42bec",
   "metadata": {},
   "outputs": [],
   "source": []
  }
 ],
 "metadata": {
  "kernelspec": {
   "display_name": "Python 3 (ipykernel)",
   "language": "python",
   "name": "python3"
  },
  "language_info": {
   "codemirror_mode": {
    "name": "ipython",
    "version": 3
   },
   "file_extension": ".py",
   "mimetype": "text/x-python",
   "name": "python",
   "nbconvert_exporter": "python",
   "pygments_lexer": "ipython3",
   "version": "3.13.4"
  }
 },
 "nbformat": 4,
 "nbformat_minor": 5
}
