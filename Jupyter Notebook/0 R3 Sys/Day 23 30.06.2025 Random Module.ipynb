{
 "cells": [
  {
   "cell_type": "code",
   "execution_count": 1,
   "id": "a198be1f-7a74-4f62-a532-e4ae4ba0b1ec",
   "metadata": {},
   "outputs": [],
   "source": [
    "# Day 23 : 30/06/2025\n",
    "# Random Module"
   ]
  },
  {
   "cell_type": "code",
   "execution_count": 2,
   "id": "c7cbd994-8b29-4064-b429-0a5687977f7b",
   "metadata": {},
   "outputs": [],
   "source": [
    "# randrange() : Returns a random number from a series of the given number\n"
   ]
  },
  {
   "cell_type": "code",
   "execution_count": 15,
   "id": "bc4afe52-13cf-451f-826a-b60dd2a394d0",
   "metadata": {},
   "outputs": [
    {
     "data": {
      "text/plain": [
       "13"
      ]
     },
     "execution_count": 15,
     "metadata": {},
     "output_type": "execute_result"
    }
   ],
   "source": [
    "import random as r\n",
    "r.randrange(100)"
   ]
  },
  {
   "cell_type": "code",
   "execution_count": 11,
   "id": "3adfe7ff-767c-4a01-aeec-fe327680ec40",
   "metadata": {},
   "outputs": [
    {
     "name": "stdout",
     "output_type": "stream",
     "text": [
      "1\n"
     ]
    }
   ],
   "source": [
    "print(r.randrange(5))"
   ]
  },
  {
   "cell_type": "code",
   "execution_count": 12,
   "id": "f84f585b-3ba3-40cf-be2c-abc3b929ecd9",
   "metadata": {},
   "outputs": [
    {
     "name": "stdout",
     "output_type": "stream",
     "text": [
      "8 2 14 8 1 12 2 12 6 10 "
     ]
    }
   ],
   "source": [
    "from random import randrange\n",
    "for i in range(10):\n",
    "    print(randrange(15), end = \" \")"
   ]
  },
  {
   "cell_type": "code",
   "execution_count": 14,
   "id": "4ec1bf94-378d-4f5d-9273-eecf986ddddb",
   "metadata": {},
   "outputs": [
    {
     "name": "stdout",
     "output_type": "stream",
     "text": [
      "13\n"
     ]
    }
   ],
   "source": [
    "# randint() : \n",
    "print(r.randint(1, 100))"
   ]
  },
  {
   "cell_type": "code",
   "execution_count": 16,
   "id": "78d22333-01f1-4e66-9e3c-5d3ab606af9a",
   "metadata": {},
   "outputs": [],
   "source": [
    "# randrange() : It can also include Step, we can only provide end position and get no error\n",
    "\n",
    "#randint() : we cannot give step in this, we have to provide start and end position compulsory, it also includes the end positino"
   ]
  },
  {
   "cell_type": "code",
   "execution_count": null,
   "id": "dd5f81d6-8127-4e7c-9a39-434a57c734df",
   "metadata": {},
   "outputs": [],
   "source": []
  },
  {
   "cell_type": "code",
   "execution_count": 17,
   "id": "a86d44b3-9b16-4e6f-a826-ac7f967003e9",
   "metadata": {},
   "outputs": [],
   "source": [
    "# random.random() : Returns a random float number from 0 to 1"
   ]
  },
  {
   "cell_type": "code",
   "execution_count": 23,
   "id": "6b2246f9-0283-4ae9-bd47-f56675a61838",
   "metadata": {},
   "outputs": [
    {
     "name": "stdout",
     "output_type": "stream",
     "text": [
      "0.69\n"
     ]
    }
   ],
   "source": [
    "print(round(r.random(),2))"
   ]
  },
  {
   "cell_type": "code",
   "execution_count": 26,
   "id": "597aef1c-8a1b-458a-a520-f51894906467",
   "metadata": {},
   "outputs": [],
   "source": [
    "# Rock, Paper, Scissors"
   ]
  },
  {
   "cell_type": "code",
   "execution_count": 34,
   "id": "7a37de6c-dd80-4bd9-a96d-098cbc0a0fb2",
   "metadata": {},
   "outputs": [
    {
     "name": "stdout",
     "output_type": "stream",
     "text": [
      "1. Rock\n",
      "2. Paper \n",
      "3. Scissors\n",
      "4. Stop\n"
     ]
    },
    {
     "name": "stdin",
     "output_type": "stream",
     "text": [
      "Enter your Choice :  4\n"
     ]
    }
   ],
   "source": [
    "#### import random as r\n",
    "userScore = 0\n",
    "pyScore = 0\n",
    "print(\"1. Rock\\n2. Paper \\n3. Scissors\\n4. Stop\")\n",
    "userChoice = int(input(\"Enter your Choice : \"))\n",
    "while userChoice != 4 and userScore != 5 and pyScore != 5:\n",
    "    pyChoice = r.randint(1,3)\n",
    "    print(\"*\" * 50)\n",
    "    if pyChoice == 1:\n",
    "        print(\"Python : Rock\")\n",
    "    elif pyChoice == 2:\n",
    "        print(\"Python : Paper\")\n",
    "    else:\n",
    "        print(\"Python : Scissors\")\n",
    "    \n",
    "    if userChoice == 1:\n",
    "        print(\"User : Rock\")\n",
    "    elif userChoice == 2:\n",
    "        print(\"User : Paper\")\n",
    "    elif userChoice == 3:\n",
    "        print(\"User : Scissor\")\n",
    "    print()\n",
    "    \n",
    "    if userChoice == pyChoice:\n",
    "        print(\"Draw\")\n",
    "    elif userChoice == 1 and pyChoice == 2:\n",
    "        pyScore += 1\n",
    "    elif userChoice == 1 and pyChoice == 3:\n",
    "        userScore += 1\n",
    "    elif userChoice == 2 and pyChoice == 1:\n",
    "        userScore += 1\n",
    "    elif userChoice == 2 and pyChoice == 3:\n",
    "        pyScore += 1\n",
    "    elif userChoice == 3 and pyChoice == 1:\n",
    "        pyScore += 1\n",
    "    elif userChoice == 3 and pyChoice == 2:\n",
    "        userScore += 1\n",
    "    print()\n",
    "    print(\"Python Score : \",pyScore)\n",
    "    print(\"User Score : \",userScore)\n",
    "    print(\"*\"*50)\n",
    "    print(\"*\"*50)\n",
    "    if pyScore == 5:\n",
    "        print(\"Python is Winner.....\")\n",
    "        break\n",
    "    elif userScore == 5:\n",
    "        print(\"User is Winner....\")\n",
    "        break\n",
    "\n",
    "    \n",
    "    userChoice = int(input(\"Enter your Choice : \"))"
   ]
  },
  {
   "cell_type": "code",
   "execution_count": 37,
   "id": "5c966ae5-1da5-4396-a047-c1ef1a690c62",
   "metadata": {},
   "outputs": [
    {
     "name": "stdin",
     "output_type": "stream",
     "text": [
      "Enter Length of Password :  7\n"
     ]
    },
    {
     "name": "stdout",
     "output_type": "stream",
     "text": [
      "!JMY/oh\n"
     ]
    }
   ],
   "source": [
    "# Password Generator : \n",
    "l = int(input(\"Enter Length of Password : \"))\n",
    "chars = \"abcdefghijklmnopqrstuvwxyzABCDEFGHIJKLMNOPQRSTUVWXYZ0123456789!@#$%^&*()-_=+[]{}|;:',.<>?/~`\"\n",
    "p = r.sample(chars,k=l)\n",
    "password = ''.join(p)\n",
    "print(password)"
   ]
  },
  {
   "cell_type": "code",
   "execution_count": null,
   "id": "483513a0-4031-42a7-9294-38d931d0a81e",
   "metadata": {},
   "outputs": [],
   "source": [
    "# Number Guessing Game\n",
    "import random\n",
    "\n",
    "secret_number = random.randint(1, 100)\n",
    "attempts = 1\n",
    "\n",
    "while True:\n",
    "    try:\n",
    "        user_guess = int(input(\"Guess the number (1-100): \"))\n",
    "        if user_guess > secret_number:\n",
    "            print(\"Too high! Try a smaller number.\")\n",
    "            attempts += 1\n",
    "        elif user_guess < secret_number:\n",
    "            print(\"Too low! Try a bigger number.\")\n",
    "            attempts += 1\n",
    "        elif user_guess == secret_number:\n",
    "            print(f\"Congratulations! You found the number in {attempts} attempts.\")\n",
    "            break\n",
    "    except ValueError:\n",
    "        print(\"Please enter a valid integer.\")\n"
   ]
  }
 ],
 "metadata": {
  "kernelspec": {
   "display_name": "Python 3 (ipykernel)",
   "language": "python",
   "name": "python3"
  },
  "language_info": {
   "codemirror_mode": {
    "name": "ipython",
    "version": 3
   },
   "file_extension": ".py",
   "mimetype": "text/x-python",
   "name": "python",
   "nbconvert_exporter": "python",
   "pygments_lexer": "ipython3",
   "version": "3.13.5"
  }
 },
 "nbformat": 4,
 "nbformat_minor": 5
}
