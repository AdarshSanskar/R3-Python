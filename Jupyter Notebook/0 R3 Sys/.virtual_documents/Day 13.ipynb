# Day 13: Python Control Structurs

#Conditional
# Looping


# Check +ve or -vw
num = int(input("Enter any Number : "))
if num > 0:
    print(f"{num} is Positive")
elif num < 0:
    print(f"{num} is Negative")
else:
    print(f"{num} is Zero")





#Even Odd
no = int(input("Enter any Number : "))
if no == 0:
    print("The Number is Zero")
elif no % 2 == 0:
    print("Number is Even")
else:
    print("Number is Odd")
    





#Compare Three Numbers
n1 = int(input("Enter Number 1 : "))
n2 = int(input("Enter Number 2 : "))
n3 = int(input("Enter Number 3 : "))
big = 0
if n1 == n2 == n3:
    print("All Numbers are Equal")
elif n1 > n2 and n1 > n3:
    big = n1
elif n2 > n1 and n2 > n3:
    big = n2
elif n3 > n1 and n3 > n2:
    big = n3

print(f"big({n1}, {n2}, {n3}) = {big}")


l = []
print("Enter 3 Elements in List : ")
for i in range(0, 3):
    l.append(int(input("Number : ")))
print("Greatest : ", max(l))





#Vowel
char = input("Enter any Character : ")
if char.isdigit():
    print("Enter Charcater not a Number")
    
elif len(char) > 1:
    print("Enter Only 1 Charcter")
    # exit()
    
else: 
    vowel = "aeiouAEIOU"
    if char in vowel:
        print("The Character is Vowel")
    else:
        print("The Character is Consonant")





#While


#Reverse Number : 
n = int(input("Enter any Number : "))
rev = 0
while n > 0:
    digit = n % 10
    rev = (rev * 10) + digit
    n = n // 10

print("Reverse Number : ", rev)


# Multiplication Tables
a = int(input("Enter any Number : "))
for i in range(1, 11):
    print(f"{a} * {i} = {a * i}")


#Sum of First 10 Numbers
sum = 0
for i in range(1, 11):
    sum += i

print("Sum : ", sum)


sum = 0
i = 1
while i < 11:
    sum += i
    i += 1

print("Sum : ", sum)



# For Else :
for i in range(0,10):
    print(i, end = " ")
else:
    print("\nDone Printing...")


#Palindrome String
string = input("Enter any String : ")
string_new = string.lower()
if string_new == string_new[ : : -1]:
    print("String is Palindrome")
else:
    print("String is not Palindrome")



