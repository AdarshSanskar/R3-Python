{
 "cells": [
  {
   "cell_type": "code",
   "execution_count": 2,
   "id": "74a42435-6538-4291-a86a-930ae1fd9f34",
   "metadata": {},
   "outputs": [
    {
     "name": "stdout",
     "output_type": "stream",
     "text": [
      "Hello World\n"
     ]
    }
   ],
   "source": [
    "print(\"Hello World\")"
   ]
  },
  {
   "cell_type": "code",
   "execution_count": 3,
   "id": "3e15fa0e-b4e3-4d22-9b5a-38081a43f029",
   "metadata": {},
   "outputs": [
    {
     "name": "stdout",
     "output_type": "stream",
     "text": [
      "10 <class 'int'>\n"
     ]
    }
   ],
   "source": [
    "a = 10\n",
    "print(a, type(a))"
   ]
  },
  {
   "cell_type": "code",
   "execution_count": 5,
   "id": "6774e7ae-64fd-494c-bc9f-e68de45bf62b",
   "metadata": {},
   "outputs": [
    {
     "name": "stdout",
     "output_type": "stream",
     "text": [
      "Hello World, \n",
      "Welcome to Python\n"
     ]
    }
   ],
   "source": [
    "str = \"\"\"Hello World, \n",
    "Welcome to Python\"\"\"\n",
    "print(str)"
   ]
  },
  {
   "cell_type": "code",
   "execution_count": 7,
   "id": "42dd9ff6-ff75-4de6-bb0b-1c39d101f10c",
   "metadata": {},
   "outputs": [
    {
     "name": "stdout",
     "output_type": "stream",
     "text": [
      "Before Swapping\n",
      "a :  10\n",
      "b :  20\n",
      "After Swapping\n",
      "a :  20\n",
      "b :  10\n"
     ]
    }
   ],
   "source": [
    "a = 10\n",
    "b = 20\n",
    "print(\"Before Swapping\")\n",
    "print(\"a : \",a)\n",
    "print(\"b : \",b)\n",
    "a,b = b,a\n",
    "print(\"After Swapping\")\n",
    "print(\"a : \",a)\n",
    "print(\"b : \",b)"
   ]
  },
  {
   "cell_type": "code",
   "execution_count": null,
   "id": "adba02b0-a1f2-40f1-b25a-b91beac0afd9",
   "metadata": {},
   "outputs": [],
   "source": [
    "e"
   ]
  }
 ],
 "metadata": {
  "kernelspec": {
   "display_name": "Python [conda env:base] *",
   "language": "python",
   "name": "conda-base-py"
  },
  "language_info": {
   "codemirror_mode": {
    "name": "ipython",
    "version": 3
   },
   "file_extension": ".py",
   "mimetype": "text/x-python",
   "name": "python",
   "nbconvert_exporter": "python",
   "pygments_lexer": "ipython3",
   "version": "3.12.7"
  }
 },
 "nbformat": 4,
 "nbformat_minor": 5
}
