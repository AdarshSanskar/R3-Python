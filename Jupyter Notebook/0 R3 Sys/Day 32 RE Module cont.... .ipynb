{
 "cells": [
  {
   "cell_type": "markdown",
   "id": "7140844b-fbcf-42a3-b3fa-ba8322dcd6aa",
   "metadata": {},
   "source": [
    "# Day 32 : RE Module Cont..."
   ]
  },
  {
   "cell_type": "markdown",
   "id": "88b0b5c4-51e3-4f50-b489-696c634f06cc",
   "metadata": {},
   "source": [
    "* Extracting Name and Mail from the File"
   ]
  },
  {
   "cell_type": "code",
   "execution_count": 8,
   "id": "81bcbeb5-8df7-4e4f-87df-5a433d0f5afe",
   "metadata": {},
   "outputs": [
    {
     "name": "stdin",
     "output_type": "stream",
     "text": [
      "Enter the File Name :  email.txt\n"
     ]
    },
    {
     "name": "stdout",
     "output_type": "stream",
     "text": [
      "--------------------------------------------------\n",
      "\tName : \t\t Mail: \n",
      "--------------------------------------------------\n",
      "\tAdarsh\t\tastile1424@gmail.com\n",
      "\tTanay\t\ttanay1234@gmail.com\n",
      "--------------------------------------------------\n"
     ]
    }
   ],
   "source": [
    "import re\n",
    "try:\n",
    "    fname = input(\"Enter the File Name : \")\n",
    "    with open(fname,\"r\") as fp:\n",
    "        authdata = fp.read()\n",
    "        namelist = re.findall(r\"[A-Z][a-z]+\",authdata)\n",
    "        mailslist = re.findall(r\"\\S+@\\S+\", authdata)\n",
    "        # namelist = re.findall(r\"[A-Z][a-z]+\", authdata)\n",
    "        # mailslist = re.findall(r\"\\S+@\\S+\\.\\S+\", authdata)\n",
    "        print(\"-\"*50)\n",
    "        print(\"\\tName : \\t\\t Mail: \")\n",
    "        print(\"-\"*50)\n",
    "        for name, mail in zip(namelist, mailslist):\n",
    "            print(\"\\t{}\\t\\t{}\".format(name, mail))\n",
    "        else:\n",
    "            print(\"-\"*50)\n",
    "except FileNotFoundError:\n",
    "    print(\"File Does not Exists\")\n",
    "        "
   ]
  },
  {
   "cell_type": "code",
   "execution_count": null,
   "id": "b19af63f-624f-4b3c-b7ed-a1f1a36580b2",
   "metadata": {},
   "outputs": [],
   "source": []
  },
  {
   "cell_type": "code",
   "execution_count": null,
   "id": "e877bd5d-ebab-4838-bf05-6ecb3968eb0c",
   "metadata": {},
   "outputs": [],
   "source": []
  }
 ],
 "metadata": {
  "kernelspec": {
   "display_name": "Python 3.15.3 (new)",
   "language": "python",
   "name": "py315"
  },
  "language_info": {
   "codemirror_mode": {
    "name": "ipython",
    "version": 3
   },
   "file_extension": ".py",
   "mimetype": "text/x-python",
   "name": "python",
   "nbconvert_exporter": "python",
   "pygments_lexer": "ipython3",
   "version": "3.13.5"
  }
 },
 "nbformat": 4,
 "nbformat_minor": 5
}
