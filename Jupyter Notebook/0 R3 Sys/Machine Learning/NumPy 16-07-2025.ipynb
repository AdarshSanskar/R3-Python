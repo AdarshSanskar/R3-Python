{
 "cells": [
  {
   "cell_type": "code",
   "execution_count": 2,
   "id": "a8bdd375-3a51-419c-bc7f-40401ce8df1e",
   "metadata": {},
   "outputs": [
    {
     "name": "stdout",
     "output_type": "stream",
     "text": [
      "2.3.1\n"
     ]
    }
   ],
   "source": [
    "import numpy as np\n",
    "print(np.__version__)\n"
   ]
  },
  {
   "cell_type": "code",
   "execution_count": 3,
   "id": "4924cf5d-44db-4409-ba57-069e9f11f4a2",
   "metadata": {},
   "outputs": [
    {
     "name": "stdout",
     "output_type": "stream",
     "text": [
      "[11 11 11 11 11 11 11 11 11 11]\n"
     ]
    }
   ],
   "source": [
    "lst1 = [1, 2, 3, 4, 5, 6, 7, 8, 9, 10]\n",
    "lst2 = [10, 9, 8, 7, 6, 5, 4, 3, 2, 1]\n",
    "arr1 = np.array(lst1)\n",
    "arr2 = np.array(lst2)\n",
    "print(arr1 + arr2)"
   ]
  },
  {
   "cell_type": "code",
   "execution_count": 4,
   "id": "d0d6af92-d391-4d20-8b09-63801157bfb7",
   "metadata": {},
   "outputs": [
    {
     "data": {
      "text/plain": [
       "1"
      ]
     },
     "execution_count": 4,
     "metadata": {},
     "output_type": "execute_result"
    }
   ],
   "source": [
    "arr1.ndim"
   ]
  },
  {
   "cell_type": "code",
   "execution_count": 5,
   "id": "3d203fc9-25dc-4064-ae32-30fb5faaedc3",
   "metadata": {},
   "outputs": [
    {
     "data": {
      "text/plain": [
       "(10,)"
      ]
     },
     "execution_count": 5,
     "metadata": {},
     "output_type": "execute_result"
    }
   ],
   "source": [
    "arr2.shape"
   ]
  },
  {
   "cell_type": "code",
   "execution_count": 6,
   "id": "4c448546-bbcd-4e2d-9349-45ade10b71ca",
   "metadata": {},
   "outputs": [
    {
     "name": "stdout",
     "output_type": "stream",
     "text": [
      "[ 0  2  4  6  8 10 12 14 16 18]\n"
     ]
    }
   ],
   "source": [
    "arr = np.arange(0, 20, 2)\n",
    "print(arr)"
   ]
  },
  {
   "cell_type": "code",
   "execution_count": 16,
   "id": "d320441b-ffc2-47f2-b3a7-e0449da90469",
   "metadata": {},
   "outputs": [
    {
     "name": "stdout",
     "output_type": "stream",
     "text": [
      "[[1. 2. 3.]\n",
      " [4. 5. 6.]\n",
      " [7. 8. 9.]]\n"
     ]
    },
    {
     "data": {
      "text/plain": [
       "dtype('float64')"
      ]
     },
     "execution_count": 16,
     "metadata": {},
     "output_type": "execute_result"
    }
   ],
   "source": [
    "lst3 = [[1, 2, 3],[4, 5, 6],[7, 8, 9]]\n",
    "mat1 = np.array(lst3,\"float\")\n",
    "print(mat1)\n",
    "mat1.dtype"
   ]
  },
  {
   "cell_type": "code",
   "execution_count": 10,
   "id": "d29f9f4f-4e51-46b5-994a-968355bcf5e8",
   "metadata": {},
   "outputs": [
    {
     "name": "stdout",
     "output_type": "stream",
     "text": [
      "[0.   0.25 0.5  0.75 1.  ]\n"
     ]
    }
   ],
   "source": [
    "arr = np.linspace(0, 1, 5)\n",
    "print(arr)"
   ]
  },
  {
   "cell_type": "code",
   "execution_count": 33,
   "id": "d9ee0279-fc70-498b-9e90-cc407aea1b47",
   "metadata": {},
   "outputs": [
    {
     "name": "stdout",
     "output_type": "stream",
     "text": [
      "[[1 2 3]\n",
      " [4 5 6]\n",
      " [7 8 9]]\n"
     ]
    }
   ],
   "source": [
    "arr = np.arange(1,10)\n",
    "new_arr = arr.reshape((3, 3))\n",
    "print(new_arr)"
   ]
  },
  {
   "cell_type": "code",
   "execution_count": 30,
   "id": "8305c671-2f07-4e15-b461-23870fdb977c",
   "metadata": {},
   "outputs": [
    {
     "name": "stdout",
     "output_type": "stream",
     "text": [
      "[1 2 3 4 5 6 7 8 9]\n"
     ]
    }
   ],
   "source": [
    "flat = new_arr.flatten() #----> same new_arr.ravel()\n",
    "print(flat)\n"
   ]
  },
  {
   "cell_type": "code",
   "execution_count": 22,
   "id": "d3067206-cc4a-40a6-9a1d-398f32a990f8",
   "metadata": {},
   "outputs": [
    {
     "name": "stdout",
     "output_type": "stream",
     "text": [
      "Before Transpose : \n",
      "[[1 2 3]\n",
      " [4 5 6]\n",
      " [7 8 9]]\n",
      "After Transpose : \n",
      "[[1 4 7]\n",
      " [2 5 8]\n",
      " [3 6 9]]\n"
     ]
    }
   ],
   "source": [
    "print(\"Before Transpose : \")\n",
    "print(new_arr)\n",
    "print(\"After Transpose : \")\n",
    "print(np.transpose(new_arr))"
   ]
  },
  {
   "cell_type": "code",
   "execution_count": 27,
   "id": "053eb914-6bfc-43dc-b2ad-5bd0a8b981d1",
   "metadata": {},
   "outputs": [
    {
     "name": "stdout",
     "output_type": "stream",
     "text": [
      "[1 2 3 4]\n"
     ]
    }
   ],
   "source": [
    "list1 = np.array([1, 2])\n",
    "list2 = np.array([3, 4])\n",
    "list3 = np.concatenate((list1, list2))\n",
    "print(list3)"
   ]
  },
  {
   "cell_type": "code",
   "execution_count": 37,
   "id": "5c8cbaab-74ce-48aa-9307-6a1e0601b3d4",
   "metadata": {},
   "outputs": [
    {
     "name": "stdout",
     "output_type": "stream",
     "text": [
      "[[0. 0.]\n",
      " [0. 0.]]\n"
     ]
    }
   ],
   "source": [
    "ar = np.zeros((2, 2))\n",
    "print(ar)"
   ]
  },
  {
   "cell_type": "code",
   "execution_count": 41,
   "id": "fea9d598-d5c1-419f-8d8b-3eb618c373e2",
   "metadata": {},
   "outputs": [
    {
     "name": "stdout",
     "output_type": "stream",
     "text": [
      "[[1. 1.]\n",
      " [1. 1.]]\n"
     ]
    }
   ],
   "source": [
    "ar = np.ones((2, 2))\n",
    "print(ar)"
   ]
  },
  {
   "cell_type": "code",
   "execution_count": 61,
   "id": "a46fd75b-bf89-4e14-8c2a-3712d90dbdfa",
   "metadata": {},
   "outputs": [
    {
     "name": "stdout",
     "output_type": "stream",
     "text": [
      "[[0 0 0 0 0 0]\n",
      " [1 0 0 0 0 0]\n",
      " [0 1 0 0 0 0]\n",
      " [0 0 1 0 0 0]\n",
      " [0 0 0 1 0 0]\n",
      " [0 0 0 0 1 0]]\n"
     ]
    }
   ],
   "source": [
    "ar = np.eye(6, k=-1, dtype=\"int\")\n",
    "# np.fill_diagonal(ar, 5)\n",
    "print(ar)"
   ]
  },
  {
   "cell_type": "code",
   "execution_count": 58,
   "id": "6eacba79-a108-4089-a11e-7e803e3a93d7",
   "metadata": {},
   "outputs": [
    {
     "name": "stdout",
     "output_type": "stream",
     "text": [
      "[[1. 0. 0. 0. 0.]\n",
      " [0. 1. 0. 0. 0.]\n",
      " [0. 0. 1. 0. 0.]\n",
      " [0. 0. 0. 1. 0.]\n",
      " [0. 0. 0. 0. 1.]]\n"
     ]
    }
   ],
   "source": [
    "ar = np.identity(5)\n",
    "print(ar)"
   ]
  },
  {
   "cell_type": "code",
   "execution_count": 44,
   "id": "001f1d92-a6e5-4ece-aa24-814620b6259c",
   "metadata": {},
   "outputs": [
    {
     "name": "stdout",
     "output_type": "stream",
     "text": [
      "[[1. 1.]\n",
      " [1. 1.]]\n"
     ]
    }
   ],
   "source": [
    "ar = np.empty((2, 2))\n",
    "print(ar)"
   ]
  },
  {
   "cell_type": "code",
   "execution_count": 49,
   "id": "ef4fab64-1d25-4a0c-80a8-b599c7314dfc",
   "metadata": {},
   "outputs": [
    {
     "name": "stdout",
     "output_type": "stream",
     "text": [
      "[[12 12]\n",
      " [12 12]]\n"
     ]
    }
   ],
   "source": [
    "ar = np.full((2, 2), 12)\n",
    "print(ar)"
   ]
  },
  {
   "cell_type": "code",
   "execution_count": null,
   "id": "631c9353-dd79-4065-8bd8-7ac00a099183",
   "metadata": {},
   "outputs": [],
   "source": []
  }
 ],
 "metadata": {
  "kernelspec": {
   "display_name": "Python 3.15.3 (new)",
   "language": "python",
   "name": "py315"
  },
  "language_info": {
   "codemirror_mode": {
    "name": "ipython",
    "version": 3
   },
   "file_extension": ".py",
   "mimetype": "text/x-python",
   "name": "python",
   "nbconvert_exporter": "python",
   "pygments_lexer": "ipython3",
   "version": "3.13.5"
  }
 },
 "nbformat": 4,
 "nbformat_minor": 5
}
