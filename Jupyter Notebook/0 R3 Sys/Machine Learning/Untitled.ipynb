{
 "cells": [
  {
   "cell_type": "code",
   "execution_count": null,
   "id": "04bfeb7f-b8fd-4a9c-9ae9-b14479df7067",
   "metadata": {},
   "outputs": [],
   "source": []
  }
 ],
 "metadata": {
  "kernelspec": {
   "display_name": "",
   "name": ""
  },
  "language_info": {
   "name": ""
  }
 },
 "nbformat": 4,
 "nbformat_minor": 5
}
