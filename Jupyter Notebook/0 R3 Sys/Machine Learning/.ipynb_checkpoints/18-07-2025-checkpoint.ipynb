{
 "cells": [
  {
   "cell_type": "markdown",
   "id": "275a3b2d-6556-4702-9d14-d6768f49a534",
   "metadata": {},
   "source": [
    "# Tasks"
   ]
  },
  {
   "cell_type": "code",
   "execution_count": 11,
   "id": "e37c09be-caa9-497f-b063-867a017e0b22",
   "metadata": {},
   "outputs": [
    {
     "name": "stdout",
     "output_type": "stream",
     "text": [
      "Second Row : \n",
      "[4 5 6]\n",
      "Last Column : \n",
      "3 6 9 [3 6 9]\n",
      "Centered Value Changed : \n",
      "[[1 2 3]\n",
      " [4 0 6]\n",
      " [7 8 9]]\n"
     ]
    }
   ],
   "source": [
    "import numpy as np\n",
    "arr = np.array([[1, 2, 3],\n",
    "                [4, 5, 6],\n",
    "                [7, 8, 9]])\n",
    "print(\"Second Row : \")\n",
    "print(arr[1])\n",
    "print(\"Last Column : \")\n",
    "for i in range(len(arr)):\n",
    "    print(arr[i][len(arr)-1], end=\" \")\n",
    "print(arr[:,-1])\n",
    "arr[1,1] = 0\n",
    "print(\"Centered Value Changed : \")\n",
    "print(arr)"
   ]
  },
  {
   "cell_type": "code",
   "execution_count": 17,
   "id": "8c31d01d-55b1-44f4-a3a9-506d7003d87c",
   "metadata": {},
   "outputs": [
    {
     "name": "stdout",
     "output_type": "stream",
     "text": [
      "Array : \n",
      "[[ 1  2  3  4]\n",
      " [ 5  6  7  8]\n",
      " [ 9 10 11 12]]\n"
     ]
    }
   ],
   "source": [
    "import numpy as np\n",
    "arr = np.arange(1,13)\n",
    "print(\"Array : \")\n",
    "arr = arr.reshape((3,4))\n",
    "print(arr)"
   ]
  },
  {
   "cell_type": "code",
   "execution_count": null,
   "id": "23ad6175-034c-4253-865e-76486290453e",
   "metadata": {},
   "outputs": [],
   "source": []
  }
 ],
 "metadata": {
  "kernelspec": {
   "display_name": "Python 3.15.3 (new)",
   "language": "python",
   "name": "py315"
  },
  "language_info": {
   "codemirror_mode": {
    "name": "ipython",
    "version": 3
   },
   "file_extension": ".py",
   "mimetype": "text/x-python",
   "name": "python",
   "nbconvert_exporter": "python",
   "pygments_lexer": "ipython3",
   "version": "3.13.5"
  }
 },
 "nbformat": 4,
 "nbformat_minor": 5
}
