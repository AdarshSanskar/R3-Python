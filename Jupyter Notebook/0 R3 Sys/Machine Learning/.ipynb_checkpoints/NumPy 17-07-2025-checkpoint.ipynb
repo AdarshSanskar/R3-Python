{
 "cells": [
  {
   "cell_type": "code",
   "execution_count": 7,
   "id": "24509408-4cea-4575-90b4-96b95a70d6e6",
   "metadata": {},
   "outputs": [
    {
     "name": "stdout",
     "output_type": "stream",
     "text": [
      "A\n",
      "[[10 20]\n",
      " [30 40]]\n",
      "B\n",
      "[[1 2]\n",
      " [3 4]]\n",
      "Addition\n",
      "[[11 22]\n",
      " [33 44]]\n"
     ]
    }
   ],
   "source": [
    "import numpy as np\n",
    "l1 = [[10,20],[30,40]]\n",
    "l2 = [[1, 2],[3, 4]]\n",
    "a = np.array(l1)\n",
    "b = np.array(l2)\n",
    "print(\"A\")\n",
    "print(a)\n",
    "print(\"B\")\n",
    "print(b)\n",
    "print(\"Addition\")\n",
    "print(a + b)\n"
   ]
  },
  {
   "cell_type": "code",
   "execution_count": 8,
   "id": "ee647e46-8507-47fc-a731-6e5e8a7105e1",
   "metadata": {},
   "outputs": [
    {
     "name": "stdout",
     "output_type": "stream",
     "text": [
      "Substraction\n",
      "[[ 9 18]\n",
      " [27 36]]\n"
     ]
    }
   ],
   "source": [
    "print(\"Substraction\")\n",
    "print(a - b)"
   ]
  },
  {
   "cell_type": "code",
   "execution_count": 9,
   "id": "a5209ca8-97bf-48fb-87ae-4278009dc9b4",
   "metadata": {},
   "outputs": [
    {
     "name": "stdout",
     "output_type": "stream",
     "text": [
      "Multiplication\n",
      "[[ 70 100]\n",
      " [150 220]]\n"
     ]
    }
   ],
   "source": [
    "print(\"Multiplication\")\n",
    "print(np.dot(a, b))"
   ]
  },
  {
   "cell_type": "code",
   "execution_count": 10,
   "id": "d0f50478-8898-4491-aaf9-33d39c500537",
   "metadata": {},
   "outputs": [
    {
     "name": "stdout",
     "output_type": "stream",
     "text": [
      "Squared of A\n",
      "[[ 100  400]\n",
      " [ 900 1600]]\n"
     ]
    }
   ],
   "source": [
    "print(\"Squared of A\")\n",
    "print(a ** 2)"
   ]
  },
  {
   "cell_type": "code",
   "execution_count": 11,
   "id": "3313da76-6ee5-4b39-af1d-bd03229ae33e",
   "metadata": {},
   "outputs": [
    {
     "name": "stdout",
     "output_type": "stream",
     "text": [
      "Division\n",
      "[[10. 10.]\n",
      " [10. 10.]]\n"
     ]
    }
   ],
   "source": [
    "print(\"Division\")\n",
    "print(a / b)"
   ]
  },
  {
   "cell_type": "code",
   "execution_count": 15,
   "id": "21e3beec-4d09-4dab-ba70-dfb8ab378c8c",
   "metadata": {},
   "outputs": [
    {
     "name": "stdout",
     "output_type": "stream",
     "text": [
      "Division\n",
      "[[10 10]\n",
      " [10 10]]\n"
     ]
    }
   ],
   "source": [
    "print(\"Division\")\n",
    "print(a // b)"
   ]
  },
  {
   "cell_type": "code",
   "execution_count": 12,
   "id": "cf9a5327-fd9e-49ee-ab73-7ad9468978c1",
   "metadata": {},
   "outputs": [
    {
     "name": "stdout",
     "output_type": "stream",
     "text": [
      "Multiplication\n",
      "[[ 70 100]\n",
      " [150 220]]\n"
     ]
    }
   ],
   "source": [
    "print(\"Multiplication\")\n",
    "print(a @ b)"
   ]
  },
  {
   "cell_type": "code",
   "execution_count": 14,
   "id": "c709cb80-6bb3-4439-8a1c-d00dd3558b95",
   "metadata": {},
   "outputs": [
    {
     "name": "stdout",
     "output_type": "stream",
     "text": [
      "Modulus\n",
      "[[0 0]\n",
      " [0 0]]\n"
     ]
    }
   ],
   "source": [
    "print(\"Modulus\")\n",
    "print(a % b)"
   ]
  },
  {
   "cell_type": "code",
   "execution_count": 17,
   "id": "0b996909-2ac2-4789-9819-d60e0b251a6b",
   "metadata": {},
   "outputs": [
    {
     "name": "stdout",
     "output_type": "stream",
     "text": [
      "Max :  99\n",
      "Column Max :  [95 99 78 91 84]\n",
      "Row Max :  [89 91 99 72 95]\n"
     ]
    }
   ],
   "source": [
    "my_list = [\n",
    "    [23, 67, 12, 89, 45],\n",
    "    [56, 3, 78, 91, 10],\n",
    "    [34, 99, 27, 6, 84],\n",
    "    [72, 11, 64, 58, 39],\n",
    "    [95, 20, 41, 8, 77]\n",
    "]\n",
    "\n",
    "mat = np.array(my_list) \n",
    "print(\"Max : \",np.amax(mat))\n",
    "print(\"Column Max : \",np.amax(mat, axis=0))\n",
    "print(\"Row Max : \", np.amax(mat, axis=1))"
   ]
  },
  {
   "cell_type": "code",
   "execution_count": 23,
   "id": "02eda287-07da-4865-b331-21e1d6e244d2",
   "metadata": {},
   "outputs": [
    {
     "name": "stdout",
     "output_type": "stream",
     "text": [
      "Mean :  48.36\n",
      "Column Mean :  [56.  40.  44.4 50.4 51. ]\n",
      "Row Mean :  [47.2 47.6 50.  48.8 48.2]\n"
     ]
    }
   ],
   "source": [
    "print(\"Mean : \",np.mean(mat))\n",
    "print(\"Column Mean : \",np.mean(mat, axis=0))\n",
    "print(\"Row Mean : \", np.mean(mat, axis=1))"
   ]
  },
  {
   "cell_type": "code",
   "execution_count": 22,
   "id": "e66fd3cb-d5ca-44db-bd46-bfc8f6873aa5",
   "metadata": {},
   "outputs": [
    {
     "name": "stdout",
     "output_type": "stream",
     "text": [
      "Median :  45.0\n",
      "Column Median :  [56. 20. 41. 58. 45.]\n",
      "Row Median :  [45. 56. 34. 58. 41.]\n"
     ]
    }
   ],
   "source": [
    "print(\"Median : \",np.median(mat))\n",
    "print(\"Column Median : \",np.median(mat, axis=0))\n",
    "print(\"Row Median : \", np.median(mat, axis=1))"
   ]
  },
  {
   "cell_type": "code",
   "execution_count": 28,
   "id": "f1a1e242-000f-431c-bc2f-196cbc353bf4",
   "metadata": {},
   "outputs": [
    {
     "name": "stdout",
     "output_type": "stream",
     "text": [
      "Population Variance: 976.5504\n"
     ]
    }
   ],
   "source": [
    "print(\"Population Variance:\", np.var(mat))"
   ]
  },
  {
   "cell_type": "code",
   "execution_count": 27,
   "id": "53dd1248-0cf9-403e-b7e3-7f2eab341db0",
   "metadata": {},
   "outputs": [
    {
     "name": "stdout",
     "output_type": "stream",
     "text": [
      "Population Std: 31.2498063994003\n"
     ]
    }
   ],
   "source": [
    "print(\"Population Std:\", np.std(mat))"
   ]
  },
  {
   "cell_type": "code",
   "execution_count": 30,
   "id": "32550bb4-cf6b-497b-a14f-e0caf3623752",
   "metadata": {},
   "outputs": [
    {
     "name": "stdout",
     "output_type": "stream",
     "text": [
      "Sorted:  [1 2 5 7 9]\n"
     ]
    }
   ],
   "source": [
    "arr = np.array([5, 2, 9, 1, 7])\n",
    "sorted_arr = np.sort(arr)\n",
    "print(\"Sorted: \",sorted_arr)"
   ]
  },
  {
   "cell_type": "code",
   "execution_count": 34,
   "id": "a1d0a26f-571f-42cc-9717-a58079cd654c",
   "metadata": {},
   "outputs": [
    {
     "name": "stdout",
     "output_type": "stream",
     "text": [
      "(array([2]),)\n"
     ]
    }
   ],
   "source": [
    "arr = np.array([10, 21, 32, 39, 57])\n",
    "result = np.where(arr == 32)\n",
    "print(result)"
   ]
  },
  {
   "cell_type": "code",
   "execution_count": 35,
   "id": "3d246617-e5b3-4d01-89e6-f8782b19285e",
   "metadata": {},
   "outputs": [
    {
     "name": "stdout",
     "output_type": "stream",
     "text": [
      "(array([0, 2]),)\n"
     ]
    }
   ],
   "source": [
    "result = np.where(arr % 2 == 0)\n",
    "print(result)"
   ]
  },
  {
   "cell_type": "code",
   "execution_count": 42,
   "id": "690cfb8a-c290-4c77-842b-d482fb84b113",
   "metadata": {},
   "outputs": [
    {
     "name": "stdout",
     "output_type": "stream",
     "text": [
      "[[ 2  7 10]\n",
      " [ 4  6 37]]\n"
     ]
    }
   ],
   "source": [
    "arr = np.array([[10, 2, 7],\n",
    "                [4, 6, 37]])\n",
    "\n",
    "sort = np.sort(arr)\n",
    "print(sort)"
   ]
  },
  {
   "cell_type": "code",
   "execution_count": 45,
   "id": "a68d481c-7d55-4fca-a0c4-da24bcf96b24",
   "metadata": {},
   "outputs": [
    {
     "name": "stdout",
     "output_type": "stream",
     "text": [
      "[False False  True  True  True  True False  True]\n"
     ]
    }
   ],
   "source": [
    "arr = np.array([10, 15, 23, 56, 97, 23, 11, 23])\n",
    "bool_arr = arr > 20\n",
    "print(bool_arr)"
   ]
  },
  {
   "cell_type": "code",
   "execution_count": null,
   "id": "fced223a-53d1-4b21-ab20-51e8c2d4208f",
   "metadata": {},
   "outputs": [],
   "source": []
  }
 ],
 "metadata": {
  "kernelspec": {
   "display_name": "Python 3.15.3 (new)",
   "language": "python",
   "name": "py315"
  },
  "language_info": {
   "codemirror_mode": {
    "name": "ipython",
    "version": 3
   },
   "file_extension": ".py",
   "mimetype": "text/x-python",
   "name": "python",
   "nbconvert_exporter": "python",
   "pygments_lexer": "ipython3",
   "version": "3.13.5"
  }
 },
 "nbformat": 4,
 "nbformat_minor": 5
}
