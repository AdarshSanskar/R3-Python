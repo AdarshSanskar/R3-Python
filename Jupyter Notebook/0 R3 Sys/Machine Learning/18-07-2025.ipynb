{
 "cells": [
  {
   "cell_type": "markdown",
   "id": "275a3b2d-6556-4702-9d14-d6768f49a534",
   "metadata": {},
   "source": [
    "# Tasks"
   ]
  },
  {
   "cell_type": "code",
   "execution_count": 31,
   "id": "e37c09be-caa9-497f-b063-867a017e0b22",
   "metadata": {},
   "outputs": [
    {
     "name": "stdout",
     "output_type": "stream",
     "text": [
      "Second Row : \n",
      "[4 5 6]\n",
      "Last Column : \n",
      "3 6 9 [3 6 9]\n",
      "Centered Value Changed : \n",
      "[[1 2 3]\n",
      " [4 0 6]\n",
      " [7 8 9]]\n"
     ]
    }
   ],
   "source": [
    "import numpy as np\n",
    "arr = np.array([[1, 2, 3],\n",
    "                [4, 5, 6],\n",
    "                [7, 8, 9]])\n",
    "print(\"Second Row : \")\n",
    "print(arr[1])\n",
    "print(\"Last Column : \")\n",
    "for i in range(len(arr)):\n",
    "    print(arr[i][len(arr)-1], end=\" \")\n",
    "print(arr[:,-1])\n",
    "arr[1,1] = 0\n",
    "print(\"Centered Value Changed : \")\n",
    "print(arr)"
   ]
  },
  {
   "cell_type": "code",
   "execution_count": 32,
   "id": "8c31d01d-55b1-44f4-a3a9-506d7003d87c",
   "metadata": {},
   "outputs": [
    {
     "name": "stdout",
     "output_type": "stream",
     "text": [
      "Array : \n",
      "[[ 1  2  3  4]\n",
      " [ 5  6  7  8]\n",
      " [ 9 10 11 12]]\n",
      "[[2 3]\n",
      " [6 7]]\n"
     ]
    }
   ],
   "source": [
    "import numpy as np\n",
    "arr = np.arange(1,13)\n",
    "print(\"Array : \")\n",
    "arr = arr.reshape((3,4))\n",
    "print(arr)\n",
    "arr2 = arr[0:2, 1:3]\n",
    "print(arr2)"
   ]
  },
  {
   "cell_type": "code",
   "execution_count": 33,
   "id": "23ad6175-034c-4253-865e-76486290453e",
   "metadata": {},
   "outputs": [
    {
     "name": "stdout",
     "output_type": "stream",
     "text": [
      "\n",
      "3) 5x5 array of random integers between 10 and 99:\n",
      "Random array:\n",
      "[[79 81 48 49 22]\n",
      " [91 23 71 15 56]\n",
      " [59 93 65 66 70]\n",
      " [57 36 74 89 20]\n",
      " [33 38 29 24 29]]\n",
      "\n",
      "Row-wise mean:\n",
      "[55.8 51.2 70.6 55.2 30.6]\n",
      "\n",
      "Column-wise mean:\n",
      "[63.8 54.2 57.4 48.6 39.4]\n",
      "\n",
      "Overall minimum: 15\n",
      "Overall maximum: 93\n"
     ]
    }
   ],
   "source": [
    "print(\"\\n3) 5x5 array of random integers between 10 and 99:\")\n",
    "arr3 = np.random.randint(10, 100, size=(5, 5))\n",
    "print(\"Random array:\")\n",
    "print(arr3)\n",
    "print(\"\\nRow-wise mean:\")\n",
    "row_means = np.mean(arr3, axis=1)\n",
    "print(row_means)\n",
    "print(\"\\nColumn-wise mean:\")\n",
    "col_means = np.mean(arr3, axis=0)\n",
    "print(col_means)\n",
    "print(f\"\\nOverall minimum: {np.min(arr3)}\")\n",
    "print(f\"Overall maximum: {np.max(arr3)}\")"
   ]
  },
  {
   "cell_type": "code",
   "execution_count": 36,
   "id": "6b8d2ba6-f9bb-4975-acff-229dd93e6aa8",
   "metadata": {},
   "outputs": [
    {
     "name": "stdout",
     "output_type": "stream",
     "text": [
      "Marks:\n",
      " [[78 85 90 88]\n",
      " [92 80 85 87]\n",
      " [76 75 70 72]\n",
      " [88 90 94 89]\n",
      " [67 60 65 70]]\n",
      "\n",
      "Total marks of each student: [341 344 293 361 262]\n",
      "\n",
      "Average marks per subject: [80.2 78.  80.8 81.2]\n",
      "\n",
      "Highest scorer is Student 4 with 361 marks\n",
      "Their marks: [88 90 94 89]\n"
     ]
    }
   ],
   "source": [
    "import numpy as np\n",
    "marks = np.array([\n",
    "    [78, 85, 90, 88],\n",
    "    [92, 80, 85, 87],\n",
    "    [76, 75, 70, 72],\n",
    "    [88, 90, 94, 89],\n",
    "    [67, 60, 65, 70]\n",
    "])\n",
    "\n",
    "print(\"Marks:\\n\", marks)\n",
    "\n",
    "total_marks = np.sum(marks, axis=1)\n",
    "print(\"\\nTotal marks of each student:\", total_marks)\n",
    "\n",
    "avg_subject = np.mean(marks, axis=0)\n",
    "print(\"\\nAverage marks per subject:\", avg_subject)\n",
    "\n",
    "highest_index = np.argmax(total_marks)\n",
    "highest_marks = total_marks[highest_index]\n",
    "print(f\"\\nHighest scorer is Student {highest_index + 1} with {highest_marks} marks\")\n",
    "print(\"Their marks:\", marks[highest_index])\n"
   ]
  },
  {
   "cell_type": "code",
   "execution_count": 35,
   "id": "a14556e5-2d2a-4ba6-8638-2481c0637bb8",
   "metadata": {},
   "outputs": [
    {
     "name": "stdout",
     "output_type": "stream",
     "text": [
      "3x3 Matrix with random numbers between 1 and 20:\n",
      "[[ 2 16  1]\n",
      " [20  4  7]\n",
      " [15 19 18]]\n"
     ]
    }
   ],
   "source": [
    "import numpy as np\n",
    "\n",
    "arr = np.random.randint(1, 21, size=(3, 3))\n",
    "print(\"3x3 Matrix with random numbers between 1 and 20:\")\n",
    "print(arr)\n",
    "\n",
    "print(\"Sum of each row:\", np.sum(arr, axis=1))\n",
    "print(\"Sum of each column:\", np.sum(arr, axis=0))\n"
   ]
  },
  {
   "cell_type": "code",
   "execution_count": null,
   "id": "b8abb873-56d0-43eb-a568-b7c174003f8a",
   "metadata": {},
   "outputs": [],
   "source": []
  }
 ],
 "metadata": {
  "kernelspec": {
   "display_name": "Python 3.15.3 (new)",
   "language": "python",
   "name": "py315"
  },
  "language_info": {
   "codemirror_mode": {
    "name": "ipython",
    "version": 3
   },
   "file_extension": ".py",
   "mimetype": "text/x-python",
   "name": "python",
   "nbconvert_exporter": "python",
   "pygments_lexer": "ipython3",
   "version": "3.13.5"
  }
 },
 "nbformat": 4,
 "nbformat_minor": 5
}
