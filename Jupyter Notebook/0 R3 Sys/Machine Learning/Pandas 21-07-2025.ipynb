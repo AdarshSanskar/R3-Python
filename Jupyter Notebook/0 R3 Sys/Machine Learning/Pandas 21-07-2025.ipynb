{
 "cells": [
  {
   "cell_type": "markdown",
   "id": "47734862-7e19-4e92-a09c-40702a75d4dc",
   "metadata": {},
   "source": [
    "# Pandas"
   ]
  },
  {
   "cell_type": "code",
   "execution_count": 2,
   "id": "0167f320-bc8e-46aa-b971-f5176256f706",
   "metadata": {},
   "outputs": [
    {
     "name": "stdout",
     "output_type": "stream",
     "text": [
      "2.3.1\n"
     ]
    }
   ],
   "source": [
    "import pandas as pd\n",
    "import numpy as np\n",
    "print(pd.__version__)"
   ]
  },
  {
   "cell_type": "code",
   "execution_count": 4,
   "id": "7ff341e6-a8d2-4f5a-be7b-b3516bd7bdb3",
   "metadata": {},
   "outputs": [],
   "source": [
    "ser = pd.Series({\"Animal\" : [\"Lion\",\"Tiger\",\"Wolf\",\"Lepord\"], \"Bird\" : [\"Parrot\",\"Sparrow\",\"Eagel\"]})"
   ]
  },
  {
   "cell_type": "code",
   "execution_count": 5,
   "id": "72e12b66-1bf9-4c29-93f5-d73a06439863",
   "metadata": {},
   "outputs": [
    {
     "data": {
      "text/plain": [
       "Animal    [Lion, Tiger, Wolf, Lepord]\n",
       "Bird         [Parrot, Sparrow, Eagel]\n",
       "dtype: object"
      ]
     },
     "execution_count": 5,
     "metadata": {},
     "output_type": "execute_result"
    }
   ],
   "source": [
    "ser"
   ]
  },
  {
   "cell_type": "code",
   "execution_count": 6,
   "id": "3a5f9a48-afaa-40e1-ad00-8d4b0720d628",
   "metadata": {},
   "outputs": [
    {
     "name": "stdout",
     "output_type": "stream",
     "text": [
      "0    10\n",
      "1    20\n",
      "2    30\n",
      "3    40\n",
      "4    50\n",
      "5    60\n",
      "6    70\n",
      "7    80\n",
      "dtype: int64\n"
     ]
    }
   ],
   "source": [
    "a = [10, 20, 30, 40, 50, 60, 70, 80]\n",
    "b = pd.Series(a)\n",
    "print(b)"
   ]
  },
  {
   "cell_type": "code",
   "execution_count": 7,
   "id": "fc51916e-df82-4732-8102-92e3476aee39",
   "metadata": {},
   "outputs": [
    {
     "name": "stdout",
     "output_type": "stream",
     "text": [
      "0    10.0\n",
      "1    20.0\n",
      "2    30.0\n",
      "3    40.0\n",
      "4    50.0\n",
      "5    60.0\n",
      "6    70.0\n",
      "7    80.0\n",
      "dtype: float64\n"
     ]
    }
   ],
   "source": [
    "s = pd.Series(a, dtype = float)\n",
    "print(s)"
   ]
  },
  {
   "cell_type": "code",
   "execution_count": 8,
   "id": "2786f3ee-4898-4e95-abb9-9019abab1060",
   "metadata": {},
   "outputs": [
    {
     "name": "stdout",
     "output_type": "stream",
     "text": [
      "0    1\n",
      "1    2\n",
      "2    3\n",
      "3    4\n",
      "4    5\n",
      "dtype: int64\n",
      "0    1\n",
      "1    2\n",
      "2    3\n",
      "3    4\n",
      "4    5\n",
      "dtype: int64\n",
      "Name        Adarsh Tile\n",
      "Roll No.             62\n",
      "dtype: object\n",
      "0    0\n",
      "1    1\n",
      "2    2\n",
      "3    3\n",
      "4    4\n",
      "5    5\n",
      "6    6\n",
      "7    7\n",
      "8    8\n",
      "9    9\n",
      "dtype: int64\n",
      "0    Adarsh\n",
      "dtype: object\n",
      "0      0.0\n",
      "1      0.0\n",
      "2      0.0\n",
      "3      0.0\n",
      "4      0.0\n",
      "      ... \n",
      "115    0.0\n",
      "116    0.0\n",
      "117    0.0\n",
      "118    0.0\n",
      "119    0.0\n",
      "Length: 120, dtype: float64\n"
     ]
    }
   ],
   "source": [
    "import pandas as pd\n",
    "import numpy as np\n",
    "\n",
    "lst = [1, 2, 3, 4, 5]\n",
    "lst1 = pd.Series(lst)\n",
    "\n",
    "tup = (1, 2, 3, 4, 5)\n",
    "tup1 = pd.Series(tup)\n",
    "\n",
    "dic = {\n",
    "    \"Name\": \"Adarsh Tile\",\n",
    "    \"Roll No.\": 62\n",
    "}\n",
    "dic1 = pd.Series(dic)\n",
    "\n",
    "rng = np.arange(10)\n",
    "rng1 = pd.Series(rng)\n",
    "\n",
    "string = \"Adarsh\"\n",
    "string1 = pd.Series(string)\n",
    "\n",
    "sets = {1, 2, 3, 4, 5}\n",
    "# sets1 = pd.Series(sets)\n",
    "\n",
    "arr = np.zeros((1, 2, 3, 4, 5))\n",
    "arr1 = pd.Series(arr.flatten())\n",
    "\n",
    "print(lst1)\n",
    "print(tup1)\n",
    "print(dic1)\n",
    "print(rng1)\n",
    "print(string1)\n",
    "print(arr1)\n"
   ]
  },
  {
   "cell_type": "code",
   "execution_count": 9,
   "id": "b613fb12-421b-4a89-b613-8252b8062492",
   "metadata": {},
   "outputs": [
    {
     "name": "stdout",
     "output_type": "stream",
     "text": [
      "Addition :\n",
      " 0    15\n",
      "1    25\n",
      "2    35\n",
      "3    45\n",
      "4    55\n",
      "dtype: int64\n",
      "Substraction :\n",
      " 0     5\n",
      "1    15\n",
      "2    25\n",
      "3    35\n",
      "4    45\n",
      "dtype: int64\n",
      "Multiplication :\n",
      " 0     50\n",
      "1    100\n",
      "2    150\n",
      "3    200\n",
      "4    250\n",
      "dtype: int64\n",
      "Division :\n",
      " 0    1.0\n",
      "1    2.0\n",
      "2    3.0\n",
      "3    4.0\n",
      "4    5.0\n",
      "dtype: float64\n",
      "Floor Division :\n",
      " 0    1\n",
      "1    2\n",
      "2    3\n",
      "3    4\n",
      "4    5\n",
      "dtype: int64\n",
      "Exponential :\n",
      " 0     100\n",
      "1     400\n",
      "2     900\n",
      "3    1600\n",
      "4    2500\n",
      "dtype: int64\n"
     ]
    }
   ],
   "source": [
    "s = pd.Series([10, 20, 30, 40, 50])\n",
    "print(\"Addition :\\n\", s+5)\n",
    "print(\"Substraction :\\n\", s-5)\n",
    "print(\"Multiplication :\\n\", s*5)\n",
    "print(\"Division :\\n\", s/10)\n",
    "print(\"Floor Division :\\n\", s//10)\n",
    "print(\"Exponential :\\n\", s**2)"
   ]
  },
  {
   "cell_type": "code",
   "execution_count": 10,
   "id": "26854c82-7083-48a1-ae3c-3cc58ab353b0",
   "metadata": {},
   "outputs": [
    {
     "data": {
      "text/plain": [
       "count     5.000000\n",
       "mean     30.000000\n",
       "std      15.811388\n",
       "min      10.000000\n",
       "25%      20.000000\n",
       "50%      30.000000\n",
       "75%      40.000000\n",
       "max      50.000000\n",
       "dtype: float64"
      ]
     },
     "execution_count": 10,
     "metadata": {},
     "output_type": "execute_result"
    }
   ],
   "source": [
    "s.describe()"
   ]
  },
  {
   "cell_type": "code",
   "execution_count": 11,
   "id": "cb9ffecc-1b0e-468e-acfb-b363e95274cc",
   "metadata": {},
   "outputs": [
    {
     "data": {
      "text/plain": [
       "np.int64(150)"
      ]
     },
     "execution_count": 11,
     "metadata": {},
     "output_type": "execute_result"
    }
   ],
   "source": [
    "s.sum()"
   ]
  },
  {
   "cell_type": "code",
   "execution_count": 12,
   "id": "b8ab7971-ea0d-4c70-b13d-8b983dc5674c",
   "metadata": {},
   "outputs": [
    {
     "data": {
      "text/plain": [
       "np.float64(30.0)"
      ]
     },
     "execution_count": 12,
     "metadata": {},
     "output_type": "execute_result"
    }
   ],
   "source": [
    "s.mean()"
   ]
  },
  {
   "cell_type": "code",
   "execution_count": 13,
   "id": "aecfeaf0-3fce-4114-953b-e4e8e0e60ac2",
   "metadata": {},
   "outputs": [
    {
     "data": {
      "text/plain": [
       "np.float64(30.0)"
      ]
     },
     "execution_count": 13,
     "metadata": {},
     "output_type": "execute_result"
    }
   ],
   "source": [
    "s.mean()"
   ]
  },
  {
   "cell_type": "code",
   "execution_count": 14,
   "id": "7b9d61e9-9d39-4b8a-8eed-ad4eb3ee3827",
   "metadata": {},
   "outputs": [
    {
     "data": {
      "text/plain": [
       "np.float64(30.0)"
      ]
     },
     "execution_count": 14,
     "metadata": {},
     "output_type": "execute_result"
    }
   ],
   "source": [
    "s.median()"
   ]
  },
  {
   "cell_type": "code",
   "execution_count": 15,
   "id": "339943aa-0228-40d8-a458-0f6ab96a52f8",
   "metadata": {},
   "outputs": [
    {
     "data": {
      "text/plain": [
       "np.float64(15.811388300841896)"
      ]
     },
     "execution_count": 15,
     "metadata": {},
     "output_type": "execute_result"
    }
   ],
   "source": [
    "s.std()"
   ]
  },
  {
   "cell_type": "code",
   "execution_count": 16,
   "id": "c235d366-a8f0-466b-81a4-e65a4089dbe5",
   "metadata": {},
   "outputs": [
    {
     "name": "stdout",
     "output_type": "stream",
     "text": [
      "3    40\n",
      "4    50\n",
      "dtype: int64\n"
     ]
    }
   ],
   "source": [
    "print(s[s>30])"
   ]
  },
  {
   "cell_type": "code",
   "execution_count": 17,
   "id": "4570b76b-8c2f-4ab5-a21e-10cc7d3f55a3",
   "metadata": {},
   "outputs": [],
   "source": [
    "string = pd.Series([\"Adarsh\", \"Sushrut\",\"Yadnesh\"])\n"
   ]
  },
  {
   "cell_type": "code",
   "execution_count": 18,
   "id": "7501558b-1ad5-40f5-a8dd-cf66ba1e236c",
   "metadata": {},
   "outputs": [
    {
     "data": {
      "text/plain": [
       "0     adarsh\n",
       "1    sushrut\n",
       "2    yadnesh\n",
       "dtype: object"
      ]
     },
     "execution_count": 18,
     "metadata": {},
     "output_type": "execute_result"
    }
   ],
   "source": [
    "string.str.lower()"
   ]
  },
  {
   "cell_type": "code",
   "execution_count": 19,
   "id": "48f34522-3083-4427-af64-1488ac898fbc",
   "metadata": {},
   "outputs": [
    {
     "data": {
      "text/plain": [
       "0     ADARSH\n",
       "1    SUSHRUT\n",
       "2    YADNESH\n",
       "dtype: object"
      ]
     },
     "execution_count": 19,
     "metadata": {},
     "output_type": "execute_result"
    }
   ],
   "source": [
    "string.str.upper()\n"
   ]
  },
  {
   "cell_type": "code",
   "execution_count": 20,
   "id": "27e0ab19-c9e5-4f9f-9d8a-72fb56803920",
   "metadata": {},
   "outputs": [
    {
     "data": {
      "text/plain": [
       "0     Adar*h\n",
       "1    Su*hrut\n",
       "2    Yadne*h\n",
       "dtype: object"
      ]
     },
     "execution_count": 20,
     "metadata": {},
     "output_type": "execute_result"
    }
   ],
   "source": [
    "string.str.replace(\"s\", \"*\")"
   ]
  },
  {
   "cell_type": "code",
   "execution_count": null,
   "id": "574191ce-af6c-4a5f-96df-a47d879d24a0",
   "metadata": {},
   "outputs": [],
   "source": []
  }
 ],
 "metadata": {
  "kernelspec": {
   "display_name": "Python 3.15.3 (new)",
   "language": "python",
   "name": "py315"
  },
  "language_info": {
   "codemirror_mode": {
    "name": "ipython",
    "version": 3
   },
   "file_extension": ".py",
   "mimetype": "text/x-python",
   "name": "python",
   "nbconvert_exporter": "python",
   "pygments_lexer": "ipython3",
   "version": "3.13.5"
  }
 },
 "nbformat": 4,
 "nbformat_minor": 5
}
