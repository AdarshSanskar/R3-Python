{
 "cells": [
  {
   "cell_type": "code",
   "execution_count": null,
   "id": "2d2be30e-60e6-4120-b8a2-6046d8e44ff7",
   "metadata": {},
   "outputs": [],
   "source": [
    "# Day 20: 25/06/2025\n",
    "# Exception Handeling\n",
    "\n",
    "\n",
    "# Types Of Errors : \n",
    "# Exception\n",
    "# Standard Error\n",
    "# Floating Point Error\n",
    "# Zero Division Error\n",
    "# Syntax Error\n",
    "# Indention Error\n",
    "# Type Error\n",
    "# Value Error\n",
    "# AttributeError\n",
    "# EOF Error\n",
    "# Import Error\n",
    "# Index Error\n",
    "# Key Error\n",
    "# Name Error\n",
    "\n",
    "# Keyword used for Handeling Exception : \n",
    "# try\n",
    "# except\n",
    "# else\n",
    "# finally\n",
    "# raise"
   ]
  },
  {
   "cell_type": "code",
   "execution_count": null,
   "id": "a947fdfe-ddcc-4b2e-a5ee-d4c926d70841",
   "metadata": {},
   "outputs": [],
   "source": [
    "try:\n",
    "    a = int(input(\"Enter Number 1 : \"))\n",
    "    b = int(input(\"Enter Number 2 : \"))\n",
    "    result = a / b\n",
    "    print(\"Result : \", result)\n",
    "except ZeroDivisionError:\n",
    "    print(\"Zero Divide Error : Cannot Divide by Zero\")\n",
    "except ValueError:\n",
    "    print(\"Value Error : Enter Valid Integer\")"
   ]
  },
  {
   "cell_type": "code",
   "execution_count": 19,
   "id": "d55fd60e-9f46-4215-83ec-f5ef3f8b63c7",
   "metadata": {},
   "outputs": [
    {
     "name": "stdin",
     "output_type": "stream",
     "text": [
      "Enter any Number :  14501\n"
     ]
    },
    {
     "name": "stdout",
     "output_type": "stream",
     "text": [
      "Odd Number\n"
     ]
    }
   ],
   "source": [
    "# Even Odd Exception\n",
    "def EvenOdd():\n",
    "    try:\n",
    "        num = int(input(\"Enter any Number : \"))\n",
    "        if num % 2 == 0:\n",
    "            print(\"Even Number\")\n",
    "        else:\n",
    "            print(\"Odd Number\")\n",
    "    except ValueError:\n",
    "        print(\"ValueError : Enter Valid Integer\")\n",
    "\n",
    "EvenOdd()"
   ]
  },
  {
   "cell_type": "code",
   "execution_count": 20,
   "id": "f27c9d09-0029-498c-9016-e812a9894a5b",
   "metadata": {},
   "outputs": [],
   "source": [
    "# Simple Interest Function Exception"
   ]
  },
  {
   "cell_type": "code",
   "execution_count": 21,
   "id": "9a07617e-74aa-436e-a335-f73d476e3bf5",
   "metadata": {},
   "outputs": [
    {
     "name": "stdin",
     "output_type": "stream",
     "text": [
      "Enter Principal Amount :  1000\n",
      "Enter Rate of Interest :  4\n",
      "Enter Time Period :  2\n"
     ]
    },
    {
     "name": "stdout",
     "output_type": "stream",
     "text": [
      "Simple Interest : 80.0\n"
     ]
    }
   ],
   "source": [
    "def calculateInterest(p, r, t):\n",
    "    si = (p * r * t) / 100\n",
    "    return si\n",
    "try:\n",
    "    principal = float(input(\"Enter Principal Amount : \"))\n",
    "    rate = float(input(\"Enter Rate of Interest : \"))\n",
    "    time = float(input(\"Enter Time Period : \"))\n",
    "\n",
    "    interest = calculateInterest(principal, rate, time)\n",
    "    print(f\"Simple Interest : {interest}\")\n",
    "\n",
    "except ValueError:\n",
    "    print(\"Please Enter Valid Integer Only\")"
   ]
  },
  {
   "cell_type": "code",
   "execution_count": 5,
   "id": "4fc0814c-36f1-4c18-99d6-20c7d5e2c8ed",
   "metadata": {},
   "outputs": [
    {
     "name": "stdin",
     "output_type": "stream",
     "text": [
      "Enter Marks Seperated by Space :  98 94 95 91 90\n"
     ]
    },
    {
     "name": "stdout",
     "output_type": "stream",
     "text": [
      "Average Marks :  93.6\n"
     ]
    }
   ],
   "source": [
    "# Student Marks Error\n",
    "def averageMarks(marks):\n",
    "    if not marks:\n",
    "        raise ValueError(\"Marks List in Empty...\")\n",
    "    return sum(marks)/ len(marks)\n",
    "\n",
    "\n",
    "try:\n",
    "    input_str = input(\"Enter Marks Seperated by Space : \")\n",
    "    marks_List = []\n",
    "    marks_List = [float(val) for val in input_str.split()]\n",
    "    avg = averageMarks(marks_List)\n",
    "    print(\"Average Marks : \", avg)\n",
    "except ValueError:\n",
    "    print(\"Value Error : Enter Valid Integer Only\")\n",
    "\n",
    "except Exception as e:\n",
    "    print(\"Exception : \", e)"
   ]
  },
  {
   "cell_type": "code",
   "execution_count": null,
   "id": "8c28fb81-ae13-466b-bb55-de9c80485d1e",
   "metadata": {},
   "outputs": [],
   "source": []
  }
 ],
 "metadata": {
  "kernelspec": {
   "display_name": "Python [conda env:base] *",
   "language": "python",
   "name": "conda-base-py"
  },
  "language_info": {
   "codemirror_mode": {
    "name": "ipython",
    "version": 3
   },
   "file_extension": ".py",
   "mimetype": "text/x-python",
   "name": "python",
   "nbconvert_exporter": "python",
   "pygments_lexer": "ipython3",
   "version": "3.12.7"
  }
 },
 "nbformat": 4,
 "nbformat_minor": 5
}
