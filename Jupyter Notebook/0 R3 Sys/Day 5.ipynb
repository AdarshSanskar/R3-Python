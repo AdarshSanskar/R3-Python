{
 "cells": [
  {
   "cell_type": "code",
   "execution_count": 72,
   "id": "feab3a27-a997-4b75-8edb-ae08d00ba624",
   "metadata": {},
   "outputs": [],
   "source": [
    "# Day 5 : List Data Type in Python. Tuple in Python\n",
    "   # List --------> mutable\n",
    "   # Tuple -------> immutable"
   ]
  },
  {
   "cell_type": "code",
   "execution_count": 3,
   "id": "45d7fc4a-3473-4541-b502-a52d06bd71f5",
   "metadata": {},
   "outputs": [
    {
     "name": "stdout",
     "output_type": "stream",
     "text": [
      "<class 'list'>\n"
     ]
    }
   ],
   "source": [
    "a = [] # Empty List\n",
    "print(type(a))"
   ]
  },
  {
   "cell_type": "code",
   "execution_count": 4,
   "id": "60995034-a2aa-4454-8be7-d227df6096bd",
   "metadata": {},
   "outputs": [
    {
     "name": "stdout",
     "output_type": "stream",
     "text": [
      "[1, 13, True, (2+3j), 'Python']\n"
     ]
    }
   ],
   "source": [
    "a = [1, 13, True, 2+3j, \"Python\"]\n",
    "print(a)"
   ]
  },
  {
   "cell_type": "code",
   "execution_count": 57,
   "id": "df754341-6e36-4aa1-bd0d-9ecc7c02b81e",
   "metadata": {},
   "outputs": [],
   "source": [
    "lis = [10, 20, 30, 40]"
   ]
  },
  {
   "cell_type": "code",
   "execution_count": 63,
   "id": "90c86b05-a475-4bf9-b772-8a05cc0b7e5f",
   "metadata": {},
   "outputs": [
    {
     "name": "stdout",
     "output_type": "stream",
     "text": [
      "[10, 30, 40, 50, 50]\n"
     ]
    }
   ],
   "source": [
    "#Append : Inserts one Element to the end of the List / Last of the List\n",
    "lis.append(50)\n",
    "print(lis)"
   ]
  },
  {
   "cell_type": "code",
   "execution_count": 64,
   "id": "add0f9f0-dc61-4fbb-aa9f-da2792e13410",
   "metadata": {},
   "outputs": [
    {
     "name": "stdout",
     "output_type": "stream",
     "text": [
      "[10, 15, 30, 40, 50, 50]\n",
      "[10, 15, 30, 40, 50, 50, 35]\n"
     ]
    }
   ],
   "source": [
    "# Insert : Inserts an Element at any Index of the List, unlike append which inserts only at the lsat\n",
    "lis.insert(1, 15)\n",
    "print(lis)\n",
    "lis.insert(6, 35)\n",
    "print(lis)"
   ]
  },
  {
   "cell_type": "code",
   "execution_count": 62,
   "id": "23a88026-2092-4200-b608-90e2c7cce5a4",
   "metadata": {},
   "outputs": [
    {
     "name": "stdout",
     "output_type": "stream",
     "text": [
      "[10, 30, 40, 40, 50]\n",
      "[10, 30, 40, 50]\n"
     ]
    }
   ],
   "source": [
    "# Pop : Removes the Last Element from the List, and returnd the popped element\n",
    "lis.pop()\n",
    "print(lis)\n",
    "\n",
    "# pop(index) : Removes the Element at Perticular Index in the List\n",
    "lis.pop(2)\n",
    "print(lis)"
   ]
  },
  {
   "cell_type": "code",
   "execution_count": 61,
   "id": "53cdaeed-b2f8-4683-9f4c-f90c76123872",
   "metadata": {},
   "outputs": [
    {
     "name": "stdout",
     "output_type": "stream",
     "text": [
      "[10, 30, 40, 40, 50, 60]\n"
     ]
    }
   ],
   "source": [
    "# Remove : Removes any Element from the List, It removes the First occurance of that element\n",
    "lis.remove(20)\n",
    "print(lis)"
   ]
  },
  {
   "cell_type": "code",
   "execution_count": 60,
   "id": "df5a28a1-b865-4ee1-b731-8d04b29ee022",
   "metadata": {},
   "outputs": [
    {
     "name": "stdout",
     "output_type": "stream",
     "text": [
      "[10, 20, 30, 40, 40, 50, 60]\n"
     ]
    }
   ],
   "source": [
    "# Extend : Used to add Multiple Element in the List at a time\n",
    "lis.extend([40, 50, 60])\n",
    "print(lis)"
   ]
  },
  {
   "cell_type": "code",
   "execution_count": 59,
   "id": "c14a44e9-6cbd-4fd0-9b04-c3110c444816",
   "metadata": {},
   "outputs": [
    {
     "name": "stdout",
     "output_type": "stream",
     "text": [
      "0\n",
      "0\n"
     ]
    }
   ],
   "source": [
    "# Count : Counts the number of occurance of the Perticular Element,, and Returns it\n",
    "print(lis.count(50))\n",
    "print(lis.count(60))"
   ]
  },
  {
   "cell_type": "code",
   "execution_count": 47,
   "id": "4d88d53c-bf12-4e2a-8b2c-0e23cd12cb2d",
   "metadata": {},
   "outputs": [
    {
     "name": "stdout",
     "output_type": "stream",
     "text": [
      "Original List :  [1, 2, 3, 4, 5, 6]\n",
      "Reversed List :  [6, 5, 4, 3, 2, 1]\n"
     ]
    }
   ],
   "source": [
    "#Reverse : Reversed the Content of the List\n",
    "arr = [1, 2, 3, 4, 5, 6]\n",
    "print(\"Original List : \", arr)\n",
    "arr.reverse()\n",
    "print(\"Reversed List : \", arr)"
   ]
  },
  {
   "cell_type": "code",
   "execution_count": 49,
   "id": "5e12d4b6-762e-4df3-87ec-81e490fe02a8",
   "metadata": {},
   "outputs": [
    {
     "name": "stdout",
     "output_type": "stream",
     "text": [
      "Ascending Order :  [2, 2, 3, 4, 5, 7, 9]\n",
      "Descending Order :  [9, 7, 5, 4, 3, 2, 2]\n"
     ]
    }
   ],
   "source": [
    "#Sort : Sorts the Content in the List in Ascending ot Descending Order\n",
    "num = [3, 5, 7, 2, 9, 2, 4]\n",
    "num.sort()\n",
    "print(\"Ascending Order : \",num)\n",
    "num.sort(reverse = True)\n",
    "print(\"Descending Order : \", num)"
   ]
  },
  {
   "cell_type": "code",
   "execution_count": 58,
   "id": "75113f09-35f9-454f-a3d2-4f549b6583af",
   "metadata": {},
   "outputs": [
    {
     "name": "stdout",
     "output_type": "stream",
     "text": [
      "[9, 7, 5, 4, 3, 2, 2]\n"
     ]
    }
   ],
   "source": [
    "# Copy : Copies the Content of List to another\n",
    "no = num.copy()\n",
    "print(no)"
   ]
  },
  {
   "cell_type": "code",
   "execution_count": null,
   "id": "11a5b75a-013e-4811-b810-fe2e7cc05595",
   "metadata": {},
   "outputs": [],
   "source": [
    "Shallow Copy : "
   ]
  },
  {
   "cell_type": "code",
   "execution_count": 71,
   "id": "79e25bd9-7851-4062-b070-c3c87e286072",
   "metadata": {},
   "outputs": [
    {
     "name": "stdout",
     "output_type": "stream",
     "text": [
      "[9, 7, 5, 4, 3, 2, 2]\n",
      "2\n",
      "[5, 4]\n",
      "[5, 4, 3, 2, 2]\n"
     ]
    }
   ],
   "source": [
    "# Slicing Operation in List\n",
    "print(no)\n",
    "print(no[5])\n",
    "print(no[2:4])\n",
    "print(no[2:])"
   ]
  },
  {
   "cell_type": "code",
   "execution_count": 95,
   "id": "9360d91e-5734-44cd-8270-82fbe1261812",
   "metadata": {},
   "outputs": [
    {
     "name": "stdout",
     "output_type": "stream",
     "text": [
      "(6, 4, 2, 1, 5, 3)\n",
      "3\n",
      "(2, 1, 5, 3)\n",
      "(6, 4, 2, 1, 5)\n"
     ]
    }
   ],
   "source": [
    "#Tuple Operations\n",
    "tup = (6, 4, 2, 1, 5, 3)\n",
    "print(tup)\n",
    "print(tup[5])\n",
    "print(tup[2 : 6])\n",
    "print(tup[ : 5])"
   ]
  },
  {
   "cell_type": "code",
   "execution_count": 83,
   "id": "88f4dc9d-6f9b-4151-8ccd-a4b32a758b57",
   "metadata": {},
   "outputs": [],
   "source": [
    "# tup.append(20)  # ---------> Error Because Tuple is Immutable\n",
    "# tup.pop()       # ---------> Error\n",
    "# tup.insert(1, 25) # -------> Error"
   ]
  },
  {
   "cell_type": "code",
   "execution_count": 97,
   "id": "e9edac54-731d-4365-a10f-403bbeeb96bc",
   "metadata": {},
   "outputs": [
    {
     "name": "stdout",
     "output_type": "stream",
     "text": [
      "Length of Tuple :  6\n",
      "Maximum in Tuple :  6\n",
      "Minimum in Tuple :  1\n",
      "Sum of Element in Tuple :  21\n",
      "()\n",
      "Sorted Tuple :  [1, 2, 3, 4, 5, 6]\n",
      "(6, 4, 2, 1, 5, 3)\n"
     ]
    }
   ],
   "source": [
    "# Operation on Tuple\n",
    "\n",
    "print(\"Length of Tuple : \",len(tup))\n",
    "print(\"Maximum in Tuple : \", max(tup))\n",
    "print(\"Minimum in Tuple : \", min(tup))\n",
    "print(\"Sum of Element in Tuple : \", sum(tup))\n",
    "t = tuple() # Creates an Empty Tuple\n",
    "print(t) # Empty Tuple displayed\n",
    "print(\"Sorted Tuple : \", sorted(tup))\n",
    "print(tup)\n"
   ]
  },
  {
   "cell_type": "code",
   "execution_count": 100,
   "id": "9298405c-b6f0-4f4f-85e1-82823a1f3345",
   "metadata": {},
   "outputs": [
    {
     "name": "stdout",
     "output_type": "stream",
     "text": [
      "[[1, 2, 3, 4, 5], [6, 7, 8, 9]]\n",
      "3\n"
     ]
    }
   ],
   "source": [
    "# Nested List\n",
    "nestedList = [[1, 2, 3, 4, 5], [6, 7, 8, 9]]\n",
    "print(nestedList)\n",
    "print(nestedList[0][2])"
   ]
  },
  {
   "cell_type": "code",
   "execution_count": null,
   "id": "4c1bb41e-e9cd-43ab-b960-e09d852ae874",
   "metadata": {},
   "outputs": [],
   "source": []
  },
  {
   "cell_type": "code",
   "execution_count": null,
   "id": "94496d47-c33c-4bad-b3c7-3ba4faced705",
   "metadata": {},
   "outputs": [],
   "source": []
  }
 ],
 "metadata": {
  "kernelspec": {
   "display_name": "Python 3 (ipykernel)",
   "language": "python",
   "name": "python3"
  },
  "language_info": {
   "codemirror_mode": {
    "name": "ipython",
    "version": 3
   },
   "file_extension": ".py",
   "mimetype": "text/x-python",
   "name": "python",
   "nbconvert_exporter": "python",
   "pygments_lexer": "ipython3",
   "version": "3.13.3"
  }
 },
 "nbformat": 4,
 "nbformat_minor": 5
}
