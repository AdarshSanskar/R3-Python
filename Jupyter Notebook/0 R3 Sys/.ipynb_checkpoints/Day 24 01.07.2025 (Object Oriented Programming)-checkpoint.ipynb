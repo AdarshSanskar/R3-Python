{
 "cells": [
  {
   "cell_type": "markdown",
   "id": "9aee2d55-c259-45f1-9382-0eddcdc6ef5c",
   "metadata": {},
   "source": [
    "# Day 24 : 01/07/2025\n",
    " - Object Oriented Programming in Python"
   ]
  },
  {
   "cell_type": "markdown",
   "id": "a22ef911-e501-460b-a0e2-e8641b60cea6",
   "metadata": {},
   "source": [
    "- Methods in python\n",
    "- 1. Instance Method\n",
    "- 2. Class Level Method\n",
    "- 3. Static methods"
   ]
  },
  {
   "cell_type": "markdown",
   "id": "35cfe1bb-20e0-46fc-ab68-93cfc1028a87",
   "metadata": {},
   "source": [
    "- Instance Method : Instance Method is a function that is defined inside a class and is called on an pbject of class\n",
    "- Class Level Method : A Class - level method is a method that belongs to the class itself, not to any particular instance it is marked using the @classmethod they are used for performaning common operation it does not require object while calling, it can directly called using the class name\n",
    "\n",
    "- Static Method : Static Method is a method that defines"
   ]
  },
  {
   "cell_type": "code",
   "execution_count": 13,
   "id": "2343ad02-1cc7-4ce4-b125-58bc0daa47de",
   "metadata": {},
   "outputs": [
    {
     "name": "stdin",
     "output_type": "stream",
     "text": [
      "Enter the Name :  Adarsh\n",
      "Enter the Age :  18\n"
     ]
    },
    {
     "name": "stdout",
     "output_type": "stream",
     "text": [
      "Name is Adarsh\n",
      "Age is 18\n"
     ]
    }
   ],
   "source": [
    "# Class Ceation in Python : \n",
    "class Student:\n",
    "    def getData(self):\n",
    "        self.name = input(\"Enter the Name : \")\n",
    "        self.age = int(input(\"Enter the Age : \"))\n",
    "    def displayData(self):\n",
    "        print(\"Name is {}\".format(self.name))\n",
    "        print(\"Age is {}\".format(self.age))\n",
    "\n",
    "s = Student()\n",
    "s.getData()\n",
    "s.displayData()"
   ]
  },
  {
   "cell_type": "markdown",
   "id": "cdc0bfeb-6482-46d2-94d3-90fb3d852af4",
   "metadata": {},
   "source": [
    "     Create a class Book with two methods\n",
    "     get_Data() - to take book title and author from user\n",
    "     disp_Data() - to display the book title and author"
   ]
  },
  {
   "cell_type": "code",
   "execution_count": 17,
   "id": "9052dc38-a1d1-4d62-bb4b-7537f2589088",
   "metadata": {},
   "outputs": [
    {
     "name": "stdin",
     "output_type": "stream",
     "text": [
      "Enter Title of Book :  Hello\n",
      "Enter Name of Author of Book :  World\n"
     ]
    },
    {
     "name": "stdout",
     "output_type": "stream",
     "text": [
      "Hello is Written By World\n"
     ]
    }
   ],
   "source": [
    "class Book:\n",
    "    def getData(self):\n",
    "        self.title = input(\"Enter Title of Book : \")\n",
    "        self.author = input(\"Enter Name of Author of Book : \")\n",
    "    def displayData(self):\n",
    "        print(f\"{self.title} is Written By {self.author}\")\n",
    "\n",
    "b = Book()\n",
    "b.getData()\n",
    "b.displayData()"
   ]
  },
  {
   "cell_type": "code",
   "execution_count": 21,
   "id": "7ad47ec4-7dde-4dd4-936d-50ea272a53d8",
   "metadata": {},
   "outputs": [
    {
     "name": "stdin",
     "output_type": "stream",
     "text": [
      "Enter Name of Company :  Google\n",
      "Enter Location of Company :  Banglore\n",
      "Enter Student Name :  Adarsh\n",
      "Enter Student Roll No. :  61\n",
      "Enter Course Selected by Student :  Machine Learning and Data Science using Python\n"
     ]
    },
    {
     "name": "stdout",
     "output_type": "stream",
     "text": [
      "----------------------------------------------------------------------------------------------------\n",
      "Adarsh has choosen Machine Learning and Data Science using Python in Google located at Banglore\n"
     ]
    }
   ],
   "source": [
    "class ITR:\n",
    "    def company(self):\n",
    "        self.name = input(\"Enter Name of Company : \")\n",
    "        self.location = input(\"Enter Location of Company : \")\n",
    "    def Student(self):\n",
    "        self.studName = input(\"Enter Student Name : \")\n",
    "        self.rollNo = input(\"Enter Student Roll No. : \")\n",
    "        self.course = input(\"Enter Course Selected by Student : \")\n",
    "    def display(self):\n",
    "        print(\"-\" * 100)\n",
    "        print(f\"{self.studName} has choosen {self.course} in {self.name} located at {self.location}\")\n",
    "\n",
    "obj = ITR()\n",
    "obj.company()\n",
    "obj.Student()\n",
    "obj.display()"
   ]
  },
  {
   "cell_type": "code",
   "execution_count": 26,
   "id": "f32298ea-dc26-4d9a-b36b-4aaa3b519818",
   "metadata": {},
   "outputs": [
    {
     "name": "stdin",
     "output_type": "stream",
     "text": [
      "Enter the Name :  Adarsh\n",
      "Enter the Age :  18\n"
     ]
    },
    {
     "name": "stdout",
     "output_type": "stream",
     "text": [
      "Name is Adarsh\n",
      "Age is 18\n"
     ]
    }
   ],
   "source": [
    "# Class Method in Python : \n",
    "# No need to create object directly called using Class Name\n",
    "# takes cls as an argument\n",
    "# Every Variable is accessed using the cls like we did with the self\n",
    "# does not require self as an argumet\n",
    "class Student:\n",
    "    @classmethod\n",
    "    def getData(cls):\n",
    "        cls.name = input(\"Enter the Name : \")\n",
    "        cls.age = int(input(\"Enter the Age : \"))\n",
    "    @classmethod\n",
    "    def displayData(cls):\n",
    "        print(\"Name is {}\".format(cls.name))\n",
    "        print(\"Age is {}\".format(cls.age))\n",
    "\n",
    "Student.getData()\n",
    "Student.displayData()"
   ]
  },
  {
   "cell_type": "code",
   "execution_count": 37,
   "id": "c429e8c5-2259-4f05-b579-1cecc771c184",
   "metadata": {},
   "outputs": [
    {
     "name": "stdin",
     "output_type": "stream",
     "text": [
      "Enter Name of Student :  Adarsh\n",
      "Enter Roll No. of Student :  61\n",
      "Enter Marks of Student :  98\n"
     ]
    },
    {
     "name": "stdout",
     "output_type": "stream",
     "text": [
      "**************************************************\n",
      "College Details : \n",
      "Name :  KKWP\n",
      "Course :  CM\n",
      "Location :  Nashik\n",
      "**************************************************\n",
      "**************************************************\n",
      "Student Details : \n",
      "**************************************************\n"
     ]
    },
    {
     "ename": "AttributeError",
     "evalue": "'StudentDetails' object has no attribute 'studName'",
     "output_type": "error",
     "traceback": [
      "\u001b[1;31m---------------------------------------------------------------------------\u001b[0m",
      "\u001b[1;31mAttributeError\u001b[0m                            Traceback (most recent call last)",
      "Cell \u001b[1;32mIn[37], line 29\u001b[0m\n\u001b[0;32m     27\u001b[0m StudentDetails\u001b[38;5;241m.\u001b[39mcollegeDetails()\n\u001b[0;32m     28\u001b[0m s1\u001b[38;5;241m.\u001b[39mgetStudentDetails()\n\u001b[1;32m---> 29\u001b[0m s2\u001b[38;5;241m.\u001b[39mdisplayDetails()\n\u001b[0;32m     30\u001b[0m s1\u001b[38;5;241m.\u001b[39mdisplayDetails()\n\u001b[0;32m     31\u001b[0m s2\u001b[38;5;241m.\u001b[39mgetStudentDetails()\n",
      "Cell \u001b[1;32mIn[37], line 21\u001b[0m, in \u001b[0;36mStudentDetails.displayDetails\u001b[1;34m(self)\u001b[0m\n\u001b[0;32m     19\u001b[0m \u001b[38;5;28mprint\u001b[39m(\u001b[38;5;124m\"\u001b[39m\u001b[38;5;124mStudent Details : \u001b[39m\u001b[38;5;124m\"\u001b[39m)\n\u001b[0;32m     20\u001b[0m \u001b[38;5;28mprint\u001b[39m(\u001b[38;5;124m\"\u001b[39m\u001b[38;5;124m*\u001b[39m\u001b[38;5;124m\"\u001b[39m\u001b[38;5;241m*\u001b[39m\u001b[38;5;241m50\u001b[39m)\n\u001b[1;32m---> 21\u001b[0m \u001b[38;5;28mprint\u001b[39m(\u001b[38;5;124m\"\u001b[39m\u001b[38;5;124mName : \u001b[39m\u001b[38;5;124m\"\u001b[39m, \u001b[38;5;28mself\u001b[39m\u001b[38;5;241m.\u001b[39mstudName)\n\u001b[0;32m     22\u001b[0m \u001b[38;5;28mprint\u001b[39m(\u001b[38;5;124m\"\u001b[39m\u001b[38;5;124mRoll Number : \u001b[39m\u001b[38;5;124m\"\u001b[39m,\u001b[38;5;28mself\u001b[39m\u001b[38;5;241m.\u001b[39mstudRoll)\n\u001b[0;32m     23\u001b[0m \u001b[38;5;28mprint\u001b[39m(\u001b[38;5;124m\"\u001b[39m\u001b[38;5;124mMarks : \u001b[39m\u001b[38;5;124m\"\u001b[39m, \u001b[38;5;28mself\u001b[39m\u001b[38;5;241m.\u001b[39mstudMarks)\n",
      "\u001b[1;31mAttributeError\u001b[0m: 'StudentDetails' object has no attribute 'studName'"
     ]
    }
   ],
   "source": [
    "class StudentDetails:\n",
    "    @classmethod\n",
    "    def collegeDetails(cls):\n",
    "        cls.name = \"KKWP\"\n",
    "        cls.course = \"CM\"\n",
    "        cls.place = \"Nashik\"\n",
    "    def getStudentDetails(self):\n",
    "        self.studName = input(\"Enter Name of Student : \")\n",
    "        self.studRoll = int(input(\"Enter Roll No. of Student : \"))\n",
    "        self.studMarks = int(input(\"Enter Marks of Student : \"))\n",
    "    def displayDetails(self):\n",
    "        print(\"*\"*50)\n",
    "        print(\"College Details : \")\n",
    "        print(\"Name : \",self.name)\n",
    "        print(\"Course : \",self.course)\n",
    "        print(\"Location : \", self.place)\n",
    "        print(\"*\"*50)\n",
    "        print(\"*\"*50)\n",
    "        print(\"Student Details : \")\n",
    "        print(\"*\"*50)\n",
    "        print(\"Name : \", self.studName)\n",
    "        print(\"Roll Number : \",self.studRoll)\n",
    "        print(\"Marks : \", self.studMarks)\n",
    "\n",
    "s1 = StudentDetails()\n",
    "s2 = StudentDetails()\n",
    "StudentDetails.collegeDetails()\n",
    "s1.getStudentDetails()\n",
    "s2.displayDetails()\n",
    "s1.displayDetails()\n",
    "s2.getStudentDetails()"
   ]
  },
  {
   "cell_type": "code",
   "execution_count": null,
   "id": "efc0b941-9d77-4c97-b3f6-93e180c3434e",
   "metadata": {},
   "outputs": [],
   "source": []
  }
 ],
 "metadata": {
  "kernelspec": {
   "display_name": "Python [conda env:base] *",
   "language": "python",
   "name": "conda-base-py"
  },
  "language_info": {
   "codemirror_mode": {
    "name": "ipython",
    "version": 3
   },
   "file_extension": ".py",
   "mimetype": "text/x-python",
   "name": "python",
   "nbconvert_exporter": "python",
   "pygments_lexer": "ipython3",
   "version": "3.12.7"
  }
 },
 "nbformat": 4,
 "nbformat_minor": 5
}
