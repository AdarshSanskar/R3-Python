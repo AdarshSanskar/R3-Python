{
 "cells": [
  {
   "cell_type": "code",
   "execution_count": null,
   "id": "531592dd-0838-41de-b2e4-5198a09c3193",
   "metadata": {},
   "outputs": [],
   "source": [
    "# Day 6 : Set, Its Methods. Dictionary, Its Method\n",
    "\n",
    "\n",
    "#Set can be called as a collection of different data types\n",
    "#Set Does not allow duplicate element\n",
    "#Indexing and Slicing is not possible"
   ]
  },
  {
   "cell_type": "code",
   "execution_count": 7,
   "id": "119089b3-1d48-490e-ab8a-cffe887bc8c6",
   "metadata": {},
   "outputs": [
    {
     "name": "stdout",
     "output_type": "stream",
     "text": [
      "{1, 2, 3, 4, 5, 6, 7, 8, 9, 10, 11}\n",
      "Size of Set :  11\n",
      "{1, (4+5j), 1.2}\n"
     ]
    }
   ],
   "source": [
    "s = set() # Empty Set\n",
    "s = {1, 2, 3, 4, 5, 6, 7, 8, 9, 10, 2, 4, 5, 11}     # Duplicate values not inserted in single set\n",
    "print(s)\n",
    "print(\"Size of Set : \", len(s))\n",
    "s1 = {1, 1.2, True, 4+5j}\n",
    "print(s1)"
   ]
  },
  {
   "cell_type": "code",
   "execution_count": 10,
   "id": "6bc02f42-ce17-4a34-8ab3-73c06fedfa15",
   "metadata": {},
   "outputs": [
    {
     "name": "stdout",
     "output_type": "stream",
     "text": [
      "{False, 1, 2, 3, 4, 5, 6, 7, 8, 'Hello'}\n"
     ]
    }
   ],
   "source": [
    "s3 = {1, 2, 2, 3, 4, \"Hello\", 5, 6, 6, 6, 7, 8, True, False}\n",
    "print(s3)"
   ]
  },
  {
   "cell_type": "code",
   "execution_count": 38,
   "id": "6b4bd64f-872c-45f6-a29d-101a51e66e2f",
   "metadata": {},
   "outputs": [
    {
     "name": "stdout",
     "output_type": "stream",
     "text": [
      "{1, 'Adarsh', 'Tanay', 'Yadnesh', 76, 45}\n"
     ]
    }
   ],
   "source": [
    "set1 = {1, 'Adarsh', 'Tanay', 'Yadnesh', 45, 76}\n",
    "print(set1)"
   ]
  },
  {
   "cell_type": "code",
   "execution_count": 39,
   "id": "ad96b760-fbb4-42b3-acbe-19a406b5790a",
   "metadata": {},
   "outputs": [],
   "source": [
    "# add : Adds the Element to the Set\n",
    "set1.add(65)"
   ]
  },
  {
   "cell_type": "code",
   "execution_count": 40,
   "id": "efac4ca8-3e12-413f-9c49-25de3f4af161",
   "metadata": {},
   "outputs": [
    {
     "name": "stdout",
     "output_type": "stream",
     "text": [
      "{1, 65, 'Adarsh', 'Tanay', 76, 45}\n"
     ]
    }
   ],
   "source": [
    "# remove() : Removes the Element only if it is present in the Set\n",
    "set1.remove('Yadnesh')   # Yadnesh Removed Successfully \n",
    "print(set1)\n",
    "# set1.remove('Parth') # Gives error because Parth is not present in the set"
   ]
  },
  {
   "cell_type": "code",
   "execution_count": 41,
   "id": "19bd1857-0c87-4302-9137-0a6e7450fa05",
   "metadata": {},
   "outputs": [
    {
     "name": "stdout",
     "output_type": "stream",
     "text": [
      "{1, 65, 'Adarsh', 'Tanay', 76}\n"
     ]
    }
   ],
   "source": [
    "# discard() : Removes the Element from the set.\n",
    "\n",
    "\n",
    "# remove() gives error if the element is not present\n",
    "# disacrd() does not gives error if the element is not present\n",
    "\n",
    "set1.discard(45)\n",
    "print(set1)\n",
    "set1.discard('Yadnesh')  #Does not give Error"
   ]
  },
  {
   "cell_type": "code",
   "execution_count": 42,
   "id": "76542a17-8dbd-4964-ab20-73cf9e223550",
   "metadata": {},
   "outputs": [
    {
     "name": "stdout",
     "output_type": "stream",
     "text": [
      "Popped Element :  1\n",
      "{65, 'Adarsh', 'Tanay', 76}\n"
     ]
    }
   ],
   "source": [
    "# pop() : Removes the Ranf=dom Element from the set\n",
    "print(\"Popped Element : \",set1.pop())\n",
    "print(set1)"
   ]
  },
  {
   "cell_type": "code",
   "execution_count": 35,
   "id": "8a383761-5255-4ce2-b2d9-5edc27479238",
   "metadata": {},
   "outputs": [
    {
     "name": "stdout",
     "output_type": "stream",
     "text": [
      "set()\n"
     ]
    }
   ],
   "source": [
    "# clear() : Clears the Entire Set\n",
    "\n",
    "set1.clear()\n",
    "print(set1)"
   ]
  },
  {
   "cell_type": "code",
   "execution_count": null,
   "id": "28afad32-a13a-49e4-9249-578edd3bdc6d",
   "metadata": {},
   "outputs": [],
   "source": []
  },
  {
   "cell_type": "code",
   "execution_count": 45,
   "id": "ea918674-40d2-4f55-8553-c69cf0b3e05b",
   "metadata": {},
   "outputs": [],
   "source": [
    "#Dictionary \n",
    "\n",
    "#Dictionary always come in pair\n",
    "#Dictionary also uses curly braces to declare\n",
    "#Syntax of Dictionary : d = {1 : 'Adarsh', 2 : 'Tanay', 3 : 'Yadnesh'}"
   ]
  },
  {
   "cell_type": "code",
   "execution_count": 53,
   "id": "d92a5022-a84e-4272-b863-f681b100db3d",
   "metadata": {},
   "outputs": [
    {
     "name": "stdout",
     "output_type": "stream",
     "text": [
      "{1: 'Adarsh', 2: 'Tanay', 3: 'Yadnesh'}\n",
      "Adarsh\n",
      "Tanay\n",
      "Yadnesh\n",
      "Length of Set :  3\n"
     ]
    }
   ],
   "source": [
    "d = {1 : 'Adarsh', 2 : 'Tanay', 3 : 'Yadnesh'}\n",
    "print(d)\n",
    "print(d[1])\n",
    "print(d[2])\n",
    "print(d[3])\n",
    "print('Length of Set : ', len(d))"
   ]
  },
  {
   "cell_type": "code",
   "execution_count": 59,
   "id": "0887d05c-ffe9-4526-b511-4b4d93075692",
   "metadata": {},
   "outputs": [
    {
     "name": "stdout",
     "output_type": "stream",
     "text": [
      "Adarsh\n",
      "None\n"
     ]
    }
   ],
   "source": [
    "#get(key) : Returns the Value which is assigned to the key\n",
    "print(d.get(1))   # Returns Adarsh\n",
    "print(d.get(5))   # Returns None"
   ]
  },
  {
   "cell_type": "code",
   "execution_count": null,
   "id": "5cee4d49-421d-4834-b7cf-195d787ee319",
   "metadata": {},
   "outputs": [],
   "source": []
  }
 ],
 "metadata": {
  "kernelspec": {
   "display_name": "Python 3 (ipykernel)",
   "language": "python",
   "name": "python3"
  },
  "language_info": {
   "codemirror_mode": {
    "name": "ipython",
    "version": 3
   },
   "file_extension": ".py",
   "mimetype": "text/x-python",
   "name": "python",
   "nbconvert_exporter": "python",
   "pygments_lexer": "ipython3",
   "version": "3.13.3"
  }
 },
 "nbformat": 4,
 "nbformat_minor": 5
}
