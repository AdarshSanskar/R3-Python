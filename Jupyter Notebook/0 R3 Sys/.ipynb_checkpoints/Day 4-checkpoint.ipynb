{
 "cells": [
  {
   "cell_type": "markdown",
   "id": "a564d9a2-8f11-422f-88ee-1bb11a94ae75",
   "metadata": {},
   "source": [
    "# Day 4: Introductiono to String, Operations on String, Slicing, Negative Indexing, String Methods\n",
    "#\n",
    "#          P  y  t  h  o  n\n",
    "#\n",
    "#          0  1  2  3  4  5            ---------> Positive Indexing\n",
    "#\n",
    "#          -5  -4  -3  -2  -1          ---------> Negative Indexing"
   ]
  },
  {
   "cell_type": "code",
   "execution_count": null,
   "id": "ade3a996-5786-408c-ae57-3737277b1c59",
   "metadata": {},
   "outputs": [],
   "source": [
    "#Slicing Operations"
   ]
  },
  {
   "cell_type": "code",
   "execution_count": null,
   "id": "ef4c6a83-b442-40f1-9bc9-dd7d1c3d111f",
   "metadata": {},
   "outputs": [],
   "source": [
    "#str[startIndex : endIndex]"
   ]
  },
  {
   "cell_type": "code",
   "execution_count": 33,
   "id": "b312fb70-f96f-491b-9fb5-5a0eeae3ac95",
   "metadata": {
    "editable": true,
    "scrolled": true,
    "slideshow": {
     "slide_type": ""
    },
    "tags": []
   },
   "outputs": [
    {
     "name": "stdout",
     "output_type": "stream",
     "text": [
      "Hello Python <class 'str'>\n",
      "Element at index 0 :  H\n",
      "Element at index 1 :  e\n",
      "Element at index -1 :  n\n",
      "Python\n",
      "Pytho\n",
      "\n",
      "thon\n",
      "Hello Pyth\n",
      "Hello\n"
     ]
    }
   ],
   "source": [
    "string = \"Hello Python\"\n",
    "print(str, type(str))\n",
    "print(\"Element at index 0 : \", string[0])\n",
    "print(\"Element at index 1 : \", string[1])\n",
    "print(\"Element at index -1 : \", string[-1]) # Last Caharacter\n",
    "print(string[6:12])                  # --------> Slicing          o/p : Python\n",
    "print(string[6:11])                  # --------> o/p : Pytho\n",
    "print(string[12:6])                  # Prints Nothing \n",
    "print(string[8 : ])\n",
    "print(string[ : 10])\n",
    "print(string[-12:-7])"
   ]
  },
  {
   "cell_type": "code",
   "execution_count": null,
   "id": "6c97f0bd-4e9d-4414-b33d-4dbc7ca1d895",
   "metadata": {},
   "outputs": [],
   "source": [
    "#str[startIndex : endIndex : steps]"
   ]
  },
  {
   "cell_type": "code",
   "execution_count": 31,
   "id": "8ce52b2a-0adf-49ee-9f87-c92cbda78ba8",
   "metadata": {},
   "outputs": [
    {
     "name": "stdout",
     "output_type": "stream",
     "text": [
      "0123456789\n"
     ]
    }
   ],
   "source": [
    "str0 = \"0123456789\"\n",
    "print(str0[0 : : 1])"
   ]
  },
  {
   "cell_type": "code",
   "execution_count": 36,
   "id": "b80b1896-4f8d-403c-9f17-74dcbe745cb4",
   "metadata": {},
   "outputs": [
    {
     "name": "stdout",
     "output_type": "stream",
     "text": [
      "02468\n",
      "Original String :  0123456789\n",
      "Reversed String :  9876543210\n"
     ]
    }
   ],
   "source": [
    "print(str0[0 : : 2])\n",
    "print(\"Original String : \",str0)\n",
    "print(\"Reversed String : \",str0[ : : -1])"
   ]
  },
  {
   "cell_type": "code",
   "execution_count": null,
   "id": "578833f0-546c-4bb1-8c9a-e8a0e42ee357",
   "metadata": {},
   "outputs": [],
   "source": [
    "#String Operations and Methods"
   ]
  },
  {
   "cell_type": "code",
   "execution_count": 29,
   "id": "8d205dbc-6b21-4479-a00f-e2424a2e8950",
   "metadata": {},
   "outputs": [
    {
     "name": "stdout",
     "output_type": "stream",
     "text": [
      "String Concatinate :  Welcome to The World of Python empire\n",
      "String Multiplication :  empireempireempire\n",
      "String in Upper Case :  EMPIRE\n",
      "String in Lower Case :  empire\n",
      "String in Title Format :  Empire\n",
      "String 1 :  Welcome to The World of Python \n",
      "Occurance of W in String 1 :  2\n"
     ]
    }
   ],
   "source": [
    "str1 = \"Welcome to The World of Python \"\n",
    "str2 = \"empire\"\n",
    "print(\"String Concatinate : \",str1 + str2)\n",
    "print(\"String Multiplication : \",str2 * 3)\n",
    "print(\"String in Upper Case : \", str2.upper())\n",
    "print(\"String in Lower Case : \", str2.lower())\n",
    "print(\"String in Title Format : \", str2.title())\n",
    "print(\"String 1 : \",str1)\n",
    "print(\"Occurance of W in String 1 : \", str1.count('W'))"
   ]
  },
  {
   "cell_type": "code",
   "execution_count": 34,
   "id": "eb2641b1-c4c6-4100-8873-22cd814cf2ef",
   "metadata": {},
   "outputs": [
    {
     "name": "stdout",
     "output_type": "stream",
     "text": [
      "Hello World\n",
      "This is a Paragraph in Python,\n",
      "We can implement this by using 3 Double Quotes or 3 Single Quotes\n"
     ]
    }
   ],
   "source": [
    "str3 = \"\"\"Hello World\n",
    "This is a Paragraph in Python,\n",
    "We can implement this by using 3 Double Quotes or 3 Single Quotes\"\"\"\n",
    "print(str3)"
   ]
  },
  {
   "cell_type": "code",
   "execution_count": 45,
   "id": "d9ba0f32-1780-482e-9c4c-ed4080ff39cd",
   "metadata": {},
   "outputs": [
    {
     "name": "stdout",
     "output_type": "stream",
     "text": [
      "Enen Numebers : \n",
      "0\n",
      "2\n",
      "4\n",
      "6\n",
      "8\n"
     ]
    }
   ],
   "source": [
    "#range(start, end, step)\n",
    "r = range(0,10,2)\n",
    "print(\"Enen Numebers : \")\n",
    "for i in r:\n",
    "    print(i)"
   ]
  },
  {
   "cell_type": "code",
   "execution_count": 56,
   "id": "fd4fb28b-7487-4530-a129-3a4a92bae0ef",
   "metadata": {},
   "outputs": [
    {
     "name": "stdout",
     "output_type": "stream",
     "text": [
      "Python is Greatood\n"
     ]
    }
   ],
   "source": [
    "s1 = \"Python is Good\"\n",
    "s2 = \"Great\"\n",
    "s3 = \"\"\n",
    "\n",
    "for i in s1:\n",
    "    if i != 'G':\n",
    "        s3 = s3 + i\n",
    "    else:\n",
    "        for j in s2:\n",
    "            s3 = s3 + j\n",
    "\n",
    "print(s3)"
   ]
  },
  {
   "cell_type": "code",
   "execution_count": 52,
   "id": "6a01fdbe-c55c-485a-839f-ebcac3894b54",
   "metadata": {},
   "outputs": [
    {
     "data": {
      "text/plain": [
       "'Python is Great'"
      ]
     },
     "execution_count": 52,
     "metadata": {},
     "output_type": "execute_result"
    }
   ],
   "source": [
    "s1.replace(\"Good\", s2)"
   ]
  },
  {
   "cell_type": "code",
   "execution_count": 57,
   "id": "7f1e5b0d-4f17-4067-ad3c-33e8b6839e35",
   "metadata": {},
   "outputs": [
    {
     "name": "stdin",
     "output_type": "stream",
     "text": [
      "Enter Your String :  Python is Good\n",
      "Enter Word to Replace :  Good\n",
      "Enter Word you want :  Great\n"
     ]
    },
    {
     "data": {
      "text/plain": [
       "'Python is Great'"
      ]
     },
     "execution_count": 57,
     "metadata": {},
     "output_type": "execute_result"
    }
   ],
   "source": [
    "n1 = input(\"Enter Your String : \")\n",
    "n2 = input(\"Enter Word to Replace : \")\n",
    "n3 = input(\"Enter Word you want : \")\n",
    "n1.replace(n2, n3)"
   ]
  },
  {
   "cell_type": "code",
   "execution_count": null,
   "id": "9d5cf5e3-5530-4bfc-83a6-c5fa8698c1eb",
   "metadata": {},
   "outputs": [],
   "source": [
    "#Replace word in String Without using any Function"
   ]
  },
  {
   "cell_type": "code",
   "execution_count": null,
   "id": "2f156f11-b41b-495a-8cc7-279b7ce93fe0",
   "metadata": {},
   "outputs": [],
   "source": [
    "string1 = \"Hello World i am learning Java\"\n",
    "string2 = \"Java\"\n",
    "string3 = \"Python\"\n",
    "for i in string1:\n",
    "    if i == string2:\n",
    "        conodition = true\n",
    "        count = i\n",
    "        if i++ == string2++:\n",
    "            condition = true\n",
    "            "
   ]
  }
 ],
 "metadata": {
  "kernelspec": {
   "display_name": "Python [conda env:base] *",
   "language": "python",
   "name": "conda-base-py"
  },
  "language_info": {
   "codemirror_mode": {
    "name": "ipython",
    "version": 3
   },
   "file_extension": ".py",
   "mimetype": "text/x-python",
   "name": "python",
   "nbconvert_exporter": "python",
   "pygments_lexer": "ipython3",
   "version": "3.12.7"
  }
 },
 "nbformat": 4,
 "nbformat_minor": 5
}
