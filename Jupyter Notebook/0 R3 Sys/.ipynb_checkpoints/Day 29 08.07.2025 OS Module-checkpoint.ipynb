{
 "cells": [
  {
   "cell_type": "markdown",
   "id": "837501b3-f7b4-4973-8b37-a759846a3b7c",
   "metadata": {},
   "source": [
    "# Day 29 : 08/07/2025\n",
    "# OS Module\n"
   ]
  },
  {
   "cell_type": "markdown",
   "id": "63c17bb0-31cb-432c-be51-409d5781c53e",
   "metadata": {},
   "source": [
    "* OS is one of the predefined module in python\n",
    "* 1. Create a Folder\n",
    "  2. Create Root Folder, Sub folder, sub - sub folder\n",
    "  3. delete a folder\n",
    "  4. delete a root folder, sub folder\n",
    "  5. List Files from Folder\n",
    "\n",
    "# OS Operation\n",
    "* 1. os.mkdir(\"Folder Name\") : Creates one Folder at a time\n",
    "  2. os.makedirs(\"Folder Hierarchy\") : Creates Root Folder, Sub Folder, Sub - Sub Folder"
   ]
  },
  {
   "cell_type": "code",
   "execution_count": 19,
   "id": "a5c3ee0f-0f45-4d12-b314-b16c4267aa62",
   "metadata": {},
   "outputs": [
    {
     "name": "stdout",
     "output_type": "stream",
     "text": [
      "Folder Already Exists\n"
     ]
    }
   ],
   "source": [
    "import os\n",
    "try:\n",
    "    os.makedirs(r\"D:\\000 Adarsh\\R3 System ITR\\R3-System-Learn-Python\\OS Module\\Folder 1\\Folder 1.1\\Folder 1.1.1\")\n",
    "    print(\"Folder Created Successfully...\")\n",
    "except FileExistsError:\n",
    "    print(\"Folder Already Exists\")\n",
    "except FileNotFoundError:\n",
    "    print(\"Root Folder does not Exists\")"
   ]
  },
  {
   "cell_type": "code",
   "execution_count": 44,
   "id": "a34eda5f-a949-45d6-afe3-c38c6ba0cb5d",
   "metadata": {},
   "outputs": [
    {
     "name": "stdout",
     "output_type": "stream",
     "text": [
      "1. Create Directory\n",
      "2. Remove Directory\n",
      "3. List Directory\n",
      "0. Exit\n"
     ]
    },
    {
     "name": "stdin",
     "output_type": "stream",
     "text": [
      "Enter Your Choice :  0\n"
     ]
    }
   ],
   "source": [
    "import os\n",
    "\n",
    "def createDirectory():\n",
    "    try:\n",
    "        folderPath = input(\"Enter Path of Folder : \")\n",
    "        folderName = input(\"Enter Name of Folder : \")\n",
    "        finalPath = folderPath + '\\\\' + folderName\n",
    "        print(finalPath)\n",
    "        os.makedirs(finalPath)\n",
    "        print(\"Folder created Successfully...\")\n",
    "    except FileExistsError:\n",
    "        print(\"Folder Already Exists...\")\n",
    "    except FileNotFoundError:\n",
    "        print(\"Root Folder does not Exist...\")\n",
    "\n",
    "def removeDirectory():\n",
    "    try:\n",
    "        folderPath = input(\"Enter Path of Folder to Delete : \")\n",
    "        os.rmdir(folderPath)\n",
    "        print(\"Folder Deleted Successfully...\")\n",
    "    except FileNotFoundError:\n",
    "        print(\"Folder Does Not Exist...\")\n",
    "    except OSError:\n",
    "        print(\"Folder is not empty or cannot be deleted...\")\n",
    "\n",
    "def listDirectory():\n",
    "    try:\n",
    "        folderPath = input(\"Enter Path of Folder to List : \")\n",
    "        fileList = os.listdir(folderPath)\n",
    "        for file in fileList:\n",
    "            print(file)\n",
    "    except FileNotFoundError:\n",
    "        print(\"Folder Does not Exist...\")\n",
    "\n",
    "print(\"1. Create Directory\\n2. Remove Directory\\n3. List Directory\\n0. Exit\")\n",
    "ch = int(input(\"Enter Your Choice : \"))\n",
    "\n",
    "while ch != 0:\n",
    "    match ch:\n",
    "        case 1:\n",
    "            createDirectory()\n",
    "        case 2: \n",
    "            removeDirectory()\n",
    "        case 3:\n",
    "            listDirectory()\n",
    "        case _:\n",
    "            print(\"Invalid choice!\")\n",
    "    print(\"\\n1. Create Directory\\n2. Remove Directory\\n3. List Directory\\n0. Exit\")\n",
    "    ch = int(input(\"Enter Your Choice : \"))\n"
   ]
  },
  {
   "cell_type": "code",
   "execution_count": null,
   "id": "3a7d7a68-90f7-4fca-bc90-79bc6ebb9bb7",
   "metadata": {},
   "outputs": [],
   "source": []
  },
  {
   "cell_type": "code",
   "execution_count": 28,
   "id": "5a7bb319-9e35-457b-90a9-307acb5c245b",
   "metadata": {},
   "outputs": [
    {
     "name": "stdout",
     "output_type": "stream",
     "text": [
      "Folder Deleted Successfully...\n"
     ]
    }
   ],
   "source": [
    "# Remove Directory\n",
    "try:\n",
    "    os.rmdir(r\"D:\\000 Adarsh\\R3 System ITR\\R3-System-Learn-Python\\OS Module\\Folder 1\")\n",
    "    print(\"Folder Deleted Successfully...\")\n",
    "except FileExistsError:\n",
    "    print(\"Folder Does Not Exists\")"
   ]
  },
  {
   "cell_type": "code",
   "execution_count": 38,
   "id": "42c03cae-caca-49f6-a9f0-5aa1dc0f15f5",
   "metadata": {},
   "outputs": [
    {
     "name": "stdout",
     "output_type": "stream",
     "text": [
      "Adarsh\n",
      "Python\n"
     ]
    }
   ],
   "source": [
    "# List Files\n",
    "try:\n",
    "    fileList = os.listdir(r\"D:\\000 Adarsh\\R3 System ITR\\R3-System-Learn-Python\\OS Module\")\n",
    "    for file in fileList:\n",
    "        print(file)\n",
    "except FileNotFoundError:\n",
    "    print(\"Folder Does not Exists\")"
   ]
  },
  {
   "cell_type": "code",
   "execution_count": 39,
   "id": "84172f46-35ac-40cc-871c-46c01e6eac3c",
   "metadata": {},
   "outputs": [
    {
     "name": "stdout",
     "output_type": "stream",
     "text": [
      "('D:\\\\000 Adarsh\\\\R3 System ITR\\\\R3-System-Learn-Python\\\\OS Module', ['Adarsh', 'Python'], [])\n",
      "('D:\\\\000 Adarsh\\\\R3 System ITR\\\\R3-System-Learn-Python\\\\OS Module\\\\Adarsh', [], [])\n",
      "('D:\\\\000 Adarsh\\\\R3 System ITR\\\\R3-System-Learn-Python\\\\OS Module\\\\Python', [], [])\n"
     ]
    }
   ],
   "source": [
    "# Walk\n",
    "try:\n",
    "    fileList = os.walk(r\"D:\\000 Adarsh\\R3 System ITR\\R3-System-Learn-Python\\OS Module\")\n",
    "    for file in fileList:\n",
    "        print(file)\n",
    "except FileNotFoundError:\n",
    "    print(\"Folder Does not Exists\")"
   ]
  },
  {
   "cell_type": "code",
   "execution_count": 43,
   "id": "8c10d42a-d354-4477-b3b6-ebac04254586",
   "metadata": {},
   "outputs": [
    {
     "name": "stdout",
     "output_type": "stream",
     "text": [
      "Fonder Renamed...\n"
     ]
    }
   ],
   "source": [
    "# Renaame:\n",
    "try:\n",
    "    fileList = os.rename(r\"D:\\000 Adarsh\\R3 System ITR\\R3-System-Learn-Python\\OS Module\\Hello\", r\"D:\\000 Adarsh\\R3 System ITR\\R3-System-Learn-Python\\OS Module\\Adarsh\")\n",
    "    print(\"Fonder Renamed...\")\n",
    "except FileNotFoundError:\n",
    "    print(\"Folder Does not Exists\")\n"
   ]
  },
  {
   "cell_type": "code",
   "execution_count": 1,
   "id": "bad8af06-41b7-4466-ae5e-07519354d299",
   "metadata": {},
   "outputs": [],
   "source": [
    "# ShutDown PC\n",
    "\n",
    "# os.system(\"shutdown /s /t 0\")\n"
   ]
  },
  {
   "cell_type": "code",
   "execution_count": 8,
   "id": "594f3fef-fab9-4ee3-a87b-8d56b78004a8",
   "metadata": {},
   "outputs": [
    {
     "data": {
      "text/plain": [
       "'C:\\\\'"
      ]
     },
     "execution_count": 8,
     "metadata": {},
     "output_type": "execute_result"
    }
   ],
   "source": [
    "# Changes the Current Working Directory and Displays It\n",
    "import os\n",
    "os.chdir(\"C:\\\\\")\n",
    "os.getcwd()"
   ]
  },
  {
   "cell_type": "code",
   "execution_count": 9,
   "id": "c1693559-32b9-49d7-be86-688105171930",
   "metadata": {},
   "outputs": [
    {
     "data": {
      "text/plain": [
       "4096"
      ]
     },
     "execution_count": 9,
     "metadata": {},
     "output_type": "execute_result"
    }
   ],
   "source": [
    "os.path.getsize(\"D:\\\\000 Adarsh\")"
   ]
  },
  {
   "cell_type": "code",
   "execution_count": null,
   "id": "6193d5f1-78fc-4234-8cab-4f7aff0ead2c",
   "metadata": {},
   "outputs": [],
   "source": []
  }
 ],
 "metadata": {
  "kernelspec": {
   "display_name": "Python [conda env:base] *",
   "language": "python",
   "name": "conda-base-py"
  },
  "language_info": {
   "codemirror_mode": {
    "name": "ipython",
    "version": 3
   },
   "file_extension": ".py",
   "mimetype": "text/x-python",
   "name": "python",
   "nbconvert_exporter": "python",
   "pygments_lexer": "ipython3",
   "version": "3.12.7"
  }
 },
 "nbformat": 4,
 "nbformat_minor": 5
}
