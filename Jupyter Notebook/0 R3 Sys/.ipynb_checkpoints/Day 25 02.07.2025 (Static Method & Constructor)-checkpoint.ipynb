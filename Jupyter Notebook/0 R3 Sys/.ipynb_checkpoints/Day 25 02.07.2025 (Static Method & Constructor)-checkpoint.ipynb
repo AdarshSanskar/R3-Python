{
 "cells": [
  {
   "cell_type": "markdown",
   "id": "cc84be7e-3b6a-4734-b2d9-6f2dbfce8a50",
   "metadata": {},
   "source": [
    "# Day 25 02.07.2025 (Static Method)"
   ]
  },
  {
   "cell_type": "markdown",
   "id": "ea0dfce1-959f-4c95-a746-a7179e54bbf7",
   "metadata": {},
   "source": [
    "- Static Method is Called directly using the Class Name it does not require any object creation\n",
    "- Static Method also does not use the self or the cls keywords to access the variables\n",
    "- It Behaves like a regular function but it belongs to the class namespace"
   ]
  },
  {
   "cell_type": "code",
   "execution_count": 1,
   "id": "836d8f96-a35b-4fbf-850d-c79eae73141e",
   "metadata": {},
   "outputs": [
    {
     "name": "stdin",
     "output_type": "stream",
     "text": [
      "Enter the Name :  Adarsh\n",
      "Enter the Age :  18\n"
     ]
    },
    {
     "name": "stdout",
     "output_type": "stream",
     "text": [
      "Name is Adarsh\n",
      "Age is 18\n"
     ]
    }
   ],
   "source": [
    "# Static Method\n",
    "class Student:\n",
    "    @staticmethod\n",
    "    def stud_details():\n",
    "        name = input(\"Enter the Name : \")\n",
    "        age = int(input(\"Enter the Age : \"))\n",
    "        print(\"Name is {}\".format(name))\n",
    "        print(\"Age is {}\".format(age))\n",
    "\n",
    "Student.stud_details()"
   ]
  },
  {
   "cell_type": "code",
   "execution_count": 8,
   "id": "a65d0518-8217-4ce2-97ac-2ca16a1080a7",
   "metadata": {},
   "outputs": [
    {
     "name": "stdout",
     "output_type": "stream",
     "text": [
      "--------------------------------------------------\n",
      "Enter Employee Details : \n",
      "--------------------------------------------------\n"
     ]
    },
    {
     "name": "stdin",
     "output_type": "stream",
     "text": [
      "Enter Employee Number :  1424\n",
      "Enter Employee Name :  Adarsh\n",
      "Enter Employee Salary :  4.5\n"
     ]
    },
    {
     "name": "stdout",
     "output_type": "stream",
     "text": [
      "--------------------------------------------------\n",
      "--------------------------------------------------\n",
      "Enter Student Details : \n",
      "--------------------------------------------------\n"
     ]
    },
    {
     "name": "stdin",
     "output_type": "stream",
     "text": [
      "Enter Student Number :  61\n",
      "Enter Student Name :  Adarsh\n"
     ]
    },
    {
     "name": "stdout",
     "output_type": "stream",
     "text": [
      "--------------------------------------------------\n",
      "--------------------------------------------------\n",
      "Enter Teachers Details : \n",
      "--------------------------------------------------\n"
     ]
    },
    {
     "name": "stdin",
     "output_type": "stream",
     "text": [
      "Enter Teacher No :  16\n",
      "Enter Teacher Name :  Adarsh\n",
      "Enter Teacher Experience :  10\n",
      "Enter Subject :  Python\n"
     ]
    },
    {
     "name": "stdout",
     "output_type": "stream",
     "text": [
      "--------------------------------------------------\n",
      "--------------------------------------------------\n",
      "Employee Details : \n",
      "--------------------------------------------------\n",
      "empNo:1424\n",
      "empName:Adarsh\n",
      "empSalary:4.5\n",
      "--------------------------------------------------\n",
      "--------------------------------------------------\n",
      "Student Details : \n",
      "--------------------------------------------------\n",
      "studNo:61\n",
      "studName:Adarsh\n",
      "--------------------------------------------------\n",
      "--------------------------------------------------\n",
      "Teachers Details : \n",
      "--------------------------------------------------\n",
      "teachNo:16\n",
      "teachname:Adarsh\n",
      "teachExpr:10.0\n",
      "teachSubject:Python\n",
      "--------------------------------------------------\n",
      "--------------------------------------------------\n"
     ]
    }
   ],
   "source": [
    "class Employee:\n",
    "    def readEmployeeDetails(self):\n",
    "        print(\"-\"*50)\n",
    "        self.empNo = int(input(\"Enter Employee Number : \"))\n",
    "        self.empName = input(\"Enter Employee Name : \")\n",
    "        self.empSalary = float(input(\"Enter Employee Salary : \"))\n",
    "        print(\"-\"*50)\n",
    "\n",
    "class Student:\n",
    "    def readStudentDetails(self):\n",
    "        print(\"-\"*50)\n",
    "        self.studNo = int(input(\"Enter Student Number : \"))\n",
    "        self.studName = input(\"Enter Student Name : \")\n",
    "        print(\"-\"*50)\n",
    "\n",
    "class Teacher:\n",
    "    def readTeacherDetails(self):\n",
    "        print(\"-\"*50)\n",
    "        self.teachNo = int(input(\"Enter Teacher No : \"))\n",
    "        self.teachname = input(\"Enter Teacher Name : \")\n",
    "        self.teachExpr = float(input(\"Enter Teacher Experience : \"))\n",
    "        self.teachSubject = input(\"Enter Subject : \")\n",
    "        print(\"-\"*50)\n",
    "\n",
    "class DisplayClassDetails:\n",
    "    @staticmethod\n",
    "    def displayDetails(obj):\n",
    "        for k, v in obj.__dict__.items():\n",
    "            print(\"{}:{}\".format(k, v))\n",
    "        print(\"-\"*50)\n",
    "\n",
    "print(\"-\"*50)\n",
    "print(\"Enter Employee Details : \")\n",
    "emp = Employee()\n",
    "emp.readEmployeeDetails()\n",
    "print(\"-\"*50)\n",
    "print(\"Enter Student Details : \")\n",
    "stud = Student()\n",
    "stud.readStudentDetails()\n",
    "print(\"-\"*50)\n",
    "print(\"Enter Teachers Details : \")\n",
    "teach = Teacher()\n",
    "teach.readTeacherDetails()\n",
    "print(\"-\"*50)\n",
    "print(\"Employee Details : \")\n",
    "print(\"-\"*50)\n",
    "DisplayClassDetails.displayDetails(emp)\n",
    "print(\"-\"*50)\n",
    "print(\"Student Details : \")\n",
    "print(\"-\"*50)\n",
    "DisplayClassDetails.displayDetails(stud)\n",
    "print(\"-\"*50)\n",
    "print(\"Teachers Details : \")\n",
    "print(\"-\"*50)\n",
    "DisplayClassDetails.displayDetails(teach)\n",
    "print(\"-\"*50)"
   ]
  },
  {
   "cell_type": "markdown",
   "id": "38c65862-9729-40d9-9cb8-2fa4913b3fa8",
   "metadata": {},
   "source": [
    "# Constructor\n",
    "* Default Constructor : To initialize multiple object of same class with same value, they do not have any parameter except self\n",
    "* Parameterized Constructor : To initialize multiple object of same class with different value (Passed as argument)."
   ]
  },
  {
   "cell_type": "code",
   "execution_count": 9,
   "id": "d4b2c4dc-19b8-4496-9dd2-5514d15bb0b4",
   "metadata": {},
   "outputs": [
    {
     "name": "stdout",
     "output_type": "stream",
     "text": [
      "Student 1 :  Adarsh Python\n",
      "Student 2 :  Adarsh Python\n"
     ]
    }
   ],
   "source": [
    "class Student:\n",
    "    def __init__(self): # Default Constructor\n",
    "        self.name = \"Adarsh\"\n",
    "        self.course = \"Python\"\n",
    "\n",
    "# Creating Objects\n",
    "s1 = Student()\n",
    "s2 = Student()\n",
    "\n",
    "print(\"Student 1 : \", s1.name, s2.course)\n",
    "print(\"Student 2 : \", s2.name, s2.course)"
   ]
  },
  {
   "cell_type": "code",
   "execution_count": 13,
   "id": "244d4cd2-3bb9-4e56-bb95-70b2813a5220",
   "metadata": {},
   "outputs": [
    {
     "name": "stdout",
     "output_type": "stream",
     "text": [
      "Student 1 :  Adarsh Python\n",
      "Student 2 :  Tanay JavaScript\n"
     ]
    }
   ],
   "source": [
    "class Student:\n",
    "    def __init__ (self, name, course):\n",
    "        self.name = name\n",
    "        self.course = course\n",
    "\n",
    "s1 = Student(\"Adarsh\", \"Python\")\n",
    "s2 = Student(\"Tanay\", \"JavaScript\")\n",
    "\n",
    "print(\"Student 1 : \", s1.name, s1.course)\n",
    "print(\"Student 2 : \", s2.name, s2.course)"
   ]
  },
  {
   "cell_type": "code",
   "execution_count": 14,
   "id": "b75aeeee-e43c-43cb-bade-be361004bd53",
   "metadata": {},
   "outputs": [
    {
     "name": "stdout",
     "output_type": "stream",
     "text": [
      "Student 1 :  Adarsh Python PICT\n",
      "Student 2 :  Tanay JavaScript KKWP\n"
     ]
    }
   ],
   "source": [
    "class Student:\n",
    "    def __init__ (self, name, course, college = \"KKWP\"):\n",
    "        self.name = name\n",
    "        self.course = course\n",
    "        self.college = college\n",
    "\n",
    "s1 = Student(\"Adarsh\", \"Python\", \"PICT\")\n",
    "s2 = Student(\"Tanay\", \"JavaScript\")\n",
    "\n",
    "print(\"Student 1 : \", s1.name, s1.course, s1.college)\n",
    "print(\"Student 2 : \", s2.name, s2.course, s2.college)"
   ]
  },
  {
   "cell_type": "code",
   "execution_count": 25,
   "id": "2cfde6c7-c3ef-4eba-94ce-003953b697bd",
   "metadata": {},
   "outputs": [
    {
     "name": "stdout",
     "output_type": "stream",
     "text": [
      "Movie Name : Intersteller\n",
      "Rating : 4.8⭐\n",
      "Movie Name : Untitled\n",
      "Rating : 0.0⭐\n"
     ]
    }
   ],
   "source": [
    "class Movie:\n",
    "    def __init__ (self, name = \"Untitled\", rating = 0.0):\n",
    "        self.name = name\n",
    "        self.rating = rating\n",
    "    def display(self):\n",
    "        print(\"Movie Name : {}\".format(self.name))\n",
    "        print(\"Rating : {}⭐\".format(self.rating))\n",
    "\n",
    "mov1 = Movie(\"Intersteller\", 4.8)\n",
    "mov2 = Movie()\n",
    "mov1.display()\n",
    "mov2.display()"
   ]
  },
  {
   "cell_type": "code",
   "execution_count": null,
   "id": "91118dee-9bb2-4e8a-85aa-15f0defc1069",
   "metadata": {},
   "outputs": [],
   "source": []
  }
 ],
 "metadata": {
  "kernelspec": {
   "display_name": "Python [conda env:base] *",
   "language": "python",
   "name": "conda-base-py"
  },
  "language_info": {
   "codemirror_mode": {
    "name": "ipython",
    "version": 3
   },
   "file_extension": ".py",
   "mimetype": "text/x-python",
   "name": "python",
   "nbconvert_exporter": "python",
   "pygments_lexer": "ipython3",
   "version": "3.12.7"
  }
 },
 "nbformat": 4,
 "nbformat_minor": 5
}
