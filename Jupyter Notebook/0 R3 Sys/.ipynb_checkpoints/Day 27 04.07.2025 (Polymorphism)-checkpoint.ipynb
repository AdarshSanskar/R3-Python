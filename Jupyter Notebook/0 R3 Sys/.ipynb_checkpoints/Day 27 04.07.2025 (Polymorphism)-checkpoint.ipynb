{
 "cells": [
  {
   "cell_type": "markdown",
   "id": "2afc41ea-0dfa-47fb-85f9-286bc5164cc0",
   "metadata": {},
   "source": [
    "# Day 27 (27/04/22025)"
   ]
  },
  {
   "cell_type": "markdown",
   "id": "f927f370-32b0-4424-a69d-4b9e686fc069",
   "metadata": {},
   "source": [
    "# Polymorphism\n",
    "- Compile Time Polymorphism\n",
    "- Run Time Polymorphism"
   ]
  },
  {
   "cell_type": "markdown",
   "id": "a208421e-b9f0-419a-889e-5eb823d09ced",
   "metadata": {},
   "source": [
    "* Method Overriding : Mehthod Heading is same and body is different"
   ]
  },
  {
   "cell_type": "code",
   "execution_count": 5,
   "id": "eff509e4-35d9-4973-a4d8-cedaee36a4a6",
   "metadata": {},
   "outputs": [
    {
     "name": "stdout",
     "output_type": "stream",
     "text": [
      "--------------------------------------------------\n"
     ]
    },
    {
     "name": "stdin",
     "output_type": "stream",
     "text": [
      "Enter the length of Rectangle :  10\n",
      "Enter the breadth of Rectangle :  20\n"
     ]
    },
    {
     "name": "stdout",
     "output_type": "stream",
     "text": [
      "Area of Rectangle :  200.0\n",
      "--------------------------------------------------\n",
      "--------------------------------------------------\n"
     ]
    },
    {
     "name": "stdin",
     "output_type": "stream",
     "text": [
      "Enter Side of Square :  10\n"
     ]
    },
    {
     "name": "stdout",
     "output_type": "stream",
     "text": [
      "Area of Square :  100.0\n",
      "--------------------------------------------------\n",
      "--------------------------------------------------\n"
     ]
    },
    {
     "name": "stdin",
     "output_type": "stream",
     "text": [
      "Enter Radius :  5\n"
     ]
    },
    {
     "name": "stdout",
     "output_type": "stream",
     "text": [
      "Area of Circle :  78.5\n",
      "--------------------------------------------------\n"
     ]
    }
   ],
   "source": [
    "# Multilevel Inheritance with Method Overriding (Polymorphism)\n",
    "class Circle:\n",
    "    def area(self):\n",
    "        print(\"-\"*50)\n",
    "        self.r = float(input(\"Enter Radius : \"))\n",
    "        self.ac = 3.14 * self.r ** 2\n",
    "        print(\"Area of Circle : \",self.ac)\n",
    "        print(\"-\"*50)\n",
    "        \n",
    "class Square(Circle):\n",
    "    def area(self):\n",
    "        print(\"-\"*50)\n",
    "        self.s = float(input(\"Enter Side of Square : \"))\n",
    "        self.asquare = self.s ** 2\n",
    "        print(\"Area of Square : \", self.asquare)\n",
    "        print(\"-\"*50)\n",
    "        super().area() # Here the Super Function is used to access the area method from the Circle Class\n",
    "\n",
    "class Rect(Square):\n",
    "    def area(self):\n",
    "        print(\"-\"*50)\n",
    "        self.l = float(input(\"Enter the length of Rectangle : \"))\n",
    "        self.b = float(input(\"Enter the breadth of Rectangle : \"))\n",
    "        self.ar = self.l * self.b\n",
    "        print(\"Area of Rectangle : \", self.ar)\n",
    "        print(\"-\"*50)\n",
    "        super().area() # Here the Super Function is used to access the area method from the Squae Class\n",
    "\n",
    "rec = Rect()\n",
    "rec.area()"
   ]
  },
  {
   "cell_type": "code",
   "execution_count": 10,
   "id": "e7cb2740-57fb-4789-8f42-6aff2869c080",
   "metadata": {},
   "outputs": [
    {
     "name": "stdin",
     "output_type": "stream",
     "text": [
      "Enter the length of Rectangle :  10\n",
      "Enter the breadth of Rectangle :  20\n"
     ]
    },
    {
     "name": "stdout",
     "output_type": "stream",
     "text": [
      "--------------------------------------------------\n",
      "Area of Rectangle :  200.0\n",
      "--------------------------------------------------\n"
     ]
    },
    {
     "name": "stdin",
     "output_type": "stream",
     "text": [
      "Enter Side of Square :  10\n"
     ]
    },
    {
     "name": "stdout",
     "output_type": "stream",
     "text": [
      "--------------------------------------------------\n",
      "Area of Square :  100.0\n",
      "--------------------------------------------------\n"
     ]
    },
    {
     "name": "stdin",
     "output_type": "stream",
     "text": [
      "Enter Radius :  5\n"
     ]
    },
    {
     "name": "stdout",
     "output_type": "stream",
     "text": [
      "--------------------------------------------------\n",
      "Area of Circle :  78.5\n",
      "--------------------------------------------------\n"
     ]
    }
   ],
   "source": [
    "# Multilevel Inheritance with Method Overriding (Polymorphism)\n",
    "class Circle:\n",
    "    def area(self, r):\n",
    "        print(\"-\"*50)\n",
    "        self.ac = 3.14 * r ** 2\n",
    "        print(\"Area of Circle : \",self.ac)\n",
    "        print(\"-\"*50)\n",
    "        \n",
    "class Square(Circle):\n",
    "    def area(self, s):\n",
    "        print(\"-\"*50)\n",
    "        self.asquare = s ** 2\n",
    "        print(\"Area of Square : \", self.asquare)\n",
    "        print(\"-\"*50)\n",
    "        super().area(float(input(\"Enter Radius : \"))) # Here the Super Function is used to access the area method from the Circle Class\n",
    "\n",
    "class Rect(Square):\n",
    "    def area(self, l, b):\n",
    "        print(\"-\"*50)\n",
    "        self.ar = l * b\n",
    "        print(\"Area of Rectangle : \", self.ar)\n",
    "        print(\"-\"*50)\n",
    "        super().area(float(input(\"Enter Side of Square : \"))) # Here the Super Function is used to access the area method from the Squae Class\n",
    "\n",
    "rec = Rect()\n",
    "rec.area(l = float(input(\"Enter the length of Rectangle : \")),b = float(input(\"Enter the breadth of Rectangle : \")))"
   ]
  },
  {
   "cell_type": "code",
   "execution_count": 12,
   "id": "bcf864cb-a317-49ff-a662-73beeba8d619",
   "metadata": {},
   "outputs": [
    {
     "name": "stdout",
     "output_type": "stream",
     "text": [
      "--------------------------------------------------\n"
     ]
    },
    {
     "name": "stdin",
     "output_type": "stream",
     "text": [
      "Enter Radius of Cylinder :  10\n",
      "Enter Height of Cylinder :  50\n"
     ]
    },
    {
     "name": "stdout",
     "output_type": "stream",
     "text": [
      "Volume of Cylinder :  1570.0\n",
      "--------------------------------------------------\n",
      "--------------------------------------------------\n"
     ]
    },
    {
     "name": "stdin",
     "output_type": "stream",
     "text": [
      "Enter Length of Cuboid :  10\n",
      "Enter Breadth of Cuboid :  20\n",
      "Enter Height of Cuboid :  5\n"
     ]
    },
    {
     "name": "stdout",
     "output_type": "stream",
     "text": [
      "Volume of Cuboid :  1000.0\n",
      "--------------------------------------------------\n",
      "--------------------------------------------------\n"
     ]
    },
    {
     "name": "stdin",
     "output_type": "stream",
     "text": [
      "Enter Side of Cube :  20\n"
     ]
    },
    {
     "name": "stdout",
     "output_type": "stream",
     "text": [
      "Volume of Cube :  8000.0\n",
      "--------------------------------------------------\n"
     ]
    }
   ],
   "source": [
    "# Volume Calculation using Polymorphism (Method Overriding)\n",
    "class Cube:\n",
    "    def volume(self):\n",
    "        print(\"-\"*50)\n",
    "        self.sideCube = float(input(\"Enter Side of Cube : \"))\n",
    "        self.volCube = self.sideCube ** 3\n",
    "        print(\"Volume of Cube : \", self.volCube)\n",
    "        print(\"-\"*50)\n",
    "\n",
    "class Cuboid(Cube):\n",
    "    def volume(self):\n",
    "        print(\"-\"*50)\n",
    "        self.l = float(input(\"Enter Length of Cuboid : \"))\n",
    "        self.b = float(input(\"Enter Breadth of Cuboid : \"))\n",
    "        self.h = float(input(\"Enter Height of Cuboid : \"))\n",
    "        self.volCuboid =  self.l * self.b * self.h\n",
    "        print(\"Volume of Cuboid : \", self.volCuboid)\n",
    "        print(\"-\"*50)\n",
    "        super().volume()\n",
    "\n",
    "class Cylinder(Cuboid):\n",
    "    def volume(self):\n",
    "        print(\"-\"*50)\n",
    "        self.r = float(input(\"Enter Radius of Cylinder : \"))\n",
    "        self.h = float(input(\"Enter Height of Cylinder : \"))\n",
    "        self.volCylinder = 3.14 * self.r * self.h\n",
    "        print(\"Volume of Cylinder : \", self.volCylinder)\n",
    "        print(\"-\" * 50)\n",
    "        super().volume()\n",
    "\n",
    "obj = Cylinder()\n",
    "obj.volume()"
   ]
  }
 ],
 "metadata": {
  "kernelspec": {
   "display_name": "Python [conda env:base] *",
   "language": "python",
   "name": "conda-base-py"
  },
  "language_info": {
   "codemirror_mode": {
    "name": "ipython",
    "version": 3
   },
   "file_extension": ".py",
   "mimetype": "text/x-python",
   "name": "python",
   "nbconvert_exporter": "python",
   "pygments_lexer": "ipython3",
   "version": "3.12.7"
  }
 },
 "nbformat": 4,
 "nbformat_minor": 5
}
