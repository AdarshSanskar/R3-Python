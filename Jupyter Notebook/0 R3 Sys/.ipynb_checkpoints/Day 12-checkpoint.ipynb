{
 "cells": [
  {
   "cell_type": "code",
   "execution_count": 16,
   "id": "9f9d074f-55f6-4b18-83c3-68072062e085",
   "metadata": {},
   "outputs": [],
   "source": [
    "# Day 12 : Logical Operators, Membership Operator\n",
    "\n",
    "#Membership Operator : To Check if a value is there or not in a group of Values\n",
    "# in\n",
    "#not in\n",
    "\n",
    "#Identity Operator : It is used to compare Memory Address of two Opbect\n",
    "# is\n",
    "# is not"
   ]
  },
  {
   "cell_type": "code",
   "execution_count": 6,
   "id": "49d2f2e3-14f3-41e1-b1be-fc82853efb7e",
   "metadata": {},
   "outputs": [
    {
     "name": "stdin",
     "output_type": "stream",
     "text": [
      "Enter any Number :  54\n",
      "Enter any Number :  22\n"
     ]
    },
    {
     "name": "stdout",
     "output_type": "stream",
     "text": [
      "54 is Greater than 22 and 10\n"
     ]
    }
   ],
   "source": [
    "a = int(input(\"Enter any Number : \"))\n",
    "b = int(input(\"Enter any Number : \"))\n",
    "if a>b and a>10:\n",
    "    print(f\"{a} is Greater than {b} and 10\")\n",
    "elif a<b and a<0:\n",
    "    print(f\"{a} is Less than {b} and 0\")\n",
    "elif b<a or b<0:\n",
    "    print(f\"{b} is less than {a} or {b} is less than 0\")\n",
    "else:\n",
    "    print(\"No Operation\")"
   ]
  },
  {
   "cell_type": "code",
   "execution_count": null,
   "id": "84abed65-6c06-4c05-9254-e7ddfc0bed6e",
   "metadata": {},
   "outputs": [],
   "source": []
  },
  {
   "cell_type": "code",
   "execution_count": 8,
   "id": "653bc994-7e0d-48f3-8f1c-27df739e45f8",
   "metadata": {},
   "outputs": [],
   "source": [
    "# Membership Operator"
   ]
  },
  {
   "cell_type": "code",
   "execution_count": 11,
   "id": "92c9db26-da26-452b-bfee-d0182c1384cd",
   "metadata": {},
   "outputs": [
    {
     "name": "stdin",
     "output_type": "stream",
     "text": [
      "Enter any Number :  4\n"
     ]
    },
    {
     "name": "stdout",
     "output_type": "stream",
     "text": [
      "The Number comes in First 5 Even Number\n"
     ]
    }
   ],
   "source": [
    "#List\n",
    "\n",
    "l = [2, 4, 6, 8, 10]\n",
    "num = int(input(\"Enter any Number : \"))\n",
    "if num in l:\n",
    "    print(\"The Number comes in First 5 Even Number\")\n",
    "elif num not in l:\n",
    "    print(\"The Number does not come in First 5 Numbers\")\n",
    "    "
   ]
  },
  {
   "cell_type": "code",
   "execution_count": 12,
   "id": "ea4a761f-21f8-4e3d-a226-8b1371dc9062",
   "metadata": {},
   "outputs": [
    {
     "name": "stdin",
     "output_type": "stream",
     "text": [
      "Enter your name :  Adarsh\n"
     ]
    },
    {
     "name": "stdout",
     "output_type": "stream",
     "text": [
      "Your Name contains A\n",
      "Your Name contains adA in Reverse\n"
     ]
    }
   ],
   "source": [
    "# String\n",
    "\n",
    "name = input(\"Enter your name : \")\n",
    "if 'a' in name:\n",
    "    print(\"Your Name contains A\")\n",
    "if 'adA' in name[ : : -1]:\n",
    "    print(\"Your Name contains adA in Reverse\")\n"
   ]
  },
  {
   "cell_type": "code",
   "execution_count": 13,
   "id": "01c5ed4f-0c33-4585-9f8e-88242e0ffbf0",
   "metadata": {},
   "outputs": [
    {
     "name": "stdout",
     "output_type": "stream",
     "text": [
      "He does not know C\n",
      "He Knows Java\n"
     ]
    }
   ],
   "source": [
    "#List Again\n",
    "\n",
    "ls = [\"Adarsh\", 1424, \"KKWP\", \"Python\", \"Java\"]\n",
    "if 'C' in ls:\n",
    "    print(\"He Knows C\")\n",
    "else:\n",
    "    print(\"He does not know C\")\n",
    "if 'Java' in ls:\n",
    "    print(\"He Knows Java\")\n",
    "else:\n",
    "    print(\"He Does not know Java\")"
   ]
  },
  {
   "cell_type": "code",
   "execution_count": 15,
   "id": "42625436-a6b7-41d6-a645-d5d20d97a0e3",
   "metadata": {},
   "outputs": [
    {
     "name": "stdout",
     "output_type": "stream",
     "text": [
      "True\n",
      "False\n"
     ]
    }
   ],
   "source": [
    "dic = {1 : \"Adarsh\", 2 : \"Tanay\", 3 : \"Yadnesh\"}\n",
    "print(1 in dic)\n",
    "print(4 in dic)"
   ]
  },
  {
   "cell_type": "code",
   "execution_count": null,
   "id": "2a60f641-4174-4005-b11e-2b65c92e66bb",
   "metadata": {},
   "outputs": [],
   "source": []
  },
  {
   "cell_type": "code",
   "execution_count": 17,
   "id": "eeecf2a5-668e-4e08-b002-5d056cd8ed7c",
   "metadata": {},
   "outputs": [],
   "source": [
    "# Identity Operator"
   ]
  },
  {
   "cell_type": "code",
   "execution_count": 18,
   "id": "8e5c1080-9fc0-4d20-a8df-17392b94f307",
   "metadata": {},
   "outputs": [
    {
     "name": "stdout",
     "output_type": "stream",
     "text": [
      "[10, 20, 30, 40, 50] <class 'list'> 2877223269568\n"
     ]
    }
   ],
   "source": [
    "l1 = [10, 20, 30, 40, 50]\n",
    "print(l1, type(l1), id(l1))"
   ]
  },
  {
   "cell_type": "code",
   "execution_count": 19,
   "id": "b973fabc-cb5b-41f2-9fc2-40f38ad22ccc",
   "metadata": {},
   "outputs": [
    {
     "name": "stdout",
     "output_type": "stream",
     "text": [
      "[10, 20, 30, 40, 50] <class 'list'> 2877223269568\n"
     ]
    }
   ],
   "source": [
    "l2 = l1\n",
    "print(l2, type(l2), id(l2))"
   ]
  },
  {
   "cell_type": "code",
   "execution_count": 20,
   "id": "8f84a567-050e-4eb9-b26d-5e185089bb1c",
   "metadata": {},
   "outputs": [
    {
     "name": "stdout",
     "output_type": "stream",
     "text": [
      "[10, 20, 30, 40, 50, 60, 70, 80, 90, 100] <class 'list'> 2877223269568\n"
     ]
    }
   ],
   "source": [
    "l1.extend([60, 70 ,80, 90, 100])\n",
    "print(l1, type(l1), id(l1))"
   ]
  },
  {
   "cell_type": "code",
   "execution_count": 21,
   "id": "0fdd3591-9a7c-40be-bf89-70785c5bd508",
   "metadata": {},
   "outputs": [
    {
     "name": "stdout",
     "output_type": "stream",
     "text": [
      "[10, 20, 30, 40, 50, 60, 70, 80, 90, 100] <class 'list'> 2877223269568\n"
     ]
    }
   ],
   "source": [
    "print(l2, type(l2), id(l2))"
   ]
  },
  {
   "cell_type": "code",
   "execution_count": 32,
   "id": "a5a4b54b-3325-44eb-b955-3a792e9f6030",
   "metadata": {},
   "outputs": [
    {
     "name": "stdout",
     "output_type": "stream",
     "text": [
      "[10, 20, 30, 40, 50, 60, 70, 80, 90, 100, 500] <class 'list'> 2877278572352\n"
     ]
    }
   ],
   "source": [
    "import copy\n",
    "l3 = copy.deepcopy(l1)\n",
    "print(l3, type(l3), id(l3))\n",
    "l4 = []"
   ]
  },
  {
   "cell_type": "code",
   "execution_count": 27,
   "id": "ce1918fd-4f3f-4626-9403-dff7facbcbe4",
   "metadata": {},
   "outputs": [
    {
     "name": "stdout",
     "output_type": "stream",
     "text": [
      "[10, 20, 30, 40, 50, 60, 70, 80, 90, 100, 500]\n",
      "[10, 20, 30, 40, 50, 60, 70, 80, 90, 100, 500]\n",
      "[10, 20, 30, 40, 50, 60, 70, 80, 90, 100]\n"
     ]
    }
   ],
   "source": [
    "l1.append(500)\n",
    "print(l1)\n",
    "print(l2)\n",
    "print(l3)"
   ]
  },
  {
   "cell_type": "code",
   "execution_count": null,
   "id": "ab1b837d-d973-4930-9e94-454c5dacf362",
   "metadata": {},
   "outputs": [],
   "source": []
  },
  {
   "cell_type": "code",
   "execution_count": 33,
   "id": "40651572-3401-48c1-877e-05bac4463fdd",
   "metadata": {},
   "outputs": [],
   "source": [
    "# Important"
   ]
  },
  {
   "cell_type": "code",
   "execution_count": null,
   "id": "5c34c0bd-90fd-4bc6-b674-47912fc4073a",
   "metadata": {},
   "outputs": [],
   "source": [
    "#Shallow copy : if changes are made to the original object, they are reflected in the new one\n",
    "#Deep Copy : if changes are made in the original they are not reflected in the new one"
   ]
  },
  {
   "cell_type": "code",
   "execution_count": null,
   "id": "08551db3-7d34-403f-8094-a4d779a8cc7e",
   "metadata": {},
   "outputs": [],
   "source": [
    "# .copy() is used for shallow copy \n",
    "# l1 = l2 : So l2 copy to the same memory location \n",
    "# l1 = l2.copy() : Shallow Copy, changes made in the l2 are reflected in the l1\n",
    "# l1 = copy.deepcopy(12) : Deep Copy, changes made to l2 dosent reflect in l1"
   ]
  },
  {
   "cell_type": "code",
   "execution_count": null,
   "id": "cb16cc95-8bc8-45e3-a1ba-37ea1bfd80e9",
   "metadata": {},
   "outputs": [],
   "source": []
  },
  {
   "cell_type": "code",
   "execution_count": 36,
   "id": "78af0723-ba98-4f27-8f46-c7b98a6482c7",
   "metadata": {},
   "outputs": [
    {
     "name": "stdout",
     "output_type": "stream",
     "text": [
      "True\n"
     ]
    }
   ],
   "source": [
    "str1 = \"Adarsh\"\n",
    "str2 = \"Adarsh\"\n",
    "print(id(str1) == id(str2))"
   ]
  },
  {
   "cell_type": "code",
   "execution_count": 39,
   "id": "a96bb8d3-ec35-40cc-af31-cf517d46982c",
   "metadata": {},
   "outputs": [
    {
     "name": "stdout",
     "output_type": "stream",
     "text": [
      "False\n"
     ]
    }
   ],
   "source": [
    "str3 = \"Adarsh\"\n",
    "str4 = \"adarsh\"\n",
    "print(id(str3) == id(str4))"
   ]
  },
  {
   "cell_type": "code",
   "execution_count": 40,
   "id": "993de126-402c-40ae-8e25-b88d7b218768",
   "metadata": {},
   "outputs": [
    {
     "name": "stdout",
     "output_type": "stream",
     "text": [
      "True\n",
      "True\n"
     ]
    }
   ],
   "source": [
    "n1 = 10\n",
    "n2 = 10\n",
    "print(n1 is n2)\n",
    "print(id(n1) == id(n2))"
   ]
  },
  {
   "cell_type": "code",
   "execution_count": 44,
   "id": "923712f7-69b0-42e2-aae1-3d0b53de881e",
   "metadata": {},
   "outputs": [
    {
     "name": "stdout",
     "output_type": "stream",
     "text": [
      "False\n"
     ]
    }
   ],
   "source": [
    "n3 = -10\n",
    "n4 = 10\n",
    "print(n3 is n4)"
   ]
  },
  {
   "cell_type": "code",
   "execution_count": 43,
   "id": "59108bfa-fd53-42a8-aa86-67bfc46b256f",
   "metadata": {},
   "outputs": [
    {
     "name": "stdout",
     "output_type": "stream",
     "text": [
      "False\n"
     ]
    }
   ],
   "source": [
    "n5 = -10\n",
    "n6 = -10\n",
    "print(n5 is n6)"
   ]
  },
  {
   "cell_type": "code",
   "execution_count": null,
   "id": "ca0d0859-da02-4a24-8e17-69c94525c802",
   "metadata": {},
   "outputs": [],
   "source": []
  }
 ],
 "metadata": {
  "kernelspec": {
   "display_name": "Python [conda env:base] *",
   "language": "python",
   "name": "conda-base-py"
  },
  "language_info": {
   "codemirror_mode": {
    "name": "ipython",
    "version": 3
   },
   "file_extension": ".py",
   "mimetype": "text/x-python",
   "name": "python",
   "nbconvert_exporter": "python",
   "pygments_lexer": "ipython3",
   "version": "3.12.7"
  }
 },
 "nbformat": 4,
 "nbformat_minor": 5
}
