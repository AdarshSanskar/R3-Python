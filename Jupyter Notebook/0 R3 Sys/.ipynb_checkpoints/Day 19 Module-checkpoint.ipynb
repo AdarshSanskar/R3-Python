{
 "cells": [
  {
   "cell_type": "code",
   "execution_count": 1,
   "id": "1ba40e44-21ed-47af-a3e6-c75a9856d25d",
   "metadata": {},
   "outputs": [],
   "source": [
    "# Day 19 : 24/06/2025"
   ]
  },
  {
   "cell_type": "code",
   "execution_count": null,
   "id": "86d660d9-cdd9-4259-a4a8-23662e454341",
   "metadata": {},
   "outputs": [],
   "source": [
    "# performed Module Programming in Visual Studio Code"
   ]
  }
 ],
 "metadata": {
  "kernelspec": {
   "display_name": "Python [conda env:base] *",
   "language": "python",
   "name": "conda-base-py"
  },
  "language_info": {
   "codemirror_mode": {
    "name": "ipython",
    "version": 3
   },
   "file_extension": ".py",
   "mimetype": "text/x-python",
   "name": "python",
   "nbconvert_exporter": "python",
   "pygments_lexer": "ipython3",
   "version": "3.12.7"
  }
 },
 "nbformat": 4,
 "nbformat_minor": 5
}
