{
 "cells": [
  {
   "cell_type": "code",
   "execution_count": 9,
   "id": "c447802a-b6c9-467c-a956-d4cc7b97f14a",
   "metadata": {},
   "outputs": [
    {
     "name": "stdout",
     "output_type": "stream",
     "text": [
      "Type of result:  <class 'callable_iterator'>\n",
      "--------------------------------------------------\n",
      "Start Index: 0 End Index: 4 Found Word: Open\n",
      "Start Index: 76 End Index: 80 Found Word: Open\n",
      "Start Index: 88 End Index: 92 Found Word: Open\n",
      "--------------------------------------------------\n"
     ]
    }
   ],
   "source": [
    "import re \n",
    "\n",
    "text = \"Open your eyes, look within. Are you satisfied with the life you're living? Open again, Opening\"\n",
    "\n",
    "word = \"Open\"\n",
    "\n",
    "result = re.finditer(word, text)\n",
    "\n",
    "print(\"Type of result: \",type(result))\n",
    "print(\"-\"*50)\n",
    "\n",
    "for match in result:\n",
    "    print(f\"Start Index: {match.start()} End Index: {match.end()} Found Word: {match.group()}\")\n",
    "\n",
    "print(\"-\"*50)"
   ]
  },
  {
   "cell_type": "markdown",
   "id": "e30be792-5756-4b06-9cc5-858e4ca56bee",
   "metadata": {},
   "source": [
    "### Search Pattern\n",
    "- \\s : search only spaces\n",
    "- \\S : without spaces\n",
    "- \\w : word character only\n",
    "- \\W : special symbol\n",
    "- \\d : digit only\n",
    "- \\D : All except digit\n",
    "- \".\" : all"
   ]
  },
  {
   "cell_type": "code",
   "execution_count": 29,
   "id": "57295c26-2078-49c2-9b6d-35a492962be7",
   "metadata": {},
   "outputs": [
    {
     "name": "stdout",
     "output_type": "stream",
     "text": [
      "Type of result:  <class 'callable_iterator'>\n",
      "--------------------------------------------------\n",
      "Start Index: 0 End Index: 1 Found Word: a\n",
      "Start Index: 1 End Index: 2 Found Word: b\n",
      "Start Index: 3 End Index: 4 Found Word: c\n",
      "Start Index: 4 End Index: 5 Found Word: d\n",
      "Start Index: 6 End Index: 7 Found Word: m\n",
      "Start Index: 7 End Index: 8 Found Word: p\n",
      "--------------------------------------------------\n"
     ]
    }
   ],
   "source": [
    "import re \n",
    "\n",
    "text = \"ab cd mp\"\n",
    "\n",
    "word = r\"\\S\"\n",
    "\n",
    "result = re.finditer(word, text)\n",
    "\n",
    "print(\"Type of result: \",type(result))\n",
    "print(\"-\"*50)\n",
    "\n",
    "for match in result:\n",
    "    print(f\"Start Index: {match.start()} End Index: {match.end()} Found Word: {match.group()}\")\n",
    "\n",
    "print(\"-\"*50)"
   ]
  },
  {
   "cell_type": "code",
   "execution_count": null,
   "id": "d46fa2f5-b824-4df5-8949-285141ca4255",
   "metadata": {},
   "outputs": [],
   "source": []
  }
 ],
 "metadata": {
  "kernelspec": {
   "display_name": "Python [conda env:base] *",
   "language": "python",
   "name": "conda-base-py"
  },
  "language_info": {
   "codemirror_mode": {
    "name": "ipython",
    "version": 3
   },
   "file_extension": ".py",
   "mimetype": "text/x-python",
   "name": "python",
   "nbconvert_exporter": "python",
   "pygments_lexer": "ipython3",
   "version": "3.12.7"
  }
 },
 "nbformat": 4,
 "nbformat_minor": 5
}
