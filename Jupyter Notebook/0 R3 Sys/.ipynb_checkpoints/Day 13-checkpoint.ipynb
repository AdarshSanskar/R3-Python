{
 "cells": [
  {
   "cell_type": "code",
   "execution_count": 3,
   "id": "2f8408f0-6f7a-482d-88fc-e5a6fbaa6f17",
   "metadata": {},
   "outputs": [],
   "source": [
    "# Day 13: Python Control Structurs\n",
    "\n",
    "#Conditional\n",
    "# Looping"
   ]
  },
  {
   "cell_type": "code",
   "execution_count": 5,
   "id": "dd46562b-d541-4477-a278-1286de38f1d3",
   "metadata": {},
   "outputs": [
    {
     "name": "stdin",
     "output_type": "stream",
     "text": [
      "Enter any Number :  -456\n"
     ]
    },
    {
     "name": "stdout",
     "output_type": "stream",
     "text": [
      "-456 is Negative\n"
     ]
    }
   ],
   "source": [
    "# Check +ve or -vw\n",
    "num = int(input(\"Enter any Number : \"))\n",
    "if num > 0:\n",
    "    print(f\"{num} is Positive\")\n",
    "elif num < 0:\n",
    "    print(f\"{num} is Negative\")\n",
    "else:\n",
    "    print(f\"{num} is Zero\")"
   ]
  },
  {
   "cell_type": "code",
   "execution_count": null,
   "id": "96f4b8c8-0fa4-4383-a314-f0a0d36840a5",
   "metadata": {},
   "outputs": [],
   "source": []
  },
  {
   "cell_type": "code",
   "execution_count": 15,
   "id": "38989391-8a87-4186-bce2-dc1182c9bf31",
   "metadata": {},
   "outputs": [
    {
     "name": "stdin",
     "output_type": "stream",
     "text": [
      "Enter any Number :  4\n"
     ]
    },
    {
     "name": "stdout",
     "output_type": "stream",
     "text": [
      "Number is Even\n"
     ]
    }
   ],
   "source": [
    "#Even Odd\n",
    "no = int(input(\"Enter any Number : \"))\n",
    "if no == 0:\n",
    "    print(\"The Number is Zero\")\n",
    "elif no % 2 == 0:\n",
    "    print(\"Number is Even\")\n",
    "else:\n",
    "    print(\"Number is Odd\")\n",
    "    "
   ]
  },
  {
   "cell_type": "code",
   "execution_count": null,
   "id": "47f19865-55c1-4fe5-825f-8a250814fd9d",
   "metadata": {},
   "outputs": [],
   "source": []
  },
  {
   "cell_type": "code",
   "execution_count": 10,
   "id": "096ef4fb-f8d1-4428-9475-51fba9c38b31",
   "metadata": {},
   "outputs": [
    {
     "name": "stdin",
     "output_type": "stream",
     "text": [
      "Enter Number 1 :  78\n",
      "Enter Number 2 :  45\n",
      "Enter Number 3 :  65\n"
     ]
    },
    {
     "name": "stdout",
     "output_type": "stream",
     "text": [
      "big(78, 45, 65) = 78\n"
     ]
    }
   ],
   "source": [
    "#Compare Three Numbers\n",
    "n1 = int(input(\"Enter Number 1 : \"))\n",
    "n2 = int(input(\"Enter Number 2 : \"))\n",
    "n3 = int(input(\"Enter Number 3 : \"))\n",
    "big = 0\n",
    "if n1 == n2 == n3:\n",
    "    print(\"All Numbers are Equal\")\n",
    "elif n1 > n2 and n1 > n3:\n",
    "    big = n1\n",
    "elif n2 > n1 and n2 > n3:\n",
    "    big = n2\n",
    "elif n3 > n1 and n3 > n2:\n",
    "    big = n3\n",
    "\n",
    "print(f\"big({n1}, {n2}, {n3}) = {big}\")"
   ]
  },
  {
   "cell_type": "code",
   "execution_count": 16,
   "id": "e2904c61-adcb-4d76-994a-204464bb37b0",
   "metadata": {},
   "outputs": [
    {
     "name": "stdout",
     "output_type": "stream",
     "text": [
      "Enter 3 Elements in List : \n"
     ]
    },
    {
     "name": "stdin",
     "output_type": "stream",
     "text": [
      "Number :  54\n",
      "Number :  65\n",
      "Number :  78\n"
     ]
    },
    {
     "name": "stdout",
     "output_type": "stream",
     "text": [
      "Greatest :  78\n"
     ]
    }
   ],
   "source": [
    "l = []\n",
    "print(\"Enter 3 Elements in List : \")\n",
    "for i in range(0, 3):\n",
    "    l.append(int(input(\"Number : \")))\n",
    "print(\"Greatest : \", max(l))"
   ]
  },
  {
   "cell_type": "code",
   "execution_count": null,
   "id": "34442e93-75ef-43f4-a298-7b76738b5f85",
   "metadata": {},
   "outputs": [],
   "source": []
  },
  {
   "cell_type": "code",
   "execution_count": 2,
   "id": "46ce5110-df34-419f-8108-dfc90ee15435",
   "metadata": {},
   "outputs": [
    {
     "name": "stdin",
     "output_type": "stream",
     "text": [
      "Enter any Character :  as\n"
     ]
    },
    {
     "name": "stdout",
     "output_type": "stream",
     "text": [
      "Enter Only 1 Charcter\n"
     ]
    }
   ],
   "source": [
    "#Vowel\n",
    "char = input(\"Enter any Character : \")\n",
    "if char.isdigit():\n",
    "    print(\"Enter Charcater not a Number\")\n",
    "    \n",
    "elif len(char) > 1:\n",
    "    print(\"Enter Only 1 Charcter\")\n",
    "    # exit()\n",
    "    \n",
    "else: \n",
    "    vowel = \"aeiouAEIOU\"\n",
    "    if char in vowel:\n",
    "        print(\"The Character is Vowel\")\n",
    "    else:\n",
    "        print(\"The Character is Consonant\")"
   ]
  },
  {
   "cell_type": "code",
   "execution_count": null,
   "id": "8b334a85-3e9a-470b-821d-89cfcee15079",
   "metadata": {},
   "outputs": [],
   "source": []
  },
  {
   "cell_type": "code",
   "execution_count": 4,
   "id": "402c8bb4-2ada-4574-9131-214345c107c3",
   "metadata": {},
   "outputs": [],
   "source": [
    "#While"
   ]
  },
  {
   "cell_type": "code",
   "execution_count": 8,
   "id": "0ab22687-a668-41ed-9822-28a3b2e3ce3f",
   "metadata": {},
   "outputs": [
    {
     "name": "stdin",
     "output_type": "stream",
     "text": [
      "Enter any Number :  134\n"
     ]
    },
    {
     "name": "stdout",
     "output_type": "stream",
     "text": [
      "Reverse Number :  431\n"
     ]
    }
   ],
   "source": [
    "#Reverse Number : \n",
    "n = int(input(\"Enter any Number : \"))\n",
    "rev = 0\n",
    "while n > 0:\n",
    "    digit = n % 10\n",
    "    rev = (rev * 10) + digit\n",
    "    n = n // 10\n",
    "\n",
    "print(\"Reverse Number : \", rev)"
   ]
  },
  {
   "cell_type": "code",
   "execution_count": 10,
   "id": "c2f631e9-9330-46cb-9651-6e0a901ad719",
   "metadata": {},
   "outputs": [
    {
     "name": "stdin",
     "output_type": "stream",
     "text": [
      "Enter any Number :  12\n"
     ]
    },
    {
     "name": "stdout",
     "output_type": "stream",
     "text": [
      "12 * 1 = 12\n",
      "12 * 2 = 24\n",
      "12 * 3 = 36\n",
      "12 * 4 = 48\n",
      "12 * 5 = 60\n",
      "12 * 6 = 72\n",
      "12 * 7 = 84\n",
      "12 * 8 = 96\n",
      "12 * 9 = 108\n",
      "12 * 10 = 120\n"
     ]
    }
   ],
   "source": [
    "# Multiplication Tables\n",
    "a = int(input(\"Enter any Number : \"))\n",
    "for i in range(1, 11):\n",
    "    print(f\"{a} * {i} = {a * i}\")"
   ]
  },
  {
   "cell_type": "code",
   "execution_count": 13,
   "id": "aca4ffec-9e57-4a3b-9131-e0bc9a494e30",
   "metadata": {},
   "outputs": [
    {
     "name": "stdout",
     "output_type": "stream",
     "text": [
      "Sum :  55\n"
     ]
    }
   ],
   "source": [
    "#Sum of First 10 Numbers\n",
    "sum = 0\n",
    "for i in range(1, 11):\n",
    "    sum += i\n",
    "\n",
    "print(\"Sum : \", sum)"
   ]
  },
  {
   "cell_type": "code",
   "execution_count": 15,
   "id": "be933385-d92c-45ec-af5d-c8aeae1fc7e9",
   "metadata": {},
   "outputs": [
    {
     "name": "stdout",
     "output_type": "stream",
     "text": [
      "Sum :  55\n"
     ]
    }
   ],
   "source": [
    "sum = 0\n",
    "i = 1\n",
    "while i < 11:\n",
    "    sum += i\n",
    "    i += 1\n",
    "\n",
    "print(\"Sum : \", sum)\n"
   ]
  },
  {
   "cell_type": "code",
   "execution_count": 17,
   "id": "f9a1d08f-5f1b-4cbe-a163-89413d4733eb",
   "metadata": {},
   "outputs": [
    {
     "name": "stdout",
     "output_type": "stream",
     "text": [
      "0 1 2 3 4 5 6 7 8 9 \n",
      "Done Printing...\n"
     ]
    }
   ],
   "source": [
    "# For Else :\n",
    "for i in range(0,10):\n",
    "    print(i, end = \" \")\n",
    "else:\n",
    "    print(\"\\nDone Printing...\")"
   ]
  },
  {
   "cell_type": "code",
   "execution_count": 19,
   "id": "afc66e79-108b-4840-ac02-50426383fed9",
   "metadata": {},
   "outputs": [
    {
     "name": "stdin",
     "output_type": "stream",
     "text": [
      "Enter any String :  ada\n"
     ]
    },
    {
     "name": "stdout",
     "output_type": "stream",
     "text": [
      "String is Palindrome\n"
     ]
    }
   ],
   "source": [
    "#Palindrome String\n",
    "string = input(\"Enter any String : \")\n",
    "string_new = string.lower()\n",
    "if string_new == string_new[ : : -1]:\n",
    "    print(\"String is Palindrome\")\n",
    "else:\n",
    "    print(\"String is not Palindrome\")"
   ]
  },
  {
   "cell_type": "code",
   "execution_count": null,
   "id": "c8dd3f26-3215-4f5b-97b2-ad108dcab4ba",
   "metadata": {},
   "outputs": [],
   "source": []
  }
 ],
 "metadata": {
  "kernelspec": {
   "display_name": "Python [conda env:base] *",
   "language": "python",
   "name": "conda-base-py"
  },
  "language_info": {
   "codemirror_mode": {
    "name": "ipython",
    "version": 3
   },
   "file_extension": ".py",
   "mimetype": "text/x-python",
   "name": "python",
   "nbconvert_exporter": "python",
   "pygments_lexer": "ipython3",
   "version": "3.12.7"
  }
 },
 "nbformat": 4,
 "nbformat_minor": 5
}
