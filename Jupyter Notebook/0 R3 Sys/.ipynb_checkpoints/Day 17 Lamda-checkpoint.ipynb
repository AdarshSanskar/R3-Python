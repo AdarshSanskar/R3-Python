{
 "cells": [
  {
   "cell_type": "code",
   "execution_count": 2,
   "id": "1fee493f-c8a3-4a8f-83a4-e48d18374773",
   "metadata": {},
   "outputs": [],
   "source": [
    "# Day 17 (21/06/2025): Lambda "
   ]
  },
  {
   "cell_type": "code",
   "execution_count": 7,
   "id": "a8ef0c7a-be2e-492c-9604-cb1ba73affcd",
   "metadata": {},
   "outputs": [
    {
     "name": "stdin",
     "output_type": "stream",
     "text": [
      "Enter any Number :  45\n"
     ]
    },
    {
     "name": "stdout",
     "output_type": "stream",
     "text": [
      "Odd\n"
     ]
    }
   ],
   "source": [
    "# Check Number is Even or Odd\n",
    "checkEvenOdd = lambda num: \"Even\" if num % 2 == 0 else \"Odd\"\n",
    "\n",
    "n = int(input(\"Enter any Number : \"))\n",
    "print(checkEvenOdd(n))\n"
   ]
  },
  {
   "cell_type": "code",
   "execution_count": 9,
   "id": "e7d97e2c-a16e-486f-875c-ef7dcdc40233",
   "metadata": {},
   "outputs": [
    {
     "name": "stdin",
     "output_type": "stream",
     "text": [
      "Enter Number 1 :  40\n",
      "Enter Number 2 :  50\n"
     ]
    },
    {
     "name": "stdout",
     "output_type": "stream",
     "text": [
      "50\n"
     ]
    }
   ],
   "source": [
    "#Maximum of Two Numbers\n",
    "checkMax = lambda no1, no2: no1 if no1 > no2 else no2\n",
    "\n",
    "a = int(input(\"Enter Number 1 : \"))\n",
    "b = int(input(\"Enter Number 2 : \"))\n",
    "print(checkMax(a, b))"
   ]
  },
  {
   "cell_type": "code",
   "execution_count": 13,
   "id": "594ccc48-4d03-48ea-994d-e5ea7a065dd4",
   "metadata": {},
   "outputs": [
    {
     "name": "stdin",
     "output_type": "stream",
     "text": [
      "Enter Number 1 :  45\n",
      "Enter Number 2 :  1\n"
     ]
    },
    {
     "name": "stdout",
     "output_type": "stream",
     "text": [
      "46\n",
      "44\n",
      "45\n",
      "45.0\n",
      "30\n"
     ]
    }
   ],
   "source": [
    "#Calculator\n",
    "\n",
    "add = lambda num1, num2: num1 + num2\n",
    "\n",
    "sub = lambda num1, num2: num1 - num2\n",
    "\n",
    "mult = lambda num1, num2: num1 * num2\n",
    "\n",
    "div = lambda num1, num2: \"Cannot Divide By Zero\" if num2 == 0 else num1 / num2\n",
    "\n",
    "n1 = int(input(\"Enter Number 1 : \"))\n",
    "n2 = int(input(\"Enter Number 2 : \"))\n",
    "\n",
    "print(add(n1, n2))\n",
    "print(sub(n1, n2))\n",
    "print(mult(n1, n2))\n",
    "print(div(n1, n2))\n",
    "print(add(10, 20))"
   ]
  },
  {
   "cell_type": "code",
   "execution_count": null,
   "id": "2c29a201-9c73-435a-bfdc-dc5ecc02aae9",
   "metadata": {},
   "outputs": [],
   "source": []
  },
  {
   "cell_type": "code",
   "execution_count": 17,
   "id": "b71ae82d-3368-4fc3-bb59-f828ea63b8f6",
   "metadata": {},
   "outputs": [
    {
     "name": "stdout",
     "output_type": "stream",
     "text": [
      "Filtered List :  [60, 70, 80, 90, 100]\n"
     ]
    }
   ],
   "source": [
    "# Filter Number greater than 50\n",
    "num = [10, 20, 30, 40, 50, 60, 70, 80, 90, 100]\n",
    "lst = list(filter(lambda x: x > 50, num))\n",
    "\n",
    "print(\"Filtered List : \", lst)"
   ]
  },
  {
   "cell_type": "code",
   "execution_count": null,
   "id": "c8283e55-5500-4168-8f51-88999109e63d",
   "metadata": {},
   "outputs": [],
   "source": []
  },
  {
   "cell_type": "code",
   "execution_count": 26,
   "id": "c79709d7-0403-4119-a6c6-3de7d5f291e9",
   "metadata": {},
   "outputs": [
    {
     "name": "stdout",
     "output_type": "stream",
     "text": [
      "Enter List of Values seperated by Space : \n"
     ]
    },
    {
     "name": "stdin",
     "output_type": "stream",
     "text": [
      " 1 2 3 4 5 6 -7 -8 -9\n"
     ]
    },
    {
     "name": "stdout",
     "output_type": "stream",
     "text": [
      "Positive Element :  [1, 2, 3, 4, 5, 6]\n",
      "Negative Element :  [-7, -8, -9]\n"
     ]
    }
   ],
   "source": [
    "#Positive Negative\n",
    "print(\"Enter List of Values seperated by Space : \")\n",
    "lst = [int(val) for val in (input().split(\" \"))]\n",
    "print(\"Positive Element : \", list(filter(lambda n: n > 0, lst)))\n",
    "print(\"Negative Element : \", list(filter(lambda n: n < 0, lst))) "
   ]
  },
  {
   "cell_type": "code",
   "execution_count": 33,
   "id": "1c6af0d8-32d4-4dfe-9e12-047b0afa2a49",
   "metadata": {},
   "outputs": [
    {
     "name": "stdout",
     "output_type": "stream",
     "text": [
      "Enter Values (Seperated by Comma) : \n"
     ]
    },
    {
     "name": "stdin",
     "output_type": "stream",
     "text": [
      " 1,2,3,4,5,6,7,8,9\n"
     ]
    },
    {
     "name": "stdout",
     "output_type": "stream",
     "text": [
      "Even :  [2, 4, 6, 8]\n"
     ]
    }
   ],
   "source": [
    "#Even Odd from List\n",
    "print(\"Enter Values (Seperated by Comma) : \")\n",
    "lst = [int(val) for val in input().split(\",\")]\n",
    "print(\"Even : \", list(filter(lambda n: n % 2 == 0, lst)))"
   ]
  },
  {
   "cell_type": "code",
   "execution_count": 35,
   "id": "c6761415-4285-4df0-a211-3fc78a65c887",
   "metadata": {},
   "outputs": [
    {
     "name": "stdout",
     "output_type": "stream",
     "text": [
      "Doubled List :  [2, 4, 6, 8, 10, 12]\n"
     ]
    }
   ],
   "source": [
    "# Double the Every Element of List\n",
    "\n",
    "number = [1, 2, 3, 4, 5, 6]\n",
    "doubled = list(map(lambda x: x * 2, number))\n",
    "\n",
    "print(\"Doubled List : \", doubled)"
   ]
  },
  {
   "cell_type": "code",
   "execution_count": null,
   "id": "c294ee44-ae50-44be-9674-c696c914a286",
   "metadata": {},
   "outputs": [],
   "source": []
  },
  {
   "cell_type": "code",
   "execution_count": 37,
   "id": "5af9fe4d-a1c2-437e-978e-15d91c821eb6",
   "metadata": {},
   "outputs": [
    {
     "name": "stdout",
     "output_type": "stream",
     "text": [
      "Enter the First List : \n"
     ]
    },
    {
     "name": "stdin",
     "output_type": "stream",
     "text": [
      " 10 20 30 40\n"
     ]
    },
    {
     "name": "stdout",
     "output_type": "stream",
     "text": [
      "Enter the Second List : \n"
     ]
    },
    {
     "name": "stdin",
     "output_type": "stream",
     "text": [
      " 1 2 3 4\n"
     ]
    },
    {
     "name": "stdout",
     "output_type": "stream",
     "text": [
      "First List :  [10, 20, 30, 40]\n",
      "Second List :  [1, 2, 3, 4]\n",
      "Multiplied :  [10, 40, 90, 160]\n"
     ]
    }
   ],
   "source": [
    "print(\"Enter the First List : \")\n",
    "lst1 = [int(val) for val in input().split()]\n",
    "print(\"Enter the Second List : \")\n",
    "lst2 = [int(val) for val in input().split()]\n",
    "lst3 = list(map(lambda m, n: m * n,lst1, lst2))\n",
    "print(\"First List : \",lst1)\n",
    "print(\"Second List : \",lst2)\n",
    "print(\"Multiplied : \",lst3)"
   ]
  },
  {
   "cell_type": "code",
   "execution_count": 38,
   "id": "21c2eeab-555d-42bd-991e-5bf127d1b9ba",
   "metadata": {},
   "outputs": [],
   "source": [
    "# Reduce Function"
   ]
  },
  {
   "cell_type": "code",
   "execution_count": 40,
   "id": "156ea9c9-245f-4b35-9d0d-3b6c8e42d4ba",
   "metadata": {},
   "outputs": [
    {
     "name": "stdout",
     "output_type": "stream",
     "text": [
      "94\n"
     ]
    }
   ],
   "source": [
    "import functools\n",
    "lst = [10, 20, 50, 88, 94 , 12]\n",
    "big = functools.reduce(lambda x, y: x if x > y else y, lst)\n",
    "print(big)"
   ]
  },
  {
   "cell_type": "code",
   "execution_count": null,
   "id": "667bd883-5bcb-482d-b712-23f59e28178d",
   "metadata": {},
   "outputs": [],
   "source": []
  }
 ],
 "metadata": {
  "kernelspec": {
   "display_name": "Python [conda env:base] *",
   "language": "python",
   "name": "conda-base-py"
  },
  "language_info": {
   "codemirror_mode": {
    "name": "ipython",
    "version": 3
   },
   "file_extension": ".py",
   "mimetype": "text/x-python",
   "name": "python",
   "nbconvert_exporter": "python",
   "pygments_lexer": "ipython3",
   "version": "3.12.7"
  }
 },
 "nbformat": 4,
 "nbformat_minor": 5
}
