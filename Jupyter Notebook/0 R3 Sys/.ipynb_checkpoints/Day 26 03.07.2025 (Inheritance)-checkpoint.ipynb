{
 "cells": [
  {
   "cell_type": "markdown",
   "id": "d99cd7b7-1b3b-4f14-8948-c02ef4a6bcbe",
   "metadata": {},
   "source": [
    "# Day 26 (03/07/2025)\n",
    "## Inheritance\n",
    "- The Process of obtaning the data member, methods and constructor from one class to another class\n",
    "- Inheritance is used to build reusable application\n",
    "## Type of Inheritance : \n",
    "- Single Inheritance\n",
    "- Multiple Inheritance\n",
    "- Multilevel Inheritance\n",
    "- Hierarchical Inheritance\n",
    "- Hybrid Inheritance"
   ]
  },
  {
   "cell_type": "markdown",
   "id": "6cc4b739-c761-4e30-a4e2-a84745dfe3d5",
   "metadata": {},
   "source": [
    "# Single Inheritance"
   ]
  },
  {
   "cell_type": "markdown",
   "id": "d3fdf80c-cf06-4857-8a12-797f13374811",
   "metadata": {},
   "source": [
    "## Book and Publisher"
   ]
  },
  {
   "cell_type": "code",
   "execution_count": 5,
   "id": "a1e5d3d8-65d0-441e-a0c1-f474c786f812",
   "metadata": {},
   "outputs": [
    {
     "name": "stdin",
     "output_type": "stream",
     "text": [
      "Enter Book Title :  Learn Python\n",
      "Enter Name of Author :  Guiddo\n",
      "Enter Publisher Name :  Python Publishers\n"
     ]
    },
    {
     "name": "stdout",
     "output_type": "stream",
     "text": [
      "--------------------------------------------------\n",
      "--------------------------------------------------\n",
      "Title :  Learn Python\n",
      "Author :  Guiddo\n",
      "Publisher Name :  Python Publishers\n"
     ]
    }
   ],
   "source": [
    "class Book:\n",
    "    def getBook(self):\n",
    "        self.title = input(\"Enter Book Title : \")\n",
    "        self.author = input(\"Enter Name of Author : \")\n",
    "    def dispBook(self):\n",
    "        print(\"Title : \",self.title)\n",
    "        print(\"Author : \",self.author)\n",
    "\n",
    "class Publisher(Book):\n",
    "    def getPublisher(self):\n",
    "        self.publisher = input(\"Enter Publisher Name : \")\n",
    "\n",
    "    def dispPublisher(self):\n",
    "        print(\"Publisher Name : \", self.publisher)\n",
    "\n",
    "pub = Publisher()\n",
    "pub.getBook()\n",
    "pub.getPublisher()\n",
    "print(\"-\"*50)\n",
    "print(\"-\"*50)\n",
    "pub.dispBook()\n",
    "pub.dispPublisher()"
   ]
  },
  {
   "cell_type": "markdown",
   "id": "cb0b0296-7c4c-44a2-9d37-5c2f042d26af",
   "metadata": {},
   "source": [
    "## Student Person"
   ]
  },
  {
   "cell_type": "code",
   "execution_count": 6,
   "id": "ff3b4dce-d193-4231-a0d0-32a1a3c2690f",
   "metadata": {},
   "outputs": [
    {
     "name": "stdin",
     "output_type": "stream",
     "text": [
      "Enter Name :  Adarsh\n",
      "Enter Age of Person :  18\n",
      "Enter Roll Number  :  61\n"
     ]
    },
    {
     "name": "stdout",
     "output_type": "stream",
     "text": [
      "Name :  Adarsh\n",
      "Age :  18\n",
      "Roll No :  61\n"
     ]
    }
   ],
   "source": [
    "class Person:\n",
    "    def getPerson(self):\n",
    "        self.name = input(\"Enter Name : \")\n",
    "        self.age = int(input(\"Enter Age of Person : \"))\n",
    "\n",
    "    def dispPerson(self):\n",
    "        print(\"Name : \", self.name)\n",
    "        print(\"Age : \", self.age)\n",
    "\n",
    "class Student(Person):\n",
    "    def getStud(self):\n",
    "        self.roll = int(input(\"Enter Roll Number  : \"))\n",
    "\n",
    "    def dispStud(self):\n",
    "        print(\"Roll No : \", self.roll)\n",
    "\n",
    "stud = Student()\n",
    "stud.getPerson()\n",
    "stud.getStud()\n",
    "stud.dispPerson()\n",
    "stud.dispStud()\n"
   ]
  },
  {
   "cell_type": "markdown",
   "id": "893753e4-13fc-446d-9e63-93537ff0e401",
   "metadata": {},
   "source": [
    "# Multilevel Inheritance"
   ]
  },
  {
   "cell_type": "code",
   "execution_count": 8,
   "id": "85347aad-c2ab-4c5a-82f1-ca9395508ec2",
   "metadata": {},
   "outputs": [
    {
     "name": "stdin",
     "output_type": "stream",
     "text": [
      "Enter Wholeseller Name :  Sony\n",
      "Enter Wholeseller ID :  1424\n",
      "Enter Retailer ID :  1234\n",
      "Enter Customer Name :  Adarsh\n"
     ]
    },
    {
     "name": "stdout",
     "output_type": "stream",
     "text": [
      "Wholeseller Name :  Sony\n",
      "Wholeseller ID :  1424\n",
      "Retailer ID :  1234\n",
      "Customer Name :  Adarsh\n"
     ]
    }
   ],
   "source": [
    "class Wholeseller:\n",
    "    def getWholeseller(self):\n",
    "        self.nameWholeseller = input(\"Enter Wholeseller Name : \")\n",
    "        self.idWholeseller = int(input(\"Enter Wholeseller ID : \"))\n",
    "\n",
    "class Retailer(Wholeseller):\n",
    "    def getRetailer(self):\n",
    "        self.idRetail = int(input(\"Enter Retailer ID : \"))\n",
    "\n",
    "class Customer(Retailer):\n",
    "    def getCustomer(self):\n",
    "        self.custName = input(\"Enter Customer Name : \")\n",
    "\n",
    "    def dispDetails(self):\n",
    "        print(\"Wholeseller Name : \", self.nameWholeseller)\n",
    "        print(\"Wholeseller ID : \", self.idWholeseller)\n",
    "        print(\"Retailer ID : \", self.idRetail)\n",
    "        print(\"Customer Name : \", self.custName)\n",
    "\n",
    "store = Customer()\n",
    "store.getWholeseller()\n",
    "store.getRetailer()\n",
    "store.getCustomer()\n",
    "store.dispDetails()"
   ]
  },
  {
   "cell_type": "markdown",
   "id": "06b15ae9-25e7-4bec-84c6-6d54829cf33d",
   "metadata": {},
   "source": [
    "# Task 1 : Employee -> Department"
   ]
  },
  {
   "cell_type": "code",
   "execution_count": 13,
   "id": "7e338b55-c5c5-4e78-b14d-1321b7403581",
   "metadata": {},
   "outputs": [
    {
     "name": "stdin",
     "output_type": "stream",
     "text": [
      "Enter Name :  Adarsh\n",
      "Enter ID :  1424\n",
      "Enter Department Name :   :  Computer\n"
     ]
    },
    {
     "name": "stdout",
     "output_type": "stream",
     "text": [
      "Name :  Adarsh\n",
      "ID :  1424\n",
      "Department Name :  Computer\n"
     ]
    }
   ],
   "source": [
    "class Employee:\n",
    "    def getEmployee(self):\n",
    "        self.name = input(\"Enter Name : \")\n",
    "        self.id = int(input(\"Enter ID : \"))\n",
    "\n",
    "    def dispEmployee(self):\n",
    "        print(\"Name : \", self.name)\n",
    "        print(\"ID : \", self.id)\n",
    "\n",
    "class Department(Employee):\n",
    "    def getDept(self):\n",
    "        self.deptName = input(\"Enter Department Name :   : \")\n",
    "\n",
    "    def dispDept(self):\n",
    "        print(\"Department Name : \", self.deptName)\n",
    "\n",
    "dept = Department()\n",
    "dept.getEmployee()\n",
    "dept.getDept()\n",
    "dept.dispEmployee()\n",
    "dept.dispDept()\n"
   ]
  },
  {
   "cell_type": "markdown",
   "id": "f3d35813-4c77-4b43-980d-0d8024b31f9d",
   "metadata": {},
   "source": [
    "# Task 2 : Person -> Patient -> Treatment"
   ]
  },
  {
   "cell_type": "code",
   "execution_count": 17,
   "id": "8161b46a-5812-4857-8fa6-df83532fa490",
   "metadata": {},
   "outputs": [
    {
     "name": "stdin",
     "output_type": "stream",
     "text": [
      "Enter Name :  Adarsh\n",
      "Enter Age :  18\n",
      "Enter Patient ID :  1424\n",
      "Enter Disease Name :  Cold\n"
     ]
    },
    {
     "name": "stdout",
     "output_type": "stream",
     "text": [
      "Name :  Adarsh\n",
      "Age :  18\n",
      "Patient ID :  1424\n",
      "Disease Name :  Cold\n"
     ]
    }
   ],
   "source": [
    "class Person:\n",
    "    def getPerson(self):\n",
    "        self.namePerson = input(\"Enter Name : \")\n",
    "        self.agePerson = int(input(\"Enter Age : \"))\n",
    "\n",
    "    def dispPerson(self):\n",
    "        print(\"Name : \", self.namePerson)\n",
    "        print(\"Age : \", self.agePerson)\n",
    "\n",
    "class Patient(Person):\n",
    "    def getPatient(self):\n",
    "        self.idPatient = int(input(\"Enter Patient ID : \"))\n",
    "\n",
    "    def dispPatient(self):\n",
    "        print(\"Patient ID : \", self.idPatient)\n",
    "\n",
    "class Treatement(Patient):\n",
    "    def getTreatement(self):\n",
    "        self.disease = input(\"Enter Disease Name : \")\n",
    "\n",
    "    def dispTreatement(self):\n",
    "        print(\"Disease Name : \",self.disease)\n",
    "\n",
    "treat = Treatement()\n",
    "treat.getPerson()\n",
    "treat.getPatient()\n",
    "treat.getTreatement()\n",
    "treat.dispPerson()\n",
    "treat.dispPatient()\n",
    "treat.dispTreatement()"
   ]
  },
  {
   "cell_type": "markdown",
   "id": "56b268ff-2e9d-4349-ab34-d399172ed929",
   "metadata": {},
   "source": [
    "# Hierarchical Inheritance"
   ]
  },
  {
   "cell_type": "code",
   "execution_count": 19,
   "id": "91fcfa97-8e58-412e-953d-5bbf134e3ee7",
   "metadata": {},
   "outputs": [
    {
     "name": "stdout",
     "output_type": "stream",
     "text": [
      "\n",
      "--- Second Year Student ---\n"
     ]
    },
    {
     "name": "stdin",
     "output_type": "stream",
     "text": [
      "Enter Student Name :  Adarsh\n",
      "Enter Student Roll No. :  61\n",
      "Enter SY Marks :  86\n"
     ]
    },
    {
     "name": "stdout",
     "output_type": "stream",
     "text": [
      "Name :  Adarsh\n",
      "Roll No :  61\n",
      "Student Marks (SY):  86\n",
      "\n",
      "--- Third Year Student ---\n"
     ]
    },
    {
     "name": "stdin",
     "output_type": "stream",
     "text": [
      "Enter Student Name :  Adarsh\n",
      "Enter Student Roll No. :  61\n",
      "Enter TY Marks :  95\n"
     ]
    },
    {
     "name": "stdout",
     "output_type": "stream",
     "text": [
      "Name :  Adarsh\n",
      "Roll No :  61\n",
      "Student Marks (TY):  95\n"
     ]
    }
   ],
   "source": [
    "class Student:\n",
    "    def getStudentDetails(self):\n",
    "        self.studentName = input(\"Enter Student Name : \")\n",
    "        self.studentRoll = input(\"Enter Student Roll No. : \")\n",
    "\n",
    "    def displayStudentDetails(self):\n",
    "        print(\"Name : \", self.studentName)\n",
    "        print(\"Roll No : \", self.studentRoll)\n",
    "\n",
    "class SecondYear(Student):\n",
    "    def getMarksSY(self):\n",
    "        self.syMarks = int(input(\"Enter SY Marks : \"))\n",
    "\n",
    "    def dispMarksSY(self):\n",
    "        print(\"Student Marks (SY): \", self.syMarks)\n",
    "\n",
    "class ThirdYear(Student):\n",
    "    def getMarksTY(self):\n",
    "        self.tyMarks = int(input(\"Enter TY Marks : \"))\n",
    "\n",
    "    def dispMarksTY(self):\n",
    "        print(\"Student Marks (TY): \", self.tyMarks)\n",
    "\n",
    "print(\"\\n--- Second Year Student ---\")\n",
    "sy_student = SecondYear()\n",
    "sy_student.getStudentDetails()\n",
    "sy_student.getMarksSY()\n",
    "sy_student.displayStudentDetails()\n",
    "sy_student.dispMarksSY()\n",
    "\n",
    "print(\"\\n--- Third Year Student ---\")\n",
    "ty_student = ThirdYear()\n",
    "ty_student.getStudentDetails()\n",
    "ty_student.getMarksTY()\n",
    "ty_student.displayStudentDetails()\n",
    "ty_student.dispMarksTY()\n"
   ]
  },
  {
   "cell_type": "markdown",
   "id": "26ec924c-3e4a-4eff-84c6-f47cc81412f0",
   "metadata": {},
   "source": [
    "# Hierarchical Inheritance"
   ]
  },
  {
   "cell_type": "code",
   "execution_count": 20,
   "id": "f1a68cd3-8787-42d8-8169-be668d983833",
   "metadata": {},
   "outputs": [
    {
     "name": "stdout",
     "output_type": "stream",
     "text": [
      "Enter Student Details\n"
     ]
    },
    {
     "name": "stdin",
     "output_type": "stream",
     "text": [
      "Enter Name :  Adarsh\n",
      "Enter Age :  18\n",
      "Enter Roll No :  61\n",
      "Enter Marks :  86\n"
     ]
    },
    {
     "name": "stdout",
     "output_type": "stream",
     "text": [
      "\n",
      "Student Details:\n",
      "Name :  Adarsh\n",
      "Age :  18\n",
      "Roll No :  61\n",
      "Marks :  86\n",
      "\n",
      "Enter Teacher Details\n"
     ]
    },
    {
     "name": "stdin",
     "output_type": "stream",
     "text": [
      "Enter Name :  Adarsh\n",
      "Enter Age :  18\n",
      "Enter Subject :  Python\n",
      "Enter Salary :  19009098\n"
     ]
    },
    {
     "name": "stdout",
     "output_type": "stream",
     "text": [
      "\n",
      "Teacher Details:\n",
      "Name :  Adarsh\n",
      "Age :  18\n",
      "Subject :  Python\n",
      "Salary :  19009098\n"
     ]
    }
   ],
   "source": [
    "class Person:\n",
    "    def getPerson(self):\n",
    "        self.name = input(\"Enter Name : \")\n",
    "        self.age = int(input(\"Enter Age : \"))\n",
    "\n",
    "    def dispPerson(self):\n",
    "        print(\"Name : \", self.name)\n",
    "        print(\"Age : \", self.age)\n",
    "\n",
    "class Student(Person):\n",
    "    def getStudent(self):\n",
    "        super().getPerson()\n",
    "        self.roll = input(\"Enter Roll No : \")\n",
    "        self.marks = int(input(\"Enter Marks : \"))\n",
    "\n",
    "    def dispStudent(self):\n",
    "        super().dispPerson()\n",
    "        print(\"Roll No : \", self.roll)\n",
    "        print(\"Marks : \", self.marks)\n",
    "\n",
    "class Teacher(Person):\n",
    "    def getTeacher(self):\n",
    "        super().getPerson()\n",
    "        self.subj = input(\"Enter Subject : \")\n",
    "        self.salary = int(input(\"Enter Salary : \"))\n",
    "\n",
    "    def dispTeacher(self):\n",
    "        super().dispPerson()\n",
    "        print(\"Subject : \", self.subj)\n",
    "        print(\"Salary : \", self.salary)\n",
    "\n",
    "print(\"Enter Student Details\")\n",
    "s = Student()\n",
    "s.getStudent()\n",
    "print(\"\\nStudent Details:\")\n",
    "s.dispStudent()\n",
    "\n",
    "print(\"\\nEnter Teacher Details\")\n",
    "t = Teacher()\n",
    "t.getTeacher()\n",
    "print(\"\\nTeacher Details:\")\n",
    "t.dispTeacher()\n"
   ]
  },
  {
   "cell_type": "code",
   "execution_count": null,
   "id": "5baa1165-f437-4478-99b5-719fcbf1ffbe",
   "metadata": {},
   "outputs": [],
   "source": []
  }
 ],
 "metadata": {
  "kernelspec": {
   "display_name": "Python [conda env:base] *",
   "language": "python",
   "name": "conda-base-py"
  },
  "language_info": {
   "codemirror_mode": {
    "name": "ipython",
    "version": 3
   },
   "file_extension": ".py",
   "mimetype": "text/x-python",
   "name": "python",
   "nbconvert_exporter": "python",
   "pygments_lexer": "ipython3",
   "version": "3.12.7"
  }
 },
 "nbformat": 4,
 "nbformat_minor": 5
}
