{
 "cells": [
  {
   "cell_type": "code",
   "execution_count": 3,
   "id": "869126dc-e0ff-4537-94b9-33e4fb287e41",
   "metadata": {},
   "outputs": [],
   "source": [
    "# Day 18 : 23.06.2025\n",
    "# Build ATM using only functions and not Module"
   ]
  },
  {
   "cell_type": "code",
   "execution_count": 2,
   "id": "0da607d3-ebfc-4499-89ca-1684877b29e7",
   "metadata": {},
   "outputs": [
    {
     "name": "stdout",
     "output_type": "stream",
     "text": [
      "**************************************************\n"
     ]
    },
    {
     "name": "stdin",
     "output_type": "stream",
     "text": [
      "Enter your Username :  Ast\n",
      "Enter your Pin :  1424\n"
     ]
    },
    {
     "name": "stdout",
     "output_type": "stream",
     "text": [
      "**************************************************\n",
      "Incorrect ID or Password\n"
     ]
    }
   ],
   "source": [
    "balance = 5000\n",
    "ch = 0\n",
    "username = \"Adarsh\"\n",
    "pin = 1424\n",
    "print(\"*\"*50)\n",
    "u = input(\"Enter your Username : \")\n",
    "p = int(input(\"Enter your Pin : \"))\n",
    "print(\"*\"*50)\n",
    "def checkBalance():\n",
    "    global balance\n",
    "    print(f\"Welcome {username}, Yout Balance is : \")\n",
    "    print(\"Balance : \", balance)\n",
    "\n",
    "def deposit():\n",
    "    global balance\n",
    "    amount = int(input(\"Enter the Amount to Deposit : \"))\n",
    "    balance += amount\n",
    "    print(f\"Successfully Deposited '₹{amount}' to your Account...\")\n",
    "\n",
    "def withdraw():\n",
    "    global balance\n",
    "    amount = int(input(\"Enter the Amount to Withdraw : \"))\n",
    "    if amount < balance:\n",
    "        balance -= amount\n",
    "        print(f\"Successfully Withdrawed '₹{amount}' from your Account...\")\n",
    "    else:\n",
    "        print(\"Insufficient Balance...\")\n",
    "if p == pin and u == username:\n",
    "    print(\"1. Check Balance\\n2. Deposit Money\\n3. Withdraw Money\\n4. Exit\")\n",
    "    ch = int(input(\"Enter your Choice : \"))\n",
    "    while ch != 4:\n",
    "        match ch:\n",
    "            case 1:\n",
    "                print(\"*\"*50)\n",
    "                checkBalance()\n",
    "                print(\"*\"*50)\n",
    "            case 2:\n",
    "                print(\"*\"*50)\n",
    "                deposit()\n",
    "                print(\"*\"*50)\n",
    "            case 3:\n",
    "                print(\"*\"*50)\n",
    "                withdraw()\n",
    "                print(\"*\"*50)\n",
    "            case _:\n",
    "                print(\"Incorrect Input\")\n",
    "                \n",
    "        print(\"*\"*50)\n",
    "        print(\"1. Check Balance\\n2. Deposit Money\\n3. Withdraw Money\\n4. Exit\")\n",
    "        ch = int(input(\"Enter your Choice : \"))\n",
    "        print(\"*\"*50)\n",
    "    else:\n",
    "        print(\"Thank You for Using ATM, Have a Good Day...\")\n",
    "else:\n",
    "    print(\"Incorrect ID or Password\")\n",
    "\n"
   ]
  },
  {
   "cell_type": "code",
   "execution_count": null,
   "id": "62e4a0ad-45be-4a6c-8bd3-37df0981e8c3",
   "metadata": {},
   "outputs": [],
   "source": []
  }
 ],
 "metadata": {
  "kernelspec": {
   "display_name": "Python [conda env:base] *",
   "language": "python",
   "name": "conda-base-py"
  },
  "language_info": {
   "codemirror_mode": {
    "name": "ipython",
    "version": 3
   },
   "file_extension": ".py",
   "mimetype": "text/x-python",
   "name": "python",
   "nbconvert_exporter": "python",
   "pygments_lexer": "ipython3",
   "version": "3.12.7"
  }
 },
 "nbformat": 4,
 "nbformat_minor": 5
}
