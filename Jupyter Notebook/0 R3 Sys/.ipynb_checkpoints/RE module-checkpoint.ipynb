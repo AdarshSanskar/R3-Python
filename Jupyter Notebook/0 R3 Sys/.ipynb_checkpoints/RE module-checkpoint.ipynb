{
 "cells": [
  {
   "cell_type": "code",
   "execution_count": 9,
   "id": "c447802a-b6c9-467c-a956-d4cc7b97f14a",
   "metadata": {},
   "outputs": [
    {
     "name": "stdout",
     "output_type": "stream",
     "text": [
      "Type of result:  <class 'callable_iterator'>\n",
      "--------------------------------------------------\n",
      "Start Index: 0 End Index: 4 Found Word: Open\n",
      "Start Index: 76 End Index: 80 Found Word: Open\n",
      "Start Index: 88 End Index: 92 Found Word: Open\n",
      "--------------------------------------------------\n"
     ]
    }
   ],
   "source": [
    "import re \n",
    "\n",
    "text = \"Open your eyes, look within. Are you satisfied with the life you're living? Open again, Opening\"\n",
    "\n",
    "word = \"Open\"\n",
    "\n",
    "result = re.finditer(word, text)\n",
    "\n",
    "print(\"Type of result: \",type(result))\n",
    "print(\"-\"*50)\n",
    "\n",
    "for match in result:\n",
    "    print(f\"Start Index: {match.start()} End Index: {match.end()} Found Word: {match.group()}\")\n",
    "\n",
    "print(\"-\"*50)"
   ]
  },
  {
   "cell_type": "markdown",
   "id": "e30be792-5756-4b06-9cc5-858e4ca56bee",
   "metadata": {},
   "source": [
    "### Search Pattern\n",
    "- \\s : search only spaces\n",
    "- \\S : without spaces\n",
    "- \\w : word character only\n",
    "- \\W : special symbol\n",
    "- \\d : digit only\n",
    "- \\D : All except digit\n",
    "- \".\" : all"
   ]
  },
  {
   "cell_type": "code",
   "execution_count": 29,
   "id": "57295c26-2078-49c2-9b6d-35a492962be7",
   "metadata": {},
   "outputs": [
    {
     "name": "stdout",
     "output_type": "stream",
     "text": [
      "Type of result:  <class 'callable_iterator'>\n",
      "--------------------------------------------------\n",
      "Start Index: 0 End Index: 1 Found Word: a\n",
      "Start Index: 1 End Index: 2 Found Word: b\n",
      "Start Index: 3 End Index: 4 Found Word: c\n",
      "Start Index: 4 End Index: 5 Found Word: d\n",
      "Start Index: 6 End Index: 7 Found Word: m\n",
      "Start Index: 7 End Index: 8 Found Word: p\n",
      "--------------------------------------------------\n"
     ]
    }
   ],
   "source": [
    "import re \n",
    "\n",
    "text = \"ab cd mp\"\n",
    "\n",
    "word = r\"\\S\"\n",
    "\n",
    "result = re.finditer(word, text)\n",
    "\n",
    "print(\"Type of result: \",type(result))\n",
    "print(\"-\"*50)\n",
    "\n",
    "for match in result:\n",
    "    print(f\"Start Index: {match.start()} End Index: {match.end()} Found Word: {match.group()}\")\n",
    "\n",
    "print(\"-\"*50)"
   ]
  },
  {
   "cell_type": "code",
   "execution_count": 15,
   "id": "d46fa2f5-b824-4df5-8949-285141ca4255",
   "metadata": {},
   "outputs": [
    {
     "name": "stdin",
     "output_type": "stream",
     "text": [
      "Enter the file name:  mail.txt\n"
     ]
    },
    {
     "name": "stdout",
     "output_type": "stream",
     "text": [
      "--------------------------------------------------\n",
      "Name\tMail\n",
      "--------------------------------------------------\n",
      "Tanay\ttanayhingane03@gmail.com\n",
      "Vedant\tvedbhor25@gmail.com\n",
      "Adarsh\tadarshsanskar@gmail.com\n"
     ]
    }
   ],
   "source": [
    "#continued: 11-07-25\n",
    "\n",
    "import re\n",
    "try:\n",
    "    fname = input(\"Enter the file name: \")\n",
    "    with open (fname, \"r\") as fp:\n",
    "        authdata = fp.read()\n",
    "\n",
    "    namelist = re.findall(r\"[A-Z][a-z]+\", authdata)\n",
    "\n",
    "    maillist = re.findall(r\"\\S+@\\S+\", authdata)\n",
    "\n",
    "    print(\"-\"*50)\n",
    "    print(\"Name\\tMail\")\n",
    "    print(\"-\"*50)\n",
    "    \n",
    "    for name, mail in zip(namelist,maillist):\n",
    "        print(f\"{name}\\t{mail}\")\n",
    "\n",
    "except Exception as e:\n",
    "    print(e)"
   ]
  },
  {
   "cell_type": "code",
   "execution_count": 16,
   "id": "5d30ae86-bb69-4c9b-9750-5cfc07956937",
   "metadata": {},
   "outputs": [
    {
     "name": "stdin",
     "output_type": "stream",
     "text": [
      "Enter the file name:  mail.txt\n"
     ]
    },
    {
     "name": "stdout",
     "output_type": "stream",
     "text": [
      "--------------------------------------------------\n",
      "Name\tDOB\n",
      "--------------------------------------------------\n",
      "Tanay\t03-07-2007\n",
      "Vedant\t25-01-2007\n",
      "Adarsh\t01-01-2007\n"
     ]
    }
   ],
   "source": [
    "import re\n",
    "try:\n",
    "    fname = input(\"Enter the file name: \")\n",
    "    with open (fname, \"r\") as fp:\n",
    "        authdata = fp.read()\n",
    "\n",
    "    namelist = re.findall(r\"[A-Z][a-z]+\", authdata)\n",
    "\n",
    "    doblist = re.findall(r\"\\d+-\\d+-\\d+\", authdata)\n",
    "\n",
    "    print(\"-\"*50)\n",
    "    print(\"Name\\tDOB\")\n",
    "    print(\"-\"*50)\n",
    "    \n",
    "    for name, dob in zip(namelist,doblist):\n",
    "        print(f\"{name}\\t{dob}\")\n",
    "\n",
    "except Exception as e:\n",
    "    print(e)"
   ]
  },
  {
   "cell_type": "code",
   "execution_count": 25,
   "id": "5d3a9ec2-2794-4823-9316-9f051a7fbd58",
   "metadata": {},
   "outputs": [
    {
     "name": "stdin",
     "output_type": "stream",
     "text": [
      "Enter the file name:  mail.txt\n"
     ]
    },
    {
     "name": "stdout",
     "output_type": "stream",
     "text": [
      "--------------------------------------------------\n",
      "Name\tDOB\n",
      "--------------------------------------------------\n",
      "Tanay\t8446663807\n",
      "Vedant\t1234567890\n",
      "Adarsh\t0987654321\n"
     ]
    }
   ],
   "source": [
    "import re\n",
    "try:\n",
    "    fname = input(\"Enter the file name: \")\n",
    "    with open (fname, \"r\") as fp:\n",
    "        authdata = fp.read()\n",
    "\n",
    "    namelist = re.findall(r\"[A-Z][a-z]+\", authdata)\n",
    "\n",
    "    numlist = re.findall(r\"\\d{10}\", authdata)\n",
    "\n",
    "    print(\"-\"*50)\n",
    "    print(\"Name\\tDOB\")\n",
    "    print(\"-\"*50)\n",
    "    \n",
    "    for name, num in zip(namelist,numlist):\n",
    "        print(f\"{name}\\t{num}\")\n",
    "\n",
    "except Exception as e:\n",
    "    print(e)"
   ]
  },
  {
   "cell_type": "code",
   "execution_count": 38,
   "id": "ca178054-337c-4c6e-a5c1-2dc4298a4c9a",
   "metadata": {},
   "outputs": [
    {
     "name": "stdin",
     "output_type": "stream",
     "text": [
      "Enter the file name:  mail.txt\n"
     ]
    },
    {
     "name": "stdout",
     "output_type": "stream",
     "text": [
      "\n",
      "Name\tDOB\t\tEmail\t\t\t\tNumber\t\tCountry\n",
      "Tanay\t03-07-2007\ttanayhingane@gmail.com\t\t9184466638\tIndia\n",
      "Vedant\t25-01-2007\tvedbhor25@gmail.com\t\t9112345678\tIndia\n",
      "Adarsh\t01-01-2007\tadarshsanskar@gmail.com\t\t9198765432\tIndia\n"
     ]
    }
   ],
   "source": [
    "import re\n",
    "try:\n",
    "    fname = input(\"Enter the file name: \")\n",
    "    with open (fname, \"r\") as fp:\n",
    "        authdata = fp.read()\n",
    "\n",
    "    namelist = re.findall(r\"[A-Z][a-z]+\", authdata)\n",
    "    doblist = re.findall(r\"\\d+-\\d+-\\d+\", authdata)\n",
    "    numlist = re.findall(r\"\\d{10}\", authdata)\n",
    "    maillist = re.findall(r\"\\S+@\\S+\", authdata)\n",
    "    colist = re.findall(r\"[+]\\d{2}\", authdata)\n",
    "\n",
    "    dt = { \"+91\" : \"India\" }\n",
    "    \n",
    "    print(\"\\nName\\tDOB\\t\\tEmail\\t\\t\\t\\tNumber\\t\\tCountry\")\n",
    "    \n",
    "    for name, dob, mail, num, co in zip(namelist,doblist,maillist,numlist, colist):\n",
    "        print(f\"{name}\\t{dob}\\t{mail}\\t\\t{num}\\t{dt[co]}\")\n",
    "\n",
    "except Exception as e:\n",
    "    print(e)"
   ]
  },
  {
   "cell_type": "code",
   "execution_count": null,
   "id": "1b945cd3-0b98-4e4b-906f-3a1134c053aa",
   "metadata": {},
   "outputs": [],
   "source": []
  }
 ],
 "metadata": {
  "kernelspec": {
   "display_name": "Python [conda env:base] *",
   "language": "python",
   "name": "conda-base-py"
  },
  "language_info": {
   "codemirror_mode": {
    "name": "ipython",
    "version": 3
   },
   "file_extension": ".py",
   "mimetype": "text/x-python",
   "name": "python",
   "nbconvert_exporter": "python",
   "pygments_lexer": "ipython3",
   "version": "3.12.7"
  }
 },
 "nbformat": 4,
 "nbformat_minor": 5
}
