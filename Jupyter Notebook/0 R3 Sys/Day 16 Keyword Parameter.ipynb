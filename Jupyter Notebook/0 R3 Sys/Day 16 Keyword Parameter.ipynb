{
 "cells": [
  {
   "cell_type": "code",
   "execution_count": 10,
   "id": "79101137-7c82-4bad-b771-bdf657df61e9",
   "metadata": {},
   "outputs": [],
   "source": [
    "#Day 16: Functions Continued and Keyword Parameter, Parameter Passing Technique"
   ]
  },
  {
   "cell_type": "code",
   "execution_count": 17,
   "id": "74c2476f-84f7-4ccf-b3cc-a2c3edfeb884",
   "metadata": {},
   "outputs": [
    {
     "name": "stdout",
     "output_type": "stream",
     "text": [
      "\tEmployee Information\n",
      "----------------------------------------------\n",
      "\tempno\tname\tsal\tdesg\tlang\n",
      "----------------------------------------------\n",
      "\t10\tAdarsh\t2.3\tSE\tPython\n",
      "\t14\tVedant\t4.5\tBED\tPython\n",
      "\t4\tTanay\t1.5\tFED\tPython\n"
     ]
    }
   ],
   "source": [
    "def displayEmployeeDetails(eno, ename, sal, dsg, lang = \"Python\"):\n",
    "    print(\"\\t{}\\t{}\\t{}\\t{}\\t{}\".format(eno, ename,sal, dsg, lang))\n",
    "\n",
    "print(\"\\tEmployee Information\")\n",
    "print(\"----------------------------------------------\")      \n",
    "print(\"\\tempno\\tname\\tsal\\tdesg\\tlang\")\n",
    "print(\"----------------------------------------------\")\n",
    "displayEmployeeDetails(10, \"Adarsh\", 2.3, \"SE\")\n",
    "displayEmployeeDetails(dsg = \"BED\", sal = 4.5, eno = 14, ename = \"Vedant\")\n",
    "displayEmployeeDetails(eno = 4, sal = 1.5, ename = \"Tanay\", dsg = \"FED\")"
   ]
  },
  {
   "cell_type": "code",
   "execution_count": null,
   "id": "1eac0aff-41a4-4aed-8eb9-883365a4c484",
   "metadata": {},
   "outputs": [],
   "source": []
  },
  {
   "cell_type": "code",
   "execution_count": 18,
   "id": "49734bbb-3816-442e-a6b9-f277fb3d897f",
   "metadata": {},
   "outputs": [
    {
     "name": "stdout",
     "output_type": "stream",
     "text": [
      "Sum :  30\n",
      "Sum :  15\n"
     ]
    }
   ],
   "source": [
    "def addnum(*no):         #Single Star (*) Follows the Structure of Tuple\n",
    "    print(\"Sum : \",sum(no))\n",
    "addnum(10, 20)\n",
    "addnum(1,2,3,4,5)"
   ]
  },
  {
   "cell_type": "code",
   "execution_count": null,
   "id": "1ab23eff-11ab-4d19-8e5c-bdc4779f8c89",
   "metadata": {},
   "outputs": [],
   "source": []
  },
  {
   "cell_type": "code",
   "execution_count": 26,
   "id": "e3a31b8c-02de-4362-a365-347afb95628d",
   "metadata": {},
   "outputs": [
    {
     "name": "stdout",
     "output_type": "stream",
     "text": [
      "('Adarsh', 'Tanay', 'Yadnesh', 'Vedant') \n",
      "(10, 20, 30, 40) \n",
      "('Adarsh', 40, 50, 'Hello') \n"
     ]
    }
   ],
   "source": [
    "def information(*info):\n",
    "    print(info, end=\" \")\n",
    "    print()\n",
    "\n",
    "information(\"Adarsh\", \"Tanay\", \"Yadnesh\", \"Vedant\")\n",
    "information(10,20,30,40)\n",
    "information(\"Adarsh\", 40, 50, \"Hello\")"
   ]
  },
  {
   "cell_type": "code",
   "execution_count": 27,
   "id": "68314048-58d3-4137-be7e-8d2af20b6d07",
   "metadata": {},
   "outputs": [
    {
     "name": "stdout",
     "output_type": "stream",
     "text": [
      "10 \n",
      "10 20 30 40 \n"
     ]
    }
   ],
   "source": [
    "def disp(*a):\n",
    "    for val in a:\n",
    "        print(val, end=\" \")\n",
    "    print()\n",
    "\n",
    "disp(10)\n",
    "disp(10, 20, 30, 40)"
   ]
  },
  {
   "cell_type": "code",
   "execution_count": null,
   "id": "b15cbe07-f624-46f5-b188-d02824540ada",
   "metadata": {},
   "outputs": [],
   "source": []
  },
  {
   "cell_type": "code",
   "execution_count": 41,
   "id": "80e0659c-b0ff-4167-ab50-374f458b2680",
   "metadata": {},
   "outputs": [
    {
     "name": "stdout",
     "output_type": "stream",
     "text": [
      "--------------------------------------------------\n",
      "Name : Adarsh \t Course : ML\n",
      "--------------------------------------------------\n",
      "95\n",
      "90\n",
      "91\n",
      "--------------------------------------------------\n",
      "Sum :  276\n",
      "Average :  92.0\n",
      "--------------------------------------------------\n",
      "Name : Tanay \t Course : Python\n",
      "--------------------------------------------------\n",
      "90\n",
      "95\n",
      "92\n",
      "--------------------------------------------------\n",
      "Sum :  277\n",
      "Average :  92.33333333333333\n"
     ]
    }
   ],
   "source": [
    "def studentDetails(name, *marks, course = \"Python\"):\n",
    "    print(\"-\"*50)\n",
    "    print(f\"Name : {name} \\t Course : {course}\")\n",
    "    print(\"-\"*50)\n",
    "    \n",
    "    for i in marks:\n",
    "        print(i)\n",
    "    print(\"-\"*50)\n",
    "    print(\"Sum : \", sum(marks))\n",
    "    print(\"Average : \", sum(marks)/len(marks))\n",
    "\n",
    "studentDetails(\"Adarsh\", 95, 90, 91, course = \"ML\")\n",
    "studentDetails(\"Tanay\", 90, 95, 92)"
   ]
  },
  {
   "cell_type": "code",
   "execution_count": 50,
   "id": "be6a8f9c-5402-40cc-b9aa-aaec851f765f",
   "metadata": {},
   "outputs": [
    {
     "name": "stdout",
     "output_type": "stream",
     "text": [
      "Name :  Adarsh\n",
      "java 95\n",
      "python 96\n",
      "--------------------------------------------------\n",
      "Name :  Yadnesh\n",
      "java 90\n",
      "python 92\n",
      "--------------------------------------------------\n"
     ]
    }
   ],
   "source": [
    "def marks(name, **subject):         # Double Star (**) Follows the Dictionary Structure\n",
    "    print(\"Name : \", name)\n",
    "    for i, j in subject.items():\n",
    "        print(i, j)\n",
    "    print(\"-\"* 50)\n",
    "\n",
    "marks(\"Adarsh\", java = 95, python = 96)\n",
    "marks(\"Yadnesh\", **{\"java\" : 90, \"python\" : 92})"
   ]
  },
  {
   "cell_type": "code",
   "execution_count": null,
   "id": "d7647a98-ec65-47f4-864c-7bb22ff63dae",
   "metadata": {},
   "outputs": [],
   "source": []
  }
 ],
 "metadata": {
  "kernelspec": {
   "display_name": "Python [conda env:base] *",
   "language": "python",
   "name": "conda-base-py"
  },
  "language_info": {
   "codemirror_mode": {
    "name": "ipython",
    "version": 3
   },
   "file_extension": ".py",
   "mimetype": "text/x-python",
   "name": "python",
   "nbconvert_exporter": "python",
   "pygments_lexer": "ipython3",
   "version": "3.12.7"
  }
 },
 "nbformat": 4,
 "nbformat_minor": 5
}
