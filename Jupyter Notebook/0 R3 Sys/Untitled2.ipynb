{
 "cells": [
  {
   "cell_type": "code",
   "execution_count": null,
   "id": "891b2e97-b3a3-4cae-b4ca-c570c9378260",
   "metadata": {},
   "outputs": [],
   "source": []
  }
 ],
 "metadata": {
  "kernelspec": {
   "display_name": "",
   "name": ""
  },
  "language_info": {
   "name": ""
  }
 },
 "nbformat": 4,
 "nbformat_minor": 5
}
