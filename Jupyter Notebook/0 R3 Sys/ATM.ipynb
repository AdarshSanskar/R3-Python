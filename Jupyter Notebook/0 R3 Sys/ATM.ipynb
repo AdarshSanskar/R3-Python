{
 "cells": [
  {
   "cell_type": "code",
   "execution_count": 2,
   "id": "338743d1-92f3-4eed-8999-991a30a0fe3f",
   "metadata": {},
   "outputs": [
    {
     "name": "stdout",
     "output_type": "stream",
     "text": [
      "Overwriting ATM.py\n"
     ]
    }
   ],
   "source": [
    "%%writefile ATM.py\n",
    "class ATM:\n",
    "    balance = 5000\n",
    "    def checkBalance():\n",
    "        global balance\n",
    "        print(f\"Welcome {username}, Yout Balance is : \")\n",
    "        print(\"Balance : \", balance)\n",
    "\n",
    "    def deposit():\n",
    "        global balance\n",
    "        amount = int(input(\"Enter the Amount to Deposit : \"))\n",
    "        balance += amount\n",
    "        print(f\"Successfully Deposited '₹{amount}' to your Account...\")\n",
    "    \n",
    "    def withdraw():\n",
    "        global balance\n",
    "        amount = int(input(\"Enter the Amount to Withdraw : \"))\n",
    "        if amount < balance:\n",
    "            balance -= amount\n",
    "            print(f\"Successfully Withdrawed '₹{amount}' from your Account...\")\n",
    "        else:\n",
    "            print(\"Insufficient Balance...\")"
   ]
  },
  {
   "cell_type": "code",
   "execution_count": null,
   "id": "cc71e94b-4844-47cd-a3fa-2ab690e35860",
   "metadata": {},
   "outputs": [],
   "source": []
  },
  {
   "cell_type": "code",
   "execution_count": null,
   "id": "a6f603e8-b495-4da1-9574-1fc1e1ff8caf",
   "metadata": {},
   "outputs": [],
   "source": []
  }
 ],
 "metadata": {
  "kernelspec": {
   "display_name": "Python [conda env:base] *",
   "language": "python",
   "name": "conda-base-py"
  },
  "language_info": {
   "codemirror_mode": {
    "name": "ipython",
    "version": 3
   },
   "file_extension": ".py",
   "mimetype": "text/x-python",
   "name": "python",
   "nbconvert_exporter": "python",
   "pygments_lexer": "ipython3",
   "version": "3.12.7"
  }
 },
 "nbformat": 4,
 "nbformat_minor": 5
}
