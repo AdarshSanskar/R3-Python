{
 "cells": [
  {
   "cell_type": "code",
   "execution_count": 2,
   "id": "36081f6b-9207-40f1-a99d-0fd4f17e798e",
   "metadata": {},
   "outputs": [],
   "source": [
    "# Day 11 : 13th June 2025\n",
    "# Taking User Input in Python\n",
    "# Operators in Python\n",
    "# Assignmant Operator in Python\n",
    "# Comparison Operator"
   ]
  },
  {
   "cell_type": "code",
   "execution_count": 8,
   "id": "96dc88d9-81d1-4ee8-aee7-b286234fe5db",
   "metadata": {},
   "outputs": [
    {
     "name": "stdin",
     "output_type": "stream",
     "text": [
      "Enter any Name :  Adarsh\n"
     ]
    },
    {
     "name": "stdout",
     "output_type": "stream",
     "text": [
      "Name :  Adarsh\n"
     ]
    }
   ],
   "source": [
    "a = input(\"Enter any Name : \")\n",
    "print(\"Name : \",a)"
   ]
  },
  {
   "cell_type": "code",
   "execution_count": 12,
   "id": "ec1a89ed-93d7-4853-bff7-7f05aae42657",
   "metadata": {},
   "outputs": [
    {
     "name": "stdin",
     "output_type": "stream",
     "text": [
      "Enter any Number :  12\n"
     ]
    },
    {
     "name": "stdout",
     "output_type": "stream",
     "text": [
      "Number :  12\n"
     ]
    }
   ],
   "source": [
    "no = int(input(\"Enter any Number : \"))\n",
    "print(\"Number : \", no)"
   ]
  },
  {
   "cell_type": "code",
   "execution_count": 15,
   "id": "7cd59107-6905-45c9-b6ed-02dea6efa902",
   "metadata": {},
   "outputs": [
    {
     "name": "stdin",
     "output_type": "stream",
     "text": [
      "Enter your Name :  Adarsh\n",
      "Enter your Phone Number :  1234567891\n",
      "Enter your Marks :  60\n"
     ]
    },
    {
     "name": "stdout",
     "output_type": "stream",
     "text": [
      "Name :  Adarsh\n",
      "Phone Number :  1234567891\n",
      "Marks :  60\n"
     ]
    }
   ],
   "source": [
    "name = input(\"Enter your Name : \")\n",
    "ph_no = int(input(\"Enter your Phone Number : \"))\n",
    "marks = int(input(\"Enter your Marks : \"))\n",
    "print(\"Name : \", name)\n",
    "print(\"Phone Number : \", ph_no)\n",
    "print(\"Marks : \", marks)"
   ]
  },
  {
   "cell_type": "code",
   "execution_count": 16,
   "id": "b643c6fd-1c23-47f9-afac-2834b357c2de",
   "metadata": {},
   "outputs": [],
   "source": [
    "# Using .format method"
   ]
  },
  {
   "cell_type": "code",
   "execution_count": 6,
   "id": "60cd638e-22b3-4016-94fa-66864ab8cb35",
   "metadata": {},
   "outputs": [
    {
     "name": "stdin",
     "output_type": "stream",
     "text": [
      "Enter Your Name :  Astile\n",
      "Enter Your Roll No :  61\n"
     ]
    },
    {
     "name": "stdout",
     "output_type": "stream",
     "text": [
      "Name of Student : Astile, Roll No. is : 61\n",
      "Value of Pi : 3.14\n"
     ]
    }
   ],
   "source": [
    "n = input(\"Enter Your Name : \")\n",
    "rno = input(\"Enter Your Roll No : \")\n",
    "pi = 3.1415926\n",
    "print(\"Name of Student : {}, Roll No. is : {}\".format(n,rno))\n",
    "print(\"Value of Pi : {:.2f}\".format(pi))"
   ]
  },
  {
   "cell_type": "code",
   "execution_count": 11,
   "id": "992870b1-cbe6-42ae-a158-f44f8e22e0bf",
   "metadata": {},
   "outputs": [],
   "source": [
    "# Operators in Python : \n",
    "\n",
    "# Arithemetic Operator\n",
    "# Conparison Operator / Relational Operator \n",
    "# Logical Operators\n",
    "# Assignment Operators\n",
    "# Bitwise Operator\n",
    "# Identity Operator\n",
    "# Membership Operator"
   ]
  },
  {
   "cell_type": "code",
   "execution_count": 12,
   "id": "09fc7604-1260-4e26-82b9-d0c541c050fd",
   "metadata": {},
   "outputs": [],
   "source": [
    "# Calculator"
   ]
  },
  {
   "cell_type": "code",
   "execution_count": 20,
   "id": "e7c52b6a-305b-4a03-bdb0-07b330152727",
   "metadata": {},
   "outputs": [
    {
     "name": "stdin",
     "output_type": "stream",
     "text": [
      "Enter Number 1 :  50\n",
      "Enter Number 2 :  80\n",
      "Enter Operation to Perform (+, -, *, /, //) :  +\n"
     ]
    },
    {
     "name": "stdout",
     "output_type": "stream",
     "text": [
      "Addition :  130\n"
     ]
    }
   ],
   "source": [
    "num1 = int(input(\"Enter Number 1 : \"))\n",
    "num2 = int(input(\"Enter Number 2 : \"))\n",
    "ch = input(\"Enter Operation to Perform (+, -, *, /, //) : \")\n",
    "if ch == '+':\n",
    "    result = num1 + num2\n",
    "    print(\"Addition : \",result)\n",
    "elif ch == '-':\n",
    "    result = num1 - num2\n",
    "    print(\"Subtraction : \",result)\n",
    "elif ch == '*':\n",
    "    result = num1 * num2\n",
    "    print(\"Multiplication : \",result)\n",
    "elif ch == '/':\n",
    "    result = num1 / num2\n",
    "    print(\"Division : \", result)\n",
    "elif ch == '//':\n",
    "    result = num1 // num2\n",
    "    print(\"Division : \",result)\n",
    "else:\n",
    "    print(\"Incorrect Input...\")"
   ]
  },
  {
   "cell_type": "code",
   "execution_count": 25,
   "id": "004e85ad-92c7-4d09-8504-a9263148b851",
   "metadata": {},
   "outputs": [
    {
     "name": "stdin",
     "output_type": "stream",
     "text": [
      "Enter Number 1 :  50\n",
      "Enter Number 2 :  10\n"
     ]
    },
    {
     "name": "stdout",
     "output_type": "stream",
     "text": [
      "Addition : 60\n",
      "Substraction : 40\n",
      "Multiplication : 500\n",
      "Division : 5.0\n",
      "Division : 5\n",
      "Modulo Division : 0\n"
     ]
    }
   ],
   "source": [
    "n1 = int(input(\"Enter Number 1 : \"))\n",
    "n2 = int(input(\"Enter Number 2 : \"))\n",
    "print(\"Addition : {}\".format(n1+n2))\n",
    "print(\"Substraction : {}\".format(n1-n2))\n",
    "print(\"Multiplication : {}\".format(n1*n2))\n",
    "print(\"Division : {}\".format(n1/n2))\n",
    "print(\"Division : {}\".format(n1//n2))\n",
    "print(\"Modulo Division : {}\".format(n1 % n2))"
   ]
  },
  {
   "cell_type": "code",
   "execution_count": 26,
   "id": "446108c1-15d5-4e77-b183-cc83c61b603d",
   "metadata": {},
   "outputs": [],
   "source": [
    "# Comparing Numbers"
   ]
  },
  {
   "cell_type": "code",
   "execution_count": 28,
   "id": "cc13f54c-ff1a-47f6-a16e-b6cf8b97b531",
   "metadata": {},
   "outputs": [
    {
     "name": "stdin",
     "output_type": "stream",
     "text": [
      "Enter Number 1 :  54\n",
      "Enter Number 2 :  65\n"
     ]
    },
    {
     "name": "stdout",
     "output_type": "stream",
     "text": [
      "Number 2 : 65 is Greater than Number 1 : 54\n"
     ]
    }
   ],
   "source": [
    "a1 = int(input(\"Enter Number 1 : \"))\n",
    "b1 = int(input(\"Enter Number 2 : \"))\n",
    "if a1 > b1:\n",
    "    print(\"Number 1 : {} is Greater than Number 2 : {}\".format(a1, b1))\n",
    "elif a1 < b1:\n",
    "    print(\"Number 2 : {} is Greater than Number 1 : {}\".format(b1, a1))\n",
    "elif a1 == b1:\n",
    "    print(\"Number 1 : {} is Equal to Number 2 : {}\".format(a1, b1))\n",
    "elif a1 != b1:\n",
    "    print(\"Number 1 : {} is  not Equal to Number 2 : {}\".format(a1, b1))\n"
   ]
  },
  {
   "cell_type": "code",
   "execution_count": null,
   "id": "0c9284ff-15ab-4266-9a7f-c99e9f31c306",
   "metadata": {},
   "outputs": [],
   "source": []
  }
 ],
 "metadata": {
  "kernelspec": {
   "display_name": "Python [conda env:base] *",
   "language": "python",
   "name": "conda-base-py"
  },
  "language_info": {
   "codemirror_mode": {
    "name": "ipython",
    "version": 3
   },
   "file_extension": ".py",
   "mimetype": "text/x-python",
   "name": "python",
   "nbconvert_exporter": "python",
   "pygments_lexer": "ipython3",
   "version": "3.12.7"
  }
 },
 "nbformat": 4,
 "nbformat_minor": 5
}
