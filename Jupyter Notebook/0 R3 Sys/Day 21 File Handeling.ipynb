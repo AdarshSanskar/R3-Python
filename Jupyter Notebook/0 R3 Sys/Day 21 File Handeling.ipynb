{
 "cells": [
  {
   "cell_type": "code",
   "execution_count": 1,
   "id": "c4a93df9-7d5e-48bc-a134-98fb324d1f06",
   "metadata": {},
   "outputs": [],
   "source": [
    "# Day 21 : Exception Handeling Cont. and File Handeling"
   ]
  },
  {
   "cell_type": "code",
   "execution_count": null,
   "id": "a31e9ce5-4c64-4c00-a9a8-0a8dc68b928c",
   "metadata": {},
   "outputs": [],
   "source": [
    "# Student Details\n",
    "def getstud():\n",
    "    try:\n",
    "        name = input(\"Enter Student Name : \")\n",
    "        roll_no = int(input(\"Enter Roll Number : \"))\n",
    "        age = int(input(\"Enter Age : \"))\n",
    "        marks = float(input(\"Enter Marks (out of 100) : \"))\n",
    "        branch = input(\"Enter Branch : \")\n",
    "\n",
    "    except ValueError:\n",
    "        print(\"Invalid Input! Age should be a number and marks should be a decimal or number\")\n",
    "\n",
    "    else:\n",
    "        print(\"\\n --- Student Details --- \")\n",
    "        print(\"Name : \", name)\n",
    "        print(\"Roll No : \", roll_no)\n",
    "        print(\"Age : \", age)\n",
    "        print(\"Marks : \", marks)\n",
    "        print(\"Branch : \", branch)\n",
    "\n",
    "    finally:\n",
    "        print(\"\\nStudent detail input process complete.\\n\")\n",
    "\n",
    "getstud()"
   ]
  },
  {
   "cell_type": "code",
   "execution_count": null,
   "id": "756db3b2-c820-4f5d-b25f-90e3ae444f2e",
   "metadata": {},
   "outputs": [],
   "source": []
  },
  {
   "cell_type": "code",
   "execution_count": null,
   "id": "80819dc0-4c21-4f69-aa70-8147fa3596b7",
   "metadata": {},
   "outputs": [],
   "source": [
    "#Python File Handeling"
   ]
  },
  {
   "cell_type": "code",
   "execution_count": null,
   "id": "fac92167-31d3-4b6e-85ae-1c1ec666a82b",
   "metadata": {},
   "outputs": [],
   "source": []
  },
  {
   "cell_type": "code",
   "execution_count": 7,
   "id": "aec973d5-a589-4fbf-b2a9-113de877c844",
   "metadata": {},
   "outputs": [
    {
     "name": "stdout",
     "output_type": "stream",
     "text": [
      "Hello World, \n",
      "Welcome to Machine Learning using Python\n",
      "Type of File :  <class '_io.TextIOWrapper'>\n",
      "Name of mode of File :  r+\n",
      "File is Readable :  True\n",
      "File is Writable :  True\n"
     ]
    }
   ],
   "source": [
    "file = open(\"hello.txt\", \"r+\")        # r : Read Mode\n",
    "content = file.read()\n",
    "print(content)\n",
    "print(\"Type of File : \", type(file))\n",
    "print(\"Name of mode of File : \", file.mode)\n",
    "print(\"File is Readable : \", file.readable())\n",
    "print(\"File is Writable : \", file.writable())\n",
    "file.close()"
   ]
  },
  {
   "cell_type": "code",
   "execution_count": 21,
   "id": "546d34ab-e572-4950-86bf-06cea30e02d9",
   "metadata": {},
   "outputs": [
    {
     "name": "stdout",
     "output_type": "stream",
     "text": [
      "Type of fp :  <class '_io.TextIOWrapper'>\n",
      "File Opened in Read Mode Successfully\n",
      "-------------------------------------------------------\n",
      "Name of mode :  r\n",
      "Can we Write :  False\n",
      "Can we Read :  True\n",
      "Is File Closed :  False\n",
      "-------------------------------------------------------\n",
      "\n",
      " This is Finally Block\n",
      "File Closed\n",
      "Is File Closed :  True\n"
     ]
    }
   ],
   "source": [
    "# With Exception\n",
    "try:\n",
    "    fp = open(\"hello.txt\",'r')\n",
    "except:\n",
    "    print(\"\\nFile does not exists\")\n",
    "else:\n",
    "    print(\"Type of fp : \", type(fp))\n",
    "    print(\"File Opened in Read Mode Successfully\")\n",
    "    print(\"-------------------------------------------------------\")\n",
    "    print(\"Name of mode : \", fp.mode)\n",
    "    print(\"Can we Write : \", fp.writable())\n",
    "    print(\"Can we Read : \", fp.readable())\n",
    "    print(\"Is File Closed : \", fp.closed)\n",
    "    print(\"-------------------------------------------------------\")\n",
    "\n",
    "finally:\n",
    "    print(\"\\n This is Finally Block\")\n",
    "    if fp != None:\n",
    "        print(\"File Closed\")\n",
    "        fp.close()\n",
    "        print(\"Is File Closed : \", fp.closed)"
   ]
  },
  {
   "cell_type": "code",
   "execution_count": 24,
   "id": "017ef517-7a4a-44a2-a471-c3ff7e07eea9",
   "metadata": {},
   "outputs": [
    {
     "name": "stdout",
     "output_type": "stream",
     "text": [
      "File Content : \n",
      "Hello World, \n",
      "Welcome to Machine Learning using Python\n"
     ]
    }
   ],
   "source": [
    "with open(\"hello.txt\", \"r\") as file:\n",
    "    content = file.read()\n",
    "    print(\"File Content : \")\n",
    "    print(content)"
   ]
  },
  {
   "cell_type": "code",
   "execution_count": null,
   "id": "33779a44-51ab-4c43-a4cb-d4791adc99f4",
   "metadata": {},
   "outputs": [],
   "source": []
  },
  {
   "cell_type": "code",
   "execution_count": 26,
   "id": "e73ece27-af38-4dd2-8d3a-278208fb9af9",
   "metadata": {},
   "outputs": [
    {
     "name": "stdin",
     "output_type": "stream",
     "text": [
      "Enter File Name to read its content:  hello.txt\n"
     ]
    },
    {
     "name": "stdout",
     "output_type": "stream",
     "text": [
      "Hello\n"
     ]
    }
   ],
   "source": [
    "try:\n",
    "    fname = input(\"Enter File Name to read its content: \")\n",
    "    with open(fname, \"r\") as fp:\n",
    "        filedata = fp.read(5)\n",
    "        print(filedata)\n",
    "except FileNotFoundError:\n",
    "    print(\"\\nFile does not exist.\")"
   ]
  },
  {
   "cell_type": "code",
   "execution_count": 29,
   "id": "22d0263d-4b2d-4abe-a7a2-474f5615819a",
   "metadata": {},
   "outputs": [
    {
     "name": "stdout",
     "output_type": "stream",
     "text": [
      "Initial Pos of fp :  0\n",
      "Now Pos of fp :  5\n",
      "Initial Pos of fp :  0\n",
      "Hello World, \n",
      "Welcome to Machine Learning using Python\n",
      "Now Pos of fp :  54\n"
     ]
    }
   ],
   "source": [
    "try:\n",
    "    with open(\"hello.txt\", \"r\") as fp:\n",
    "        print(\"Initial Pos of fp : \",fp.tell())\n",
    "        filedata = fp.read(5)\n",
    "        print(\"Now Pos of fp : \", fp.tell())\n",
    "        filedata = fp.read(10)\n",
    "        fp.seek(0)\n",
    "        print(\"Initial Pos of fp : \", fp.tell())\n",
    "        filedata=fp.read()\n",
    "        print(filedata)\n",
    "        print(\"Now Pos of fp : \", fp.tell())\n",
    "except FileNotFoundError:\n",
    "    print(\"\\nFile does not exists : \")"
   ]
  },
  {
   "cell_type": "code",
   "execution_count": 32,
   "id": "cac41a70-d075-4306-b4ea-4fb8c5f05e09",
   "metadata": {},
   "outputs": [
    {
     "name": "stdin",
     "output_type": "stream",
     "text": [
      "Enter the file name :  hello.txt\n"
     ]
    },
    {
     "name": "stdout",
     "output_type": "stream",
     "text": [
      "Hello World, \n",
      "\n"
     ]
    }
   ],
   "source": [
    "#readLine\n",
    "fname = input(\"Enter the file name : \")\n",
    "with open(fname,\"r\") as fp:\n",
    "    filedata=fp.readline()\n",
    "    print(filedata)"
   ]
  },
  {
   "cell_type": "code",
   "execution_count": 5,
   "id": "b528825e-c649-4ba3-8f4e-db7ff62ddb9a",
   "metadata": {},
   "outputs": [
    {
     "name": "stdin",
     "output_type": "stream",
     "text": [
      "Enter file name :  hello.txt\n"
     ]
    },
    {
     "name": "stdout",
     "output_type": "stream",
     "text": [
      "\n",
      "\n",
      "\n",
      "\n"
     ]
    }
   ],
   "source": [
    "# readLine : \n",
    "try:\n",
    "    fname = input(\"Enter file name : \")\n",
    "    with open(fname, \"r\") as file:\n",
    "        filedata = file.readline()\n",
    "        print(filedata)\n",
    "        filedata = file.readline()\n",
    "        print(filedata)\n",
    "        filedata = file.readline()\n",
    "        print(filedata)\n",
    "        filedata = file.readline()\n",
    "        print(filedata)\n",
    "\n",
    "except FileNotFoundError:\n",
    "    print(\"\\nFile does not exist...\")\n",
    "\n",
    "except IOError:\n",
    "    print(\"Youo Dont have permission to access this file...\")\n"
   ]
  },
  {
   "cell_type": "code",
   "execution_count": 7,
   "id": "9b66e5fc-8e41-43a8-8c32-d7533fc5809c",
   "metadata": {},
   "outputs": [],
   "source": [
    "# Writing data to file\n",
    "# filepointer.write(str)\n",
    "# filepointer.writeline(str(iterable object))"
   ]
  },
  {
   "cell_type": "code",
   "execution_count": 18,
   "id": "2f455b34-4507-4622-b6b8-cbdc7a615550",
   "metadata": {},
   "outputs": [
    {
     "ename": "AttributeError",
     "evalue": "'_io.TextIOWrapper' object has no attribute 'writeline'",
     "output_type": "error",
     "traceback": [
      "\u001b[1;31m---------------------------------------------------------------------------\u001b[0m",
      "\u001b[1;31mAttributeError\u001b[0m                            Traceback (most recent call last)",
      "Cell \u001b[1;32mIn[18], line 5\u001b[0m\n\u001b[0;32m      3\u001b[0m         file\u001b[38;5;241m.\u001b[39mwrite(\u001b[38;5;124m\"\u001b[39m\u001b[38;5;124mWriting to File : \u001b[39m\u001b[38;5;124m\"\u001b[39m)\n\u001b[0;32m      4\u001b[0m         file\u001b[38;5;241m.\u001b[39mwrite(\u001b[38;5;124m\"\u001b[39m\u001b[38;5;130;01m\\n\u001b[39;00m\u001b[38;5;124mHello World\u001b[39m\u001b[38;5;124m\"\u001b[39m)\n\u001b[1;32m----> 5\u001b[0m         file\u001b[38;5;241m.\u001b[39mwriteline(\u001b[38;5;124m\"\u001b[39m\u001b[38;5;124mWelcome to Python\u001b[39m\u001b[38;5;124m\"\u001b[39m)\n\u001b[0;32m      7\u001b[0m \u001b[38;5;28;01mexcept\u001b[39;00m \u001b[38;5;167;01mPermissionError\u001b[39;00m:\n\u001b[0;32m      8\u001b[0m     \u001b[38;5;28mprint\u001b[39m(\u001b[38;5;124m\"\u001b[39m\u001b[38;5;124mYou have no Permission to Write into this file...\u001b[39m\u001b[38;5;124m\"\u001b[39m)\n",
      "\u001b[1;31mAttributeError\u001b[0m: '_io.TextIOWrapper' object has no attribute 'writeline'"
     ]
    }
   ],
   "source": [
    "try:\n",
    "    with open(\"hello.txt\",\"a\") as file:\n",
    "        file.write(\"Writing to File : \")\n",
    "        file.write(\"\\nHello World\")\n",
    "        file.write(\"\\nWelcome to Python\")\n",
    "\n",
    "except PermissionError:\n",
    "    print(\"You have no Permission to Write into this file...\")"
   ]
  },
  {
   "cell_type": "code",
   "execution_count": null,
   "id": "0ecf8e42-6d74-4483-83fe-4cf15e34d042",
   "metadata": {},
   "outputs": [],
   "source": []
  }
 ],
 "metadata": {
  "kernelspec": {
   "display_name": "Python [conda env:base] *",
   "language": "python",
   "name": "conda-base-py"
  },
  "language_info": {
   "codemirror_mode": {
    "name": "ipython",
    "version": 3
   },
   "file_extension": ".py",
   "mimetype": "text/x-python",
   "name": "python",
   "nbconvert_exporter": "python",
   "pygments_lexer": "ipython3",
   "version": "3.12.7"
  }
 },
 "nbformat": 4,
 "nbformat_minor": 5
}
