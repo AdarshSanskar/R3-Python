{
 "cells": [
  {
   "cell_type": "code",
   "execution_count": null,
   "id": "e6bfc574-428e-4b49-9db0-3747cb0c136e",
   "metadata": {},
   "outputs": [],
   "source": [
    "# Day 3: What are Variables, Data Types, 12 Types of Variables, Fundamental Variables "
   ]
  },
  {
   "cell_type": "code",
   "execution_count": 32,
   "id": "54a564e1-d4c2-4242-9f25-bf680827e0e6",
   "metadata": {},
   "outputs": [
    {
     "name": "stdout",
     "output_type": "stream",
     "text": [
      "10.25 <class 'float'>\n",
      "Adarsh\n",
      "(2+3j) <class 'complex'>\n",
      "True <class 'bool'>\n",
      "1424 <class 'int'>\n"
     ]
    }
   ],
   "source": [
    "a = 10.25\n",
    "print(a,type(a))\n",
    "\n",
    "str = \"Adarsh\"\n",
    "print(str)\n",
    "\n",
    "com = 2 + 3j\n",
    "print(com, type(com))\n",
    "\n",
    "b = True\n",
    "print(b,type(b))\n",
    "\n",
    "var_1 = 1\n",
    "_var2 = 2\n",
    "#@var3 = 3  #Error\n",
    "\n",
    "d = 1424\n",
    "print(d, type(d))\n",
    "\n"
   ]
  },
  {
   "cell_type": "code",
   "execution_count": 19,
   "id": "023e78c7-a1bb-4dc2-9921-18709949f37c",
   "metadata": {},
   "outputs": [
    {
     "name": "stdout",
     "output_type": "stream",
     "text": [
      "True\n",
      "False\n",
      "True <class 'bool'>\n",
      "2\n",
      "-2\n",
      "1\n"
     ]
    }
   ],
   "source": [
    "print(True)\n",
    "\n",
    "print(False)\n",
    "\n",
    "a = True\n",
    "print(a, type(a))\n",
    "\n",
    "print(True + True)\n",
    "\n",
    "print(True * 2 - 4)\n",
    "\n",
    "print(True * True - False * True\n",
    "     )"
   ]
  },
  {
   "cell_type": "code",
   "execution_count": 27,
   "id": "580fa6ae-b120-4e77-8368-ab047631093a",
   "metadata": {},
   "outputs": [
    {
     "name": "stdout",
     "output_type": "stream",
     "text": [
      "10\n",
      "A\n",
      "Mac\n"
     ]
    }
   ],
   "source": [
    "a, b, c = 10, 'A', \"Mac\"\n",
    "print(a)\n",
    "print(b)\n",
    "print(c)"
   ]
  },
  {
   "cell_type": "code",
   "execution_count": 30,
   "id": "98b0b2c2-ff9f-4ea1-b848-94c26477fc95",
   "metadata": {},
   "outputs": [
    {
     "name": "stdout",
     "output_type": "stream",
     "text": [
      "This is a Single Line String\n",
      "\n",
      "This is a \n",
      "Multiline String in Python\n"
     ]
    }
   ],
   "source": [
    "print(\"This is a Single Line String\")\n",
    "\n",
    "print(\"\"\"\\nThis is a \n",
    "Multiline String in Python\"\"\")"
   ]
  },
  {
   "cell_type": "code",
   "execution_count": null,
   "id": "5aa4a9fa-5ddb-4f8f-9fdc-7ccaacc972e2",
   "metadata": {},
   "outputs": [],
   "source": []
  }
 ],
 "metadata": {
  "kernelspec": {
   "display_name": "Python 3 (ipykernel)",
   "language": "python",
   "name": "python3"
  },
  "language_info": {
   "codemirror_mode": {
    "name": "ipython",
    "version": 3
   },
   "file_extension": ".py",
   "mimetype": "text/x-python",
   "name": "python",
   "nbconvert_exporter": "python",
   "pygments_lexer": "ipython3",
   "version": "3.13.4"
  }
 },
 "nbformat": 4,
 "nbformat_minor": 5
}
