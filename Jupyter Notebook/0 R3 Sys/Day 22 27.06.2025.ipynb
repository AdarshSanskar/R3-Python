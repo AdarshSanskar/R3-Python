{
 "cells": [
  {
   "cell_type": "code",
   "execution_count": 1,
   "id": "dd979062-facf-4d6a-8755-2192f2aef51f",
   "metadata": {},
   "outputs": [],
   "source": [
    "# Day 22 : 27/06/2025\n"
   ]
  },
  {
   "cell_type": "code",
   "execution_count": 2,
   "id": "55f3f63f-4707-45eb-9e52-27a6e67c2d9f",
   "metadata": {},
   "outputs": [
    {
     "name": "stdin",
     "output_type": "stream",
     "text": [
      "Enter file name :  hello.txt\n"
     ]
    },
    {
     "name": "stdout",
     "output_type": "stream",
     "text": [
      "Writing to File : Writing to File : Writing to File : \n",
      "\n",
      "Hello WorldWriting to File : \n",
      "\n",
      "Hello WorldWriting to File : \n",
      "\n",
      "Hello World\n"
     ]
    }
   ],
   "source": [
    "# readLine : \n",
    "try:\n",
    "    fname = input(\"Enter file name : \")\n",
    "    with open(fname, \"r\") as file:\n",
    "        filedata = file.readline()\n",
    "        print(filedata)\n",
    "        filedata = file.readline()\n",
    "        print(filedata)\n",
    "        filedata = file.readline()\n",
    "        print(filedata)\n",
    "        filedata = file.readline()\n",
    "        print(filedata)\n",
    "\n",
    "except FileNotFoundError:\n",
    "    print(\"\\nFile does not exist...\")\n",
    "\n",
    "except IOError:\n",
    "    print(\"Youo Dont have permission to access this file...\")\n"
   ]
  },
  {
   "cell_type": "code",
   "execution_count": 3,
   "id": "a6863a61-3624-44f9-a508-5ca4bef1d65e",
   "metadata": {},
   "outputs": [],
   "source": [
    "# Writing data to file\n",
    "# filepointer.write(str)\n",
    "# filepointer.writeline(str(iterable object))"
   ]
  },
  {
   "cell_type": "code",
   "execution_count": 8,
   "id": "c71c434e-acba-4d6d-aa83-68efeded4eb1",
   "metadata": {},
   "outputs": [],
   "source": [
    "try:\n",
    "    with open(\"hello.txt\",\"w\") as file:\n",
    "        file.write(\"Writing to File : \")\n",
    "        file.write(\"\\nHello World\")\n",
    "        file.write(\"\\nWelcome to Python\")\n",
    "except PermissionError:\n",
    "    print(\"You have no Permission to Write into this file...\")"
   ]
  },
  {
   "cell_type": "code",
   "execution_count": null,
   "id": "412cea26-da70-493b-aae3-c38057568230",
   "metadata": {},
   "outputs": [],
   "source": []
  },
  {
   "cell_type": "code",
   "execution_count": 35,
   "id": "ae94c007-d270-40fb-acdc-ecf1dfc84b29",
   "metadata": {},
   "outputs": [
    {
     "name": "stdout",
     "output_type": "stream",
     "text": [
      "Content of File : \n",
      " Python\n",
      "Java\n",
      "JavaScript\n",
      "C++\n",
      "C\n",
      "['Python', 'Java', 'JavaScript', 'C++', 'C']\n",
      "{'Name ': 'Adarsh', 'Roll No ': 61, 'Course ': 'CM'}\n",
      "{'Adarsh', 'Yadnesh', 'Vedant', 'Tanay'}\n",
      "\n"
     ]
    }
   ],
   "source": [
    "lst = [\"Python\", \"Java\", \"JavaScript\", \"C++\", \"C\"]\n",
    "dictionary = {\"Name \" : \"Adarsh\", \"Roll No \" : 61, \"Course \" : \"CM\"}\n",
    "s = {\"Adarsh\", \"Tanay\", \"Yadnesh\", \"Vedant\"}\n",
    "try:\n",
    "    with open(\"hello.txt\", \"w+\") as file:\n",
    "        # content = \"\"\n",
    "        # for i in lst:\n",
    "        #     content = content + i + \"\\n\"\n",
    "\n",
    "        # file.write(content)\n",
    "        for i in lst:\n",
    "            file.write(str(i)+\"\\n\")\n",
    "            \n",
    "        file.writelines(str(lst)+\"\\n\")\n",
    "        file.writelines(str(dictionary)+\"\\n\")\n",
    "        file.writelines(str(s)+\"\\n\")\n",
    "        file.seek(0)\n",
    "        content = file.read()\n",
    "        print(\"Content of File : \\n\", content)\n",
    "except FileNotFoundError:\n",
    "    print(\"File not Present... \")\n",
    "except PermissionError:\n",
    "    print(\"You have no permission to access the file...\")\n",
    "except Exception as e:\n",
    "    print(\"Exxception Occured : \", e)"
   ]
  },
  {
   "cell_type": "code",
   "execution_count": null,
   "id": "8ccbe81c-0ed9-4ba9-9e90-fb9164989794",
   "metadata": {},
   "outputs": [],
   "source": []
  },
  {
   "cell_type": "code",
   "execution_count": null,
   "id": "70c9ece8-4e12-40e2-ba59-692abed31108",
   "metadata": {},
   "outputs": [],
   "source": []
  }
 ],
 "metadata": {
  "kernelspec": {
   "display_name": "Python [conda env:base] *",
   "language": "python",
   "name": "conda-base-py"
  },
  "language_info": {
   "codemirror_mode": {
    "name": "ipython",
    "version": 3
   },
   "file_extension": ".py",
   "mimetype": "text/x-python",
   "name": "python",
   "nbconvert_exporter": "python",
   "pygments_lexer": "ipython3",
   "version": "3.12.7"
  }
 },
 "nbformat": 4,
 "nbformat_minor": 5
}
