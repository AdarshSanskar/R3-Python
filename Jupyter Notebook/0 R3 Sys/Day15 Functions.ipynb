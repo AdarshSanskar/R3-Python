{
 "cells": [
  {
   "cell_type": "code",
   "execution_count": 1,
   "id": "a5db8b59-fe28-4286-8a78-2b3a5d0af35b",
   "metadata": {},
   "outputs": [],
   "source": [
    "#Day 15 : Functions in Python"
   ]
  },
  {
   "cell_type": "code",
   "execution_count": 2,
   "id": "98ca97f8-a52e-4370-b903-34695d79d220",
   "metadata": {},
   "outputs": [],
   "source": [
    "#Function"
   ]
  },
  {
   "cell_type": "code",
   "execution_count": 4,
   "id": "22ceaf42-df38-4977-924b-9ce91badc322",
   "metadata": {},
   "outputs": [
    {
     "name": "stdin",
     "output_type": "stream",
     "text": [
      "Enter The First Number :- 45\n",
      "Enter The Second Number :-  45\n"
     ]
    },
    {
     "name": "stdout",
     "output_type": "stream",
     "text": [
      "45 + 45 = 90\n"
     ]
    }
   ],
   "source": [
    "def add():\n",
    "    x1=int(input(\"Enter The First Number :-\"))\n",
    "    x2=int(input(\"Enter The Second Number :- \"))\n",
    "    a=x1+x2\n",
    "    print(f\"{x1} + {x2} = {a}\")\n",
    "\n",
    "\n",
    "add()"
   ]
  },
  {
   "cell_type": "code",
   "execution_count": 12,
   "id": "07dcdb01-a294-4c89-b09e-5be92b3e0295",
   "metadata": {},
   "outputs": [
    {
     "name": "stdin",
     "output_type": "stream",
     "text": [
      "Enter Your First Number  :-  12\n",
      "Enter Your Second Number :-  34\n"
     ]
    },
    {
     "name": "stdout",
     "output_type": "stream",
     "text": [
      "Addition Of 12 + 34 = 46\n",
      "Subtraction Of 12 - 34 = -22\n",
      "Division Of 12 / 34 = 0.35294117647058826\n",
      "Multiplication Of 12 * 34 = 408\n",
      "MOdule Of 12 % 34 = 12\n"
     ]
    }
   ],
   "source": [
    "#Calculator\n",
    "\n",
    "def add(a,b):\n",
    "    return a+b\n",
    "\n",
    "def sub(a,b):\n",
    "    return a-b\n",
    "\n",
    "def mul(a,b):\n",
    "    return a*b\n",
    "\n",
    "def div(a,b):\n",
    "    return a/b\n",
    "\n",
    "def mod(a,b):\n",
    "    return a%b\n",
    "\n",
    "#main\n",
    "\n",
    "\n",
    "a=int(input(\"Enter Your First Number  :- \"))\n",
    "b=int(input(\"Enter Your Second Number :- \"))\n",
    "\n",
    "print(f\"Addition Of {a} + {b} = {add(a,b)}\")\n",
    "print(f\"Subtraction Of {a} - {b} = {sub(a,b)}\")\n",
    "print(f\"Division Of {a} / {b} = {div(a,b)}\")\n",
    "print(f\"Multiplication Of {a} * {b} = {mul(a,b)}\")\n",
    "print(f\"MOdule Of {a} % {b} = {mod(a,b)}\")\n",
    "\n"
   ]
  },
  {
   "cell_type": "code",
   "execution_count": 9,
   "id": "b0778f40-449a-4693-a626-e366e94c8264",
   "metadata": {},
   "outputs": [
    {
     "name": "stdin",
     "output_type": "stream",
     "text": [
      "Enter Principle :-  20\n",
      "Enter Rate :-  20\n",
      "Enter Time :-  20\n"
     ]
    },
    {
     "name": "stdout",
     "output_type": "stream",
     "text": [
      " Simple Interest :- 80.0\n"
     ]
    }
   ],
   "source": [
    "def si(p,r,t):\n",
    "    return float((p*r*t)/100)\n",
    "\n",
    "p=int(input(\"Enter Principle :- \"))\n",
    "r=int(input(\"Enter Rate :- \"))\n",
    "t=int(input(\"Enter Time :- \"))\n",
    "\n",
    "print(f\" Simple Interest :- {si(p,r,t)}\")"
   ]
  },
  {
   "cell_type": "code",
   "execution_count": 11,
   "id": "cb4e0b63-8856-4836-9b35-8423680ab337",
   "metadata": {},
   "outputs": [
    {
     "name": "stdin",
     "output_type": "stream",
     "text": [
      "Enter The Number :-  12\n"
     ]
    },
    {
     "name": "stdout",
     "output_type": "stream",
     "text": [
      " 12 X 1 = 12\n",
      " 12 X 2 = 24\n",
      " 12 X 3 = 36\n",
      " 12 X 4 = 48\n",
      " 12 X 5 = 60\n",
      " 12 X 6 = 72\n",
      " 12 X 7 = 84\n",
      " 12 X 8 = 96\n",
      " 12 X 9 = 108\n",
      " 12 X 10 = 120\n"
     ]
    }
   ],
   "source": [
    "#Table\n",
    "def table(n):\n",
    "    for i in range(1,11,1):\n",
    "        print(f\" {n} X {i} = {n*i}\")\n",
    "#main\n",
    "num=int(input(\"Enter The Number :- \"))\n",
    "\n",
    "table(num)"
   ]
  },
  {
   "cell_type": "code",
   "execution_count": 16,
   "id": "055d2c9a-8bdd-4e87-8d3f-798ba9f50792",
   "metadata": {},
   "outputs": [
    {
     "name": "stdin",
     "output_type": "stream",
     "text": [
      "Enter Your Number :-  4\n"
     ]
    },
    {
     "name": "stdout",
     "output_type": "stream",
     "text": [
      "4 Is Even \n"
     ]
    }
   ],
   "source": [
    "# Even_odd\n",
    "\n",
    "def eve(n):\n",
    "    if n%2==0:\n",
    "        print(f\"{n} Is Even \")\n",
    "    else:\n",
    "        print(f\"{n} Is Odd \")\n",
    "\n",
    "#main\n",
    "\n",
    "num=int(input(\"Enter Your Number :- \"))\n",
    "eve(num)"
   ]
  },
  {
   "cell_type": "code",
   "execution_count": 17,
   "id": "8a386597-ddcb-444e-b504-49b9ac33ade6",
   "metadata": {},
   "outputs": [
    {
     "name": "stdin",
     "output_type": "stream",
     "text": [
      "Enter Your Name :-  Yadnesh\n",
      "Enter Your Roll :-  62\n"
     ]
    },
    {
     "name": "stdout",
     "output_type": "stream",
     "text": [
      "The Name Of The Student :- Yadnesh\n",
      "The Roll Of The Student :- 62\n",
      "The Class Of The Student :- TYCM-MAC\n"
     ]
    },
    {
     "name": "stdin",
     "output_type": "stream",
     "text": [
      "Enter Your Name :-  Vedant\n",
      "Enter Your Roll :-  56\n"
     ]
    },
    {
     "name": "stdout",
     "output_type": "stream",
     "text": [
      "The Name Of The Student :- Vedant\n",
      "The Roll Of The Student :- 56\n",
      "The Class Of The Student :- TYCM-MAC\n"
     ]
    }
   ],
   "source": [
    "#default Parameter\n",
    "\n",
    "def stud(name,roll,clas=\"TYCM-MAC\"):\n",
    "    print(f\"The Name Of The Student :- {name}\")\n",
    "    print(f\"The Roll Of The Student :- {roll}\")\n",
    "    print(f\"The Class Of The Student :- {clas}\")\n",
    "\n",
    "#main\n",
    "\n",
    "name=input(\"Enter Your Name :- \")\n",
    "roll=input(\"Enter Your Roll :- \")\n",
    "\n",
    "stud(name,roll)\n",
    "\n",
    "name1=input(\"Enter Your Name :- \")\n",
    "roll1=input(\"Enter Your Roll :- \")\n",
    "\n",
    "stud(name1,roll1)"
   ]
  },
  {
   "cell_type": "code",
   "execution_count": 19,
   "id": "91d095fa-1b06-4d7c-9b5b-50fd61fe68e9",
   "metadata": {},
   "outputs": [
    {
     "name": "stdin",
     "output_type": "stream",
     "text": [
      "Enter The Radius Of Circle :-  4\n"
     ]
    },
    {
     "name": "stdout",
     "output_type": "stream",
     "text": [
      "Area Of Circle :- 50.24\n",
      "Circumference Of Circle :- 25.12\n"
     ]
    }
   ],
   "source": [
    "#Area Of Circle,Circumference of Circle\n",
    "\n",
    "def Circle(r,pi=3.14):\n",
    "    print(f\"Area Of Circle :- {pi*r*r}\")\n",
    "    print(f\"Circumference Of Circle :- {2*pi*r}\")\n",
    "\n",
    "#main\n",
    "\n",
    "Radius=int(input(\"Enter The Radius Of Circle :- \"))\n",
    "Circle(Radius)"
   ]
  },
  {
   "cell_type": "code",
   "execution_count": 22,
   "id": "ee17276f-30ed-4381-b21d-ad81e135ac63",
   "metadata": {},
   "outputs": [
    {
     "name": "stdin",
     "output_type": "stream",
     "text": [
      "Enter The Number :-  10\n"
     ]
    },
    {
     "name": "stdout",
     "output_type": "stream",
     "text": [
      "0 1 1 2 3 5 8 13 21 "
     ]
    }
   ],
   "source": [
    "#fabonnaci Series\n",
    "\n",
    "def fab(n):\n",
    "    a=0\n",
    "    b=1\n",
    "    for i in range(1,n,1):\n",
    "        print(a,end=\" \")\n",
    "        a,b=b,a+b\n",
    "\n",
    "#main\n",
    "num=int(input(\"Enter The Number :- \"))\n",
    "fab(num)"
   ]
  },
  {
   "cell_type": "code",
   "execution_count": 24,
   "id": "5c792a9c-de12-4dc3-a6e6-6cdc59cb3a39",
   "metadata": {},
   "outputs": [
    {
     "name": "stdin",
     "output_type": "stream",
     "text": [
      "Enter The Number :-  5\n"
     ]
    },
    {
     "name": "stdout",
     "output_type": "stream",
     "text": [
      "Factorial Of : 5 is 120\n"
     ]
    }
   ],
   "source": [
    "#Factorial\n",
    "\n",
    "def fact(num):\n",
    "    factorial = 1\n",
    "    for i in range(1,num+1):\n",
    "        factorial *= i\n",
    "    print(\"Factorial Of :\",num,\"is\",factorial)\n",
    "\n",
    "#main\n",
    "num = int(input(\"Enter The Number :- \"))\n",
    "fact(num)"
   ]
  },
  {
   "cell_type": "code",
   "execution_count": null,
   "id": "7f097541-d6b3-4a95-8d57-7ab2807d8516",
   "metadata": {},
   "outputs": [],
   "source": []
  }
 ],
 "metadata": {
  "kernelspec": {
   "display_name": "Python [conda env:base] *",
   "language": "python",
   "name": "conda-base-py"
  },
  "language_info": {
   "codemirror_mode": {
    "name": "ipython",
    "version": 3
   },
   "file_extension": ".py",
   "mimetype": "text/x-python",
   "name": "python",
   "nbconvert_exporter": "python",
   "pygments_lexer": "ipython3",
   "version": "3.12.7"
  }
 },
 "nbformat": 4,
 "nbformat_minor": 5
}
